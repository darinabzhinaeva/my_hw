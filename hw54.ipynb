{
 "cells": [
  {
   "cell_type": "code",
   "execution_count": 7,
   "metadata": {},
   "outputs": [],
   "source": [
    "def coins_set(s, denominations):\n",
    "    denominations = sorted(denominations, reverse=True)\n",
    "    cur_sum = 0\n",
    "    cur_denomination = denominations[0]\n",
    "    answer, res = [], []\n",
    "    for denomination in denominations:    \n",
    "        if s - cur_sum >= denomination:\n",
    "            coins_count = (s - cur_sum) // denomination\n",
    "            cur_sum += coins_count * denomination\n",
    "            answer.append((denomination, coins_count))\n",
    "    for pair in answer:\n",
    "        for a in range(pair[1]):\n",
    "            res.append(pair[0])\n",
    "    return res"
   ]
  },
  {
   "cell_type": "code",
   "execution_count": 11,
   "metadata": {},
   "outputs": [
    {
     "name": "stdout",
     "output_type": "stream",
     "text": [
      "[10, 2, 1]\n",
      "[20, 20, 2, 2]\n",
      "[20, 5, 2]\n",
      "[5, 2, 1]\n",
      "[10, 5, 2]\n"
     ]
    }
   ],
   "source": [
    "uk_denominations = [1, 2, 5, 10, 20, 50]\n",
    "print(coins_set(13, uk_denominations))\n",
    "print(coins_set(44, uk_denominations))\n",
    "print(coins_set(27, uk_denominations))\n",
    "print(coins_set(8, uk_denominations))\n",
    "print(coins_set(17, uk_denominations))"
   ]
  },
  {
   "cell_type": "code",
   "execution_count": 12,
   "metadata": {},
   "outputs": [
    {
     "name": "stdout",
     "output_type": "stream",
     "text": [
      "[5, 2]\n",
      "[10, 10, 2, 2]\n",
      "[10, 10, 10, 1]\n",
      "[5, 2, 2]\n",
      "[10, 5]\n"
     ]
    }
   ],
   "source": [
    "rus_denominations = [1, 2, 5, 10]\n",
    "print(coins_set(7, rus_denominations))\n",
    "print(coins_set(24, rus_denominations))\n",
    "print(coins_set(31, rus_denominations))\n",
    "print(coins_set(9, rus_denominations))\n",
    "print(coins_set(15, rus_denominations))"
   ]
  },
  {
   "cell_type": "code",
   "execution_count": 13,
   "metadata": {},
   "outputs": [
    {
     "name": "stdout",
     "output_type": "stream",
     "text": [
      "[2, 2, 2, 2, 2, 2, 2]\n",
      "[20, 2, 2, 2, 2, 1]\n",
      "[20, 2, 2, 2, 2, 2, 2, 2]\n",
      "[2, 2, 2, 1]\n",
      "[2, 2, 2, 2, 2]\n"
     ]
    }
   ],
   "source": [
    "random_denominations = [20, 15, 2, 1]\n",
    "print(coins_set(14, random_denominations))\n",
    "print(coins_set(29, random_denominations))\n",
    "print(coins_set(34, random_denominations))\n",
    "print(coins_set(7, random_denominations))\n",
    "print(coins_set(10, random_denominations))"
   ]
  }
 ],
 "metadata": {
  "kernelspec": {
   "display_name": "Python 3",
   "language": "python",
   "name": "python3"
  },
  "language_info": {
   "codemirror_mode": {
    "name": "ipython",
    "version": 3
   },
   "file_extension": ".py",
   "mimetype": "text/x-python",
   "name": "python",
   "nbconvert_exporter": "python",
   "pygments_lexer": "ipython3",
   "version": "3.8.3"
  }
 },
 "nbformat": 4,
 "nbformat_minor": 4
}
