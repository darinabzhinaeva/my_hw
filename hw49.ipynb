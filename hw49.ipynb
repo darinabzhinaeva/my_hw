{
 "cells": [
  {
   "cell_type": "code",
   "execution_count": 1,
   "metadata": {},
   "outputs": [],
   "source": [
    "import numpy as np\n",
    "from random import randint\n",
    "import numpy.ma as ma"
   ]
  },
  {
   "cell_type": "code",
   "execution_count": 2,
   "metadata": {},
   "outputs": [
    {
     "data": {
      "text/plain": [
       "array([[ 4,  6,  7, ...,  5,  7,  2],\n",
       "       [ 8,  2, 10, ...,  1,  1,  9],\n",
       "       [ 3,  4,  4, ...,  8,  4,  2],\n",
       "       ...,\n",
       "       [ 1,  9,  3, ...,  8,  6,  2],\n",
       "       [ 0, 10, 10, ...,  9,  7,  6],\n",
       "       [ 2,  7,  1, ...,  7,  9,  8]])"
      ]
     },
     "execution_count": 2,
     "metadata": {},
     "output_type": "execute_result"
    }
   ],
   "source": [
    "a = np.zeros((1000, 1000), dtype='int')\n",
    "for i in range(a.shape[0]):\n",
    "    for j in range(a.shape[1]):\n",
    "        a[i][j] = randint(0, 10)\n",
    "        \n",
    "a"
   ]
  },
  {
   "cell_type": "code",
   "execution_count": 3,
   "metadata": {},
   "outputs": [
    {
     "data": {
      "text/plain": [
       "array([[1, 1, 1, ..., 0, 1, 0],\n",
       "       [0, 0, 1, ..., 0, 1, 1],\n",
       "       [0, 1, 0, ..., 1, 1, 1],\n",
       "       ...,\n",
       "       [0, 1, 1, ..., 1, 1, 1],\n",
       "       [0, 0, 1, ..., 0, 1, 0],\n",
       "       [1, 0, 0, ..., 1, 1, 1]])"
      ]
     },
     "execution_count": 3,
     "metadata": {},
     "output_type": "execute_result"
    }
   ],
   "source": [
    "rand_mask = np.zeros((1000, 1000), dtype='int')\n",
    "for i in range(rand_mask.shape[0]):\n",
    "    for j in range(rand_mask.shape[1]):\n",
    "        rand_mask[i][j] = randint(0, 1)\n",
    "\n",
    "rand_mask"
   ]
  },
  {
   "cell_type": "code",
   "execution_count": 4,
   "metadata": {},
   "outputs": [
    {
     "data": {
      "text/plain": [
       "masked_array(\n",
       "  data=[[--, --, --, ..., 5, --, 2],\n",
       "        [8, 2, --, ..., 1, --, --],\n",
       "        [3, --, 4, ..., --, --, --],\n",
       "        ...,\n",
       "        [1, --, --, ..., --, --, --],\n",
       "        [0, 10, --, ..., 9, --, 6],\n",
       "        [--, 7, 1, ..., --, --, --]],\n",
       "  mask=[[ True,  True,  True, ..., False,  True, False],\n",
       "        [False, False,  True, ..., False,  True,  True],\n",
       "        [False,  True, False, ...,  True,  True,  True],\n",
       "        ...,\n",
       "        [False,  True,  True, ...,  True,  True,  True],\n",
       "        [False, False,  True, ..., False,  True, False],\n",
       "        [ True, False, False, ...,  True,  True,  True]],\n",
       "  fill_value=999999)"
      ]
     },
     "execution_count": 4,
     "metadata": {},
     "output_type": "execute_result"
    }
   ],
   "source": [
    "b = ma.masked_array(a, mask=rand_mask)\n",
    "b"
   ]
  },
  {
   "cell_type": "code",
   "execution_count": 5,
   "metadata": {},
   "outputs": [
    {
     "name": "stdout",
     "output_type": "stream",
     "text": [
      "4.997211\n",
      "4.99537505535706\n"
     ]
    }
   ],
   "source": [
    "print(a.mean())\n",
    "print(b.mean())"
   ]
  },
  {
   "cell_type": "code",
   "execution_count": 46,
   "metadata": {},
   "outputs": [
    {
     "data": {
      "text/plain": [
       "5.06"
      ]
     },
     "execution_count": 46,
     "metadata": {},
     "output_type": "execute_result"
    }
   ],
   "source": [
    "# we have mean of a = 4.997211 because we use all elements in matrix\n",
    "a.sum()/(a.shape[0] * a.shape[1])"
   ]
  },
  {
   "cell_type": "code",
   "execution_count": 81,
   "metadata": {},
   "outputs": [
    {
     "name": "stdout",
     "output_type": "stream",
     "text": [
      "2.16\n",
      "4.909090909090909\n"
     ]
    }
   ],
   "source": [
    "# we have mean of b = 4.99537505535706 because we use not all elements, but only elements that we have(empty cells we dont count)\n",
    "print(b.sum()/(b.shape[0] * b.shape[1]))# it will be if we count all elements\n",
    "print(b.sum()/b.count()) # it is when we use sum of elements and number of existing elements"
   ]
  },
  {
   "cell_type": "code",
   "execution_count": 126,
   "metadata": {},
   "outputs": [
    {
     "data": {
      "text/plain": [
       "array([[ 0,  1,  2,  3,  4,  5,  6,  7,  8,  9, 10, 11, 12, 13, 14, 15,\n",
       "        16, 17, 18, 19, 20, 21, 22, 23, 24, 25, 26, 27, 28, 29, 30, 31,\n",
       "        32, 33, 34, 35, 36, 37, 38, 39, 40, 41, 42, 43, 44, 45, 46, 47,\n",
       "        48, 49, 50, 51, 52, 53, 54, 55, 56, 57, 58, 59, 60, 61, 62, 63,\n",
       "        64, 65, 66, 67, 68, 69, 70, 71, 72, 73, 74, 75, 76, 77, 78, 79,\n",
       "        80, 81, 82, 83, 84, 85, 86, 87, 88, 89, 90, 91, 92, 93, 94, 95,\n",
       "        96, 97, 98, 99]])"
      ]
     },
     "execution_count": 126,
     "metadata": {},
     "output_type": "execute_result"
    }
   ],
   "source": [
    "c = np.full(shape=(1, 100), fill_value=range(100))\n",
    "c"
   ]
  },
  {
   "cell_type": "code",
   "execution_count": 129,
   "metadata": {},
   "outputs": [
    {
     "name": "stdout",
     "output_type": "stream",
     "text": [
      "(100, 100)\n",
      "[0 0 0 0 0 0 0 0 0 0 0 0 0 0 0 0 0 0 0 0 0 0 0 0 0 0 0 0 0 0 0 0 0 0 0 0 0\n",
      " 0 0 0 0 0 0 0 0 0 0 0 0 0 0 0 0 0 0 0 0 0 0 0 0 0 0 0 0 0 0 0 0 0 0 0 0 0\n",
      " 0 0 0 0 0 0 0 0 0 0 0 0 0 0 0 0 0 0 0 0 0 0 0 0 0 0]\n",
      "[99 99 99 99 99 99 99 99 99 99 99 99 99 99 99 99 99 99 99 99 99 99 99 99\n",
      " 99 99 99 99 99 99 99 99 99 99 99 99 99 99 99 99 99 99 99 99 99 99 99 99\n",
      " 99 99 99 99 99 99 99 99 99 99 99 99 99 99 99 99 99 99 99 99 99 99 99 99\n",
      " 99 99 99 99 99 99 99 99 99 99 99 99 99 99 99 99 99 99 99 99 99 99 99 99\n",
      " 99 99 99 99]\n",
      "[[ 0  1  2 ... 97 98 99]\n",
      " [ 0  1  2 ... 97 98 99]\n",
      " [ 0  1  2 ... 97 98 99]\n",
      " ...\n",
      " [ 0  1  2 ... 97 98 99]\n",
      " [ 0  1  2 ... 97 98 99]\n",
      " [ 0  1  2 ... 97 98 99]]\n"
     ]
    }
   ],
   "source": [
    "d = np.tile(c, (100, 1))\n",
    "print(d.shape)\n",
    "print(d[:, 0])\n",
    "print(d[:, 99])\n",
    "print(d)"
   ]
  }
 ],
 "metadata": {
  "kernelspec": {
   "display_name": "Python 3",
   "language": "python",
   "name": "python3"
  },
  "language_info": {
   "codemirror_mode": {
    "name": "ipython",
    "version": 3
   },
   "file_extension": ".py",
   "mimetype": "text/x-python",
   "name": "python",
   "nbconvert_exporter": "python",
   "pygments_lexer": "ipython3",
   "version": "3.8.3"
  }
 },
 "nbformat": 4,
 "nbformat_minor": 4
}
