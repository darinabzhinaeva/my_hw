{
 "cells": [
  {
   "cell_type": "code",
   "execution_count": 4,
   "metadata": {},
   "outputs": [],
   "source": [
    "import numpy as np\n",
    "from random import randint\n",
    "import numpy.ma as ma"
   ]
  },
  {
   "cell_type": "code",
   "execution_count": 39,
   "metadata": {},
   "outputs": [
    {
     "data": {
      "text/plain": [
       "array([[ 3,  9,  8,  6,  9,  6,  9,  4,  3,  6],\n",
       "       [ 5,  8,  9,  7, 10,  5,  4,  9,  5, 10],\n",
       "       [10,  1,  6,  5,  9,  7,  8,  9,  7,  7],\n",
       "       [ 6,  4,  0,  2,  3,  5,  4,  2,  9,  7],\n",
       "       [ 5,  0,  3,  0,  1,  1,  5, 10,  0,  2],\n",
       "       [ 3,  3,  3,  2,  1,  0,  9,  3,  7,  8],\n",
       "       [ 9,  3,  6,  5, 10,  6,  7,  6,  6,  3],\n",
       "       [ 6,  6,  0,  0,  3,  7,  0,  3,  1,  7],\n",
       "       [ 2, 10,  8,  4,  2,  7,  4,  0,  5,  4],\n",
       "       [ 8, 10,  0,  7,  0, 10,  4,  0,  5, 10]])"
      ]
     },
     "execution_count": 39,
     "metadata": {},
     "output_type": "execute_result"
    }
   ],
   "source": [
    "a = np.zeros((10, 10), dtype='int')\n",
    "for i in range(a.shape[0]):\n",
    "    for j in range(a.shape[1]):\n",
    "        a[i][j] = randint(0, 10)\n",
    "        \n",
    "a"
   ]
  },
  {
   "cell_type": "code",
   "execution_count": 40,
   "metadata": {},
   "outputs": [
    {
     "data": {
      "text/plain": [
       "array([[1, 0, 1, 0, 1, 0, 1, 0, 0, 1],\n",
       "       [0, 0, 0, 1, 1, 0, 1, 0, 1, 1],\n",
       "       [0, 1, 0, 1, 0, 1, 1, 0, 0, 0],\n",
       "       [0, 0, 0, 0, 1, 0, 1, 1, 1, 1],\n",
       "       [0, 1, 1, 1, 1, 0, 1, 0, 1, 1],\n",
       "       [0, 1, 0, 0, 0, 0, 1, 1, 1, 1],\n",
       "       [1, 1, 0, 1, 0, 0, 1, 1, 1, 1],\n",
       "       [0, 0, 1, 0, 1, 0, 0, 1, 0, 0],\n",
       "       [1, 1, 1, 1, 1, 1, 0, 1, 1, 0],\n",
       "       [1, 1, 1, 1, 0, 1, 1, 0, 0, 1]])"
      ]
     },
     "execution_count": 40,
     "metadata": {},
     "output_type": "execute_result"
    }
   ],
   "source": [
    "rand_mask = np.zeros((10, 10), dtype='int')\n",
    "for i in range(rand_mask.shape[0]):\n",
    "    for j in range(rand_mask.shape[1]):\n",
    "        rand_mask[i][j] = randint(0, 1)\n",
    "\n",
    "rand_mask"
   ]
  },
  {
   "cell_type": "code",
   "execution_count": 80,
   "metadata": {},
   "outputs": [
    {
     "data": {
      "text/plain": [
       "masked_array(\n",
       "  data=[[--, 9, --, 6, --, 6, --, 4, 3, --],\n",
       "        [5, 8, 9, --, --, 5, --, 9, --, --],\n",
       "        [10, --, 6, --, 9, --, --, 9, 7, 7],\n",
       "        [6, 4, 0, 2, --, 5, --, --, --, --],\n",
       "        [5, --, --, --, --, 1, --, 10, --, --],\n",
       "        [3, --, 3, 2, 1, 0, --, --, --, --],\n",
       "        [--, --, 6, --, 10, 6, --, --, --, --],\n",
       "        [6, 6, --, 0, --, 7, 0, --, 1, 7],\n",
       "        [--, --, --, --, --, --, 4, --, --, 4],\n",
       "        [--, --, --, --, 0, --, --, 0, 5, --]],\n",
       "  mask=[[ True, False,  True, False,  True, False,  True, False, False,\n",
       "          True],\n",
       "        [False, False, False,  True,  True, False,  True, False,  True,\n",
       "          True],\n",
       "        [False,  True, False,  True, False,  True,  True, False, False,\n",
       "         False],\n",
       "        [False, False, False, False,  True, False,  True,  True,  True,\n",
       "          True],\n",
       "        [False,  True,  True,  True,  True, False,  True, False,  True,\n",
       "          True],\n",
       "        [False,  True, False, False, False, False,  True,  True,  True,\n",
       "          True],\n",
       "        [ True,  True, False,  True, False, False,  True,  True,  True,\n",
       "          True],\n",
       "        [False, False,  True, False,  True, False, False,  True, False,\n",
       "         False],\n",
       "        [ True,  True,  True,  True,  True,  True, False,  True,  True,\n",
       "         False],\n",
       "        [ True,  True,  True,  True, False,  True,  True, False, False,\n",
       "          True]],\n",
       "  fill_value=999999)"
      ]
     },
     "execution_count": 80,
     "metadata": {},
     "output_type": "execute_result"
    }
   ],
   "source": [
    "b = ma.masked_array(a, mask=rand_mask)\n",
    "b"
   ]
  },
  {
   "cell_type": "code",
   "execution_count": 42,
   "metadata": {},
   "outputs": [
    {
     "name": "stdout",
     "output_type": "stream",
     "text": [
      "5.06\n",
      "4.909090909090909\n"
     ]
    }
   ],
   "source": [
    "print(a.mean())\n",
    "print(b.mean())"
   ]
  },
  {
   "cell_type": "code",
   "execution_count": 46,
   "metadata": {},
   "outputs": [
    {
     "data": {
      "text/plain": [
       "5.06"
      ]
     },
     "execution_count": 46,
     "metadata": {},
     "output_type": "execute_result"
    }
   ],
   "source": [
    "# we have mean of a = 5.06 because we use all elements in matrix\n",
    "a.sum()/(a.shape[0] * a.shape[1])"
   ]
  },
  {
   "cell_type": "code",
   "execution_count": 81,
   "metadata": {},
   "outputs": [
    {
     "name": "stdout",
     "output_type": "stream",
     "text": [
      "2.16\n",
      "4.909090909090909\n"
     ]
    }
   ],
   "source": [
    "# we have mean of b = 4.909090909090909 because we use not all elements, but only elements that we have(empty cells we dont count)\n",
    "print(b.sum()/(b.shape[0] * b.shape[1]))# it will be if we count all elements\n",
    "print(b.sum()/b.count()) # it is when we use sum of elements and number of existing elements"
   ]
  },
  {
   "cell_type": "code",
   "execution_count": 126,
   "metadata": {},
   "outputs": [
    {
     "data": {
      "text/plain": [
       "array([[ 0,  1,  2,  3,  4,  5,  6,  7,  8,  9, 10, 11, 12, 13, 14, 15,\n",
       "        16, 17, 18, 19, 20, 21, 22, 23, 24, 25, 26, 27, 28, 29, 30, 31,\n",
       "        32, 33, 34, 35, 36, 37, 38, 39, 40, 41, 42, 43, 44, 45, 46, 47,\n",
       "        48, 49, 50, 51, 52, 53, 54, 55, 56, 57, 58, 59, 60, 61, 62, 63,\n",
       "        64, 65, 66, 67, 68, 69, 70, 71, 72, 73, 74, 75, 76, 77, 78, 79,\n",
       "        80, 81, 82, 83, 84, 85, 86, 87, 88, 89, 90, 91, 92, 93, 94, 95,\n",
       "        96, 97, 98, 99]])"
      ]
     },
     "execution_count": 126,
     "metadata": {},
     "output_type": "execute_result"
    }
   ],
   "source": [
    "c = np.full(shape=(1, 100), fill_value=range(100))\n",
    "c"
   ]
  },
  {
   "cell_type": "code",
   "execution_count": 129,
   "metadata": {},
   "outputs": [
    {
     "name": "stdout",
     "output_type": "stream",
     "text": [
      "(100, 100)\n",
      "[0 0 0 0 0 0 0 0 0 0 0 0 0 0 0 0 0 0 0 0 0 0 0 0 0 0 0 0 0 0 0 0 0 0 0 0 0\n",
      " 0 0 0 0 0 0 0 0 0 0 0 0 0 0 0 0 0 0 0 0 0 0 0 0 0 0 0 0 0 0 0 0 0 0 0 0 0\n",
      " 0 0 0 0 0 0 0 0 0 0 0 0 0 0 0 0 0 0 0 0 0 0 0 0 0 0]\n",
      "[99 99 99 99 99 99 99 99 99 99 99 99 99 99 99 99 99 99 99 99 99 99 99 99\n",
      " 99 99 99 99 99 99 99 99 99 99 99 99 99 99 99 99 99 99 99 99 99 99 99 99\n",
      " 99 99 99 99 99 99 99 99 99 99 99 99 99 99 99 99 99 99 99 99 99 99 99 99\n",
      " 99 99 99 99 99 99 99 99 99 99 99 99 99 99 99 99 99 99 99 99 99 99 99 99\n",
      " 99 99 99 99]\n",
      "[[ 0  1  2 ... 97 98 99]\n",
      " [ 0  1  2 ... 97 98 99]\n",
      " [ 0  1  2 ... 97 98 99]\n",
      " ...\n",
      " [ 0  1  2 ... 97 98 99]\n",
      " [ 0  1  2 ... 97 98 99]\n",
      " [ 0  1  2 ... 97 98 99]]\n"
     ]
    }
   ],
   "source": [
    "d = np.tile(c, (100, 1))\n",
    "print(d.shape)\n",
    "print(d[:, 0])\n",
    "print(d[:, 99])\n",
    "print(d)"
   ]
  }
 ],
 "metadata": {
  "kernelspec": {
   "display_name": "Python 3",
   "language": "python",
   "name": "python3"
  },
  "language_info": {
   "codemirror_mode": {
    "name": "ipython",
    "version": 3
   },
   "file_extension": ".py",
   "mimetype": "text/x-python",
   "name": "python",
   "nbconvert_exporter": "python",
   "pygments_lexer": "ipython3",
   "version": "3.8.3"
  }
 },
 "nbformat": 4,
 "nbformat_minor": 4
}
