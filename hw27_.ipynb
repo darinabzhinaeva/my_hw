{
 "cells": [
  {
   "cell_type": "code",
   "execution_count": 94,
   "metadata": {},
   "outputs": [],
   "source": [
    "import pandas as pd\n",
    "import numpy as np\n",
    "import math"
   ]
  },
  {
   "cell_type": "code",
   "execution_count": 5,
   "metadata": {},
   "outputs": [
    {
     "data": {
      "text/html": [
       "<div>\n",
       "<style scoped>\n",
       "    .dataframe tbody tr th:only-of-type {\n",
       "        vertical-align: middle;\n",
       "    }\n",
       "\n",
       "    .dataframe tbody tr th {\n",
       "        vertical-align: top;\n",
       "    }\n",
       "\n",
       "    .dataframe thead th {\n",
       "        text-align: right;\n",
       "    }\n",
       "</style>\n",
       "<table border=\"1\" class=\"dataframe\">\n",
       "  <thead>\n",
       "    <tr style=\"text-align: right;\">\n",
       "      <th></th>\n",
       "      <th>first exam</th>\n",
       "      <th>second exam</th>\n",
       "      <th>is admitted</th>\n",
       "    </tr>\n",
       "  </thead>\n",
       "  <tbody>\n",
       "    <tr>\n",
       "      <th>0</th>\n",
       "      <td>34.623660</td>\n",
       "      <td>78.024693</td>\n",
       "      <td>0</td>\n",
       "    </tr>\n",
       "    <tr>\n",
       "      <th>1</th>\n",
       "      <td>30.286711</td>\n",
       "      <td>43.894998</td>\n",
       "      <td>0</td>\n",
       "    </tr>\n",
       "    <tr>\n",
       "      <th>2</th>\n",
       "      <td>35.847409</td>\n",
       "      <td>72.902198</td>\n",
       "      <td>0</td>\n",
       "    </tr>\n",
       "    <tr>\n",
       "      <th>3</th>\n",
       "      <td>60.182599</td>\n",
       "      <td>86.308552</td>\n",
       "      <td>1</td>\n",
       "    </tr>\n",
       "    <tr>\n",
       "      <th>4</th>\n",
       "      <td>79.032736</td>\n",
       "      <td>75.344376</td>\n",
       "      <td>1</td>\n",
       "    </tr>\n",
       "  </tbody>\n",
       "</table>\n",
       "</div>"
      ],
      "text/plain": [
       "   first exam  second exam  is admitted\n",
       "0   34.623660    78.024693            0\n",
       "1   30.286711    43.894998            0\n",
       "2   35.847409    72.902198            0\n",
       "3   60.182599    86.308552            1\n",
       "4   79.032736    75.344376            1"
      ]
     },
     "execution_count": 5,
     "metadata": {},
     "output_type": "execute_result"
    }
   ],
   "source": [
    "df = pd.read_csv(\"admitted.csv\")\n",
    "df.head()"
   ]
  },
  {
   "cell_type": "code",
   "execution_count": 8,
   "metadata": {},
   "outputs": [
    {
     "data": {
      "image/png": "[encoded data removed]",
      "text/plain": [
       "<Figure size 432x288 with 1 Axes>"
      ]
     },
     "metadata": {
      "needs_background": "light"
     },
     "output_type": "display_data"
    }
   ],
   "source": [
    "import matplotlib.pyplot as plt\n",
    "x_values = [30, 90]\n",
    "y_values = [100, 30]\n",
    "\n",
    "\n",
    "X = df.iloc[:, :-1]   \n",
    "y = df.iloc[:, -1]\n",
    "\n",
    "admitted = df.loc[y == 1]\n",
    "not_admitted = df.loc[y == 0]\n",
    "\n",
    "plt.scatter(admitted.iloc[:, 0], admitted.iloc[:, 1], s=10, label='Admitted')\n",
    "plt.scatter(not_admitted.iloc[:, 0], not_admitted.iloc[:, 1], s=10, label='Not Admitted')\n",
    "plt.plot(x_values, y_values)\n",
    "plt.legend()\n",
    "plt.show()"
   ]
  },
  {
   "cell_type": "code",
   "execution_count": 79,
   "metadata": {},
   "outputs": [
    {
     "data": {
      "text/plain": [
       "0"
      ]
     },
     "execution_count": 79,
     "metadata": {},
     "output_type": "execute_result"
    }
   ],
   "source": [
    "28 * 30 + 22 * 43 - 1786"
   ]
  },
  {
   "cell_type": "code",
   "execution_count": 81,
   "metadata": {},
   "outputs": [
    {
     "data": {
      "text/plain": [
       "1836"
      ]
     },
     "execution_count": 81,
     "metadata": {},
     "output_type": "execute_result"
    }
   ],
   "source": [
    "28 + 22 + 1786"
   ]
  },
  {
   "cell_type": "code",
   "execution_count": null,
   "metadata": {},
   "outputs": [],
   "source": [
    "# 28x1 + 22x2 - 1786 = 0\n",
    "# divide by 2\n",
    "# 14x1 + 11x2 - 893 = 0"
   ]
  },
  {
   "cell_type": "code",
   "execution_count": 82,
   "metadata": {},
   "outputs": [],
   "source": [
    "#a1 = 14\n",
    "#a2 = 11\n",
    "#theta = 893"
   ]
  },
  {
   "cell_type": "code",
   "execution_count": 88,
   "metadata": {},
   "outputs": [],
   "source": [
    "def predict(x1, x2):\n",
    "    return 14 * x1 + 11 * x2 + 893"
   ]
  },
  {
   "cell_type": "code",
   "execution_count": 89,
   "metadata": {},
   "outputs": [],
   "source": [
    "ll = []\n",
    "for s, roww in df.iterrows():\n",
    "    ll.append(predict(roww[0], roww[1]))"
   ]
  },
  {
   "cell_type": "code",
   "execution_count": 91,
   "metadata": {},
   "outputs": [],
   "source": [
    "def sigmoid(x):\n",
    "    return 1 / (1 + math.e ** -x)"
   ]
  },
  {
   "cell_type": "code",
   "execution_count": 95,
   "metadata": {},
   "outputs": [],
   "source": [
    "ll2 = [sigmoid(y) for y in ll]"
   ]
  },
  {
   "cell_type": "code",
   "execution_count": 96,
   "metadata": {},
   "outputs": [],
   "source": [
    "ll3 = []\n",
    "for k in ll2:\n",
    "    if k > 0.5:\n",
    "        ll3.append(1)\n",
    "    else:\n",
    "        append(0)"
   ]
  },
  {
   "cell_type": "code",
   "execution_count": 100,
   "metadata": {},
   "outputs": [],
   "source": [
    "def TP(df):\n",
    "    tmp = df[(df['y_pred'] == 1) & (df['is admitted'] == 1)]\n",
    "    return len(tmp) / len(df)\n",
    "\n",
    "def TN(df):\n",
    "    tmp = df[(df['y_pred'] == 0) & (df['is admitted'] == 0)]\n",
    "    return len(tmp) / len(df)\n",
    "\n",
    "def FP(df):\n",
    "    tmp = df[(df['y_pred'] == 1) & (df['is admitted'] == 0)]\n",
    "    return len(tmp) / len(df)\n",
    "\n",
    "def FN(df):\n",
    "    tmp = df[(df['y_pred'] == 0) & (df['is admitted'] == 1)]\n",
    "    return len(tmp) / len(df)\n",
    "\n",
    "def accuracy(df):\n",
    "    _TP = TP(df)\n",
    "    _FN = FN(df)\n",
    "    _TN = TN(df)\n",
    "    _FP = FP(df)\n",
    "    return (_TP + _TN) / (_TP + _FN + _TN + _FP)\n",
    "\n",
    "\n",
    "def f_score(precision, recall):\n",
    "    return 2 * precision * recall / (precision + recall)\n",
    "\n",
    "def recall(df):\n",
    "    _TP = TP(df)\n",
    "    _FN = FN(df)\n",
    "    if _TP == 0:\n",
    "        return 0\n",
    "    return _TP / (_TP + _FN)\n",
    "\n",
    "def precision(df):\n",
    "    _TP = TP(df)\n",
    "    _FP = FP(df)\n",
    "    if _TP == 0:\n",
    "        return 0\n",
    "    return _TP / (_TP + _FP)"
   ]
  },
  {
   "cell_type": "code",
   "execution_count": 98,
   "metadata": {},
   "outputs": [],
   "source": [
    "df['y_pred'] = ll3"
   ]
  },
  {
   "cell_type": "code",
   "execution_count": 101,
   "metadata": {},
   "outputs": [
    {
     "name": "stdout",
     "output_type": "stream",
     "text": [
      "0.6\n"
     ]
    }
   ],
   "source": [
    "print(accuracy(df))"
   ]
  },
  {
   "cell_type": "code",
   "execution_count": 103,
   "metadata": {},
   "outputs": [
    {
     "name": "stdout",
     "output_type": "stream",
     "text": [
      "0.7499999999999999\n"
     ]
    }
   ],
   "source": [
    "print(f_score(precision(df), recall(df)))"
   ]
  }
 ],
 "metadata": {
  "kernelspec": {
   "display_name": "Python 3",
   "language": "python",
   "name": "python3"
  },
  "language_info": {
   "codemirror_mode": {
    "name": "ipython",
    "version": 3
   },
   "file_extension": ".py",
   "mimetype": "text/x-python",
   "name": "python",
   "nbconvert_exporter": "python",
   "pygments_lexer": "ipython3",
   "version": "3.8.3"
  }
 },
 "nbformat": 4,
 "nbformat_minor": 4
}
