{
 "cells": [
  {
   "cell_type": "code",
   "execution_count": 1,
   "metadata": {},
   "outputs": [],
   "source": [
    "import numpy as np\n",
    "import math"
   ]
  },
  {
   "cell_type": "code",
   "execution_count": 6,
   "metadata": {},
   "outputs": [],
   "source": [
    "def plot_min(f, left, right, step):\n",
    "    minX = left\n",
    "    minY = f(left)\n",
    "    for i in np.arange(left, right, step):\n",
    "        if minY > f(i):\n",
    "            minY = f(i)\n",
    "            minX = i\n",
    "    return minY"
   ]
  },
  {
   "cell_type": "code",
   "execution_count": 7,
   "metadata": {},
   "outputs": [],
   "source": [
    "def plot_max(f, left, right, step):\n",
    "    maxX = left\n",
    "    maxY = f(left)\n",
    "    for i in np.arange(left, right, step):\n",
    "        if maxY < f(i):\n",
    "            maxY = f(i)\n",
    "            maxX = i\n",
    "    return maxY"
   ]
  },
  {
   "cell_type": "code",
   "execution_count": 25,
   "metadata": {},
   "outputs": [],
   "source": [
    "f = lambda x: x**2/10 - math.cos(x+2) - x**3/101\n",
    "steps = [10, 1, 0.1, 0.01]\n",
    "min_results, max_results = {}, {}\n",
    "for i in steps:\n",
    "    min_results[str(i)] = plot_min(f, -10, 10, i)\n",
    "    max_results[str(i)] = plot_max(f, -10, 10, i)"
   ]
  },
  {
   "cell_type": "code",
   "execution_count": 56,
   "metadata": {},
   "outputs": [
    {
     "name": "stdout",
     "output_type": "stream",
     "text": [
      "step            min                     max\n",
      "10       0.4161468365471424       20.046490132818512\n",
      "1       -0.5207920792079208       20.046490132818512\n",
      "0.1       -0.6245065385573403       20.046490132818512\n",
      "0.01       -0.729752948416067       20.046490132818512\n"
     ]
    }
   ],
   "source": [
    "print('step            min                     max')\n",
    "for r in steps:\n",
    "    print(str(r),'     ', min_results[str(r)],'     ', max_results[str(r)])"
   ]
  }
 ],
 "metadata": {
  "kernelspec": {
   "display_name": "Python 3",
   "language": "python",
   "name": "python3"
  },
  "language_info": {
   "codemirror_mode": {
    "name": "ipython",
    "version": 3
   },
   "file_extension": ".py",
   "mimetype": "text/x-python",
   "name": "python",
   "nbconvert_exporter": "python",
   "pygments_lexer": "ipython3",
   "version": "3.7.6"
  }
 },
 "nbformat": 4,
 "nbformat_minor": 4
}
