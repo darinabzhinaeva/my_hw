{
 "cells": [
  {
   "cell_type": "code",
   "execution_count": 5,
   "metadata": {},
   "outputs": [
    {
     "data": {
      "text/html": [
       "<div>\n",
       "<style scoped>\n",
       "    .dataframe tbody tr th:only-of-type {\n",
       "        vertical-align: middle;\n",
       "    }\n",
       "\n",
       "    .dataframe tbody tr th {\n",
       "        vertical-align: top;\n",
       "    }\n",
       "\n",
       "    .dataframe thead th {\n",
       "        text-align: right;\n",
       "    }\n",
       "</style>\n",
       "<table border=\"1\" class=\"dataframe\">\n",
       "  <thead>\n",
       "    <tr style=\"text-align: right;\">\n",
       "      <th></th>\n",
       "      <th>x</th>\n",
       "      <th>F</th>\n",
       "    </tr>\n",
       "    <tr>\n",
       "      <th>Unnamed: 0</th>\n",
       "      <th></th>\n",
       "      <th></th>\n",
       "    </tr>\n",
       "  </thead>\n",
       "  <tbody>\n",
       "    <tr>\n",
       "      <th>0</th>\n",
       "      <td>6.176040</td>\n",
       "      <td>0.103594</td>\n",
       "    </tr>\n",
       "    <tr>\n",
       "      <th>1</th>\n",
       "      <td>-9.352041</td>\n",
       "      <td>0.004571</td>\n",
       "    </tr>\n",
       "    <tr>\n",
       "      <th>2</th>\n",
       "      <td>9.607043</td>\n",
       "      <td>-0.014937</td>\n",
       "    </tr>\n",
       "    <tr>\n",
       "      <th>3</th>\n",
       "      <td>-1.212974</td>\n",
       "      <td>-0.048098</td>\n",
       "    </tr>\n",
       "    <tr>\n",
       "      <th>4</th>\n",
       "      <td>1.013903</td>\n",
       "      <td>0.040553</td>\n",
       "    </tr>\n",
       "  </tbody>\n",
       "</table>\n",
       "</div>"
      ],
      "text/plain": [
       "                   x         F\n",
       "Unnamed: 0                    \n",
       "0           6.176040  0.103594\n",
       "1          -9.352041  0.004571\n",
       "2           9.607043 -0.014937\n",
       "3          -1.212974 -0.048098\n",
       "4           1.013903  0.040553"
      ]
     },
     "execution_count": 5,
     "metadata": {},
     "output_type": "execute_result"
    }
   ],
   "source": [
    "import pandas as pd\n",
    "import math\n",
    "import random\n",
    "df = pd.read_csv('hw16.csv').set_index('Unnamed: 0')\n",
    "df.head()"
   ]
  },
  {
   "cell_type": "code",
   "execution_count": 2,
   "metadata": {},
   "outputs": [],
   "source": [
    "def f(a, b, x):\n",
    "    return a * math.sin(b * x)\n",
    "\n",
    "def error(f, a, b, x, y_true):\n",
    "    y_pred = f(a, b, x)\n",
    "    return abs(y_pred - y_true)"
   ]
  },
  {
   "cell_type": "code",
   "execution_count": 3,
   "metadata": {},
   "outputs": [],
   "source": [
    "def der_a(f, a, b, x, y_true):\n",
    "    e1 = error(f, a, b, x, y_true)\n",
    "    e2 = error(f, a + 0.00001, b, x, y_true)\n",
    "    return (e2 - e1) / 0.00001\n",
    "\n",
    "def der_b(f, a, b, x, y_true):\n",
    "    e1 = error(f, a, b, x, y_true)\n",
    "    e2 = error(f, a, b + 0.00001, x, y_true)\n",
    "    return (e2 - e1) / 0.00001"
   ]
  },
  {
   "cell_type": "code",
   "execution_count": 24,
   "metadata": {},
   "outputs": [
    {
     "name": "stdout",
     "output_type": "stream",
     "text": [
      "-7 1\n",
      "0.0476237013872629 1.024598730173941\n"
     ]
    }
   ],
   "source": [
    "a, b = random.randint(-7, 7), random.randint(-7, 7)\n",
    "lr = 0.00001\n",
    "print(a, b)\n",
    "for i in range(100):\n",
    "    for _, row in df.iterrows():\n",
    "        da = der_a(f, a, b, row[0], row[1])\n",
    "        db = der_b(f, a, b, row[0], row[1])\n",
    "        a -= lr * da\n",
    "        b -= lr * db\n",
    "        #print(a, b)\n",
    "        \n",
    "print(a, b)"
   ]
  },
  {
   "cell_type": "code",
   "execution_count": null,
   "metadata": {},
   "outputs": [],
   "source": []
  }
 ],
 "metadata": {
  "kernelspec": {
   "display_name": "Python 3",
   "language": "python",
   "name": "python3"
  },
  "language_info": {
   "codemirror_mode": {
    "name": "ipython",
    "version": 3
   },
   "file_extension": ".py",
   "mimetype": "text/x-python",
   "name": "python",
   "nbconvert_exporter": "python",
   "pygments_lexer": "ipython3",
   "version": "3.8.3"
  }
 },
 "nbformat": 4,
 "nbformat_minor": 4
}
