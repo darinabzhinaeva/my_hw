{
 "cells": [
  {
   "cell_type": "code",
   "execution_count": 9,
   "metadata": {},
   "outputs": [
    {
     "name": "stdout",
     "output_type": "stream",
     "text": [
      "rating is 29\n"
     ]
    }
   ],
   "source": [
    "#X factors = [6, 5, 4], A factors = [9, 3, -10]\n",
    "print('rating is', 6 * 9 + 5 * 3 + 4 * -10)"
   ]
  },
  {
   "cell_type": "code",
   "execution_count": 10,
   "metadata": {},
   "outputs": [
    {
     "name": "stdout",
     "output_type": "stream",
     "text": [
      "rating is 15\n"
     ]
    }
   ],
   "source": [
    "#X factors = [5], A factors = [3]\n",
    "print('rating is', 5 * 3)"
   ]
  },
  {
   "cell_type": "code",
   "execution_count": 11,
   "metadata": {},
   "outputs": [
    {
     "name": "stdout",
     "output_type": "stream",
     "text": [
      "rating is -7.4\n"
     ]
    }
   ],
   "source": [
    "#X factors = [-1, 1, 0.5, 6], A factors = [7, -7, 6, 0.6]\n",
    "print('rating is', -1 * 7 + 1 * -7 + 0.5 * 6 + 6 * 0.6)"
   ]
  },
  {
   "cell_type": "code",
   "execution_count": 16,
   "metadata": {},
   "outputs": [
    {
     "name": "stdout",
     "output_type": "stream",
     "text": [
      "rating for item W is 32\n",
      "rating for item X is 6\n",
      "rating for item Y is 8.0\n",
      "rating for item Z is -32\n",
      "the most relevant item is W beacuse his rating is the biggest\n"
     ]
    }
   ],
   "source": [
    "# user factors = [1, 2, 3, 4]\n",
    "#Item W: [-3, 2, 9, 1]\n",
    "#Item X: [0, 1, 0, 1]\n",
    "#Item Y: [6, -3, 2, 0.5]\n",
    "#Item Z: [3, 2, 7, -15].\n",
    "print('rating for item W is', -3 * 1 + 2 * 2 + 9 * 3 + 1 * 4)\n",
    "print('rating for item X is', 0 * 1 + 1 * 2 + 0 * 3 + 1 * 4)\n",
    "print('rating for item Y is', 6 * 1 + -3 * 2 + 2 * 3 + 0.5 * 4)\n",
    "print('rating for item Z is', 3 * 1 + 2 * 2 + 7 * 3 + -15 * 4)\n",
    "print('the most relevant item is W beacuse his rating is the biggest')"
   ]
  }
 ],
 "metadata": {
  "kernelspec": {
   "display_name": "Python 3",
   "language": "python",
   "name": "python3"
  },
  "language_info": {
   "codemirror_mode": {
    "name": "ipython",
    "version": 3
   },
   "file_extension": ".py",
   "mimetype": "text/x-python",
   "name": "python",
   "nbconvert_exporter": "python",
   "pygments_lexer": "ipython3",
   "version": "3.8.3"
  }
 },
 "nbformat": 4,
 "nbformat_minor": 4
}
