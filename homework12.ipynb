{
 "cells": [
  {
   "cell_type": "code",
   "execution_count": 18,
   "metadata": {},
   "outputs": [],
   "source": [
    "import pandas as pd\n",
    "import numpy as np\n",
    "import random\n",
    "import math"
   ]
  },
  {
   "cell_type": "code",
   "execution_count": 2,
   "metadata": {},
   "outputs": [],
   "source": [
    "def create_dataset(a=2, b=3, size=10):\n",
    "    for i in range(size):\n",
    "        x = np.random.uniform(-10, 10)\n",
    "        y = np.random.uniform(-10, 10)\n",
    "        noise = np.random.normal(loc=0, scale=0.001)\n",
    "        z = a * x + b * y + noise\n",
    "        yield {'x': x, 'y': y, 'z': z}"
   ]
  },
  {
   "cell_type": "code",
   "execution_count": 3,
   "metadata": {},
   "outputs": [
    {
     "data": {
      "text/html": [
       "<div>\n",
       "<style scoped>\n",
       "    .dataframe tbody tr th:only-of-type {\n",
       "        vertical-align: middle;\n",
       "    }\n",
       "\n",
       "    .dataframe tbody tr th {\n",
       "        vertical-align: top;\n",
       "    }\n",
       "\n",
       "    .dataframe thead th {\n",
       "        text-align: right;\n",
       "    }\n",
       "</style>\n",
       "<table border=\"1\" class=\"dataframe\">\n",
       "  <thead>\n",
       "    <tr style=\"text-align: right;\">\n",
       "      <th></th>\n",
       "      <th>x</th>\n",
       "      <th>y</th>\n",
       "      <th>z</th>\n",
       "    </tr>\n",
       "  </thead>\n",
       "  <tbody>\n",
       "    <tr>\n",
       "      <th>0</th>\n",
       "      <td>0.418010</td>\n",
       "      <td>-5.072960</td>\n",
       "      <td>-14.382909</td>\n",
       "    </tr>\n",
       "    <tr>\n",
       "      <th>1</th>\n",
       "      <td>-2.356202</td>\n",
       "      <td>-7.313009</td>\n",
       "      <td>-26.651601</td>\n",
       "    </tr>\n",
       "    <tr>\n",
       "      <th>2</th>\n",
       "      <td>-1.382907</td>\n",
       "      <td>8.172209</td>\n",
       "      <td>21.750398</td>\n",
       "    </tr>\n",
       "    <tr>\n",
       "      <th>3</th>\n",
       "      <td>-6.806614</td>\n",
       "      <td>-6.950788</td>\n",
       "      <td>-34.465249</td>\n",
       "    </tr>\n",
       "    <tr>\n",
       "      <th>4</th>\n",
       "      <td>-5.399864</td>\n",
       "      <td>9.971070</td>\n",
       "      <td>19.113406</td>\n",
       "    </tr>\n",
       "  </tbody>\n",
       "</table>\n",
       "</div>"
      ],
      "text/plain": [
       "          x         y          z\n",
       "0  0.418010 -5.072960 -14.382909\n",
       "1 -2.356202 -7.313009 -26.651601\n",
       "2 -1.382907  8.172209  21.750398\n",
       "3 -6.806614 -6.950788 -34.465249\n",
       "4 -5.399864  9.971070  19.113406"
      ]
     },
     "execution_count": 3,
     "metadata": {},
     "output_type": "execute_result"
    }
   ],
   "source": [
    "df = pd.DataFrame(columns=['x', 'y', 'z'])\n",
    "for i in create_dataset(size=1000):   \n",
    "    df = df.append(i, ignore_index=True)\n",
    "df.head()"
   ]
  },
  {
   "cell_type": "code",
   "execution_count": 4,
   "metadata": {},
   "outputs": [],
   "source": [
    "def my_mean(x):\n",
    "    return sum(x)/len(x)"
   ]
  },
  {
   "cell_type": "code",
   "execution_count": 5,
   "metadata": {},
   "outputs": [],
   "source": [
    "def my_stdv(x):\n",
    "    return (sum([(xi - my_mean(x))**2 for xi in x]) / (len(x) - 1))**0.5"
   ]
  },
  {
   "cell_type": "code",
   "execution_count": 6,
   "metadata": {},
   "outputs": [
    {
     "name": "stdout",
     "output_type": "stream",
     "text": [
      "0.09340911499079285\n",
      "5.74325217760924\n"
     ]
    }
   ],
   "source": [
    "arr = list(df['x'])\n",
    "print(my_mean(arr))\n",
    "print(my_stdv(arr))"
   ]
  },
  {
   "cell_type": "code",
   "execution_count": 11,
   "metadata": {},
   "outputs": [
    {
     "name": "stdout",
     "output_type": "stream",
     "text": [
      "4.494779042650954e-05\n",
      "0.00096749539165303\n"
     ]
    }
   ],
   "source": [
    "a = [df.iloc[i][2] - (2 * df.iloc[i][0]) - (3 * df.iloc[i][1]) for i in range(len(df))]\n",
    "print(my_mean(a))\n",
    "print(my_stdv(a))"
   ]
  },
  {
   "cell_type": "code",
   "execution_count": 17,
   "metadata": {},
   "outputs": [
    {
     "name": "stdout",
     "output_type": "stream",
     "text": [
      "0\n",
      "0.001\n"
     ]
    }
   ],
   "source": [
    "#mean of my list is very close to 0(4.494779042650954e-05) and we wrote loc=0 in our function\n",
    "#and if we round my standart deviation(0.00096749539165303) we will get 0.001, like in our parameters\n",
    "print(round(4.494779042650954e-05))\n",
    "print(round(0.00096749539165303, 3))"
   ]
  },
  {
   "cell_type": "code",
   "execution_count": 19,
   "metadata": {},
   "outputs": [],
   "source": [
    "def E(y_true, y_pred):\n",
    "    return y_pred - y_true"
   ]
  },
  {
   "cell_type": "code",
   "execution_count": 23,
   "metadata": {},
   "outputs": [
    {
     "name": "stdout",
     "output_type": "stream",
     "text": [
      "2.5\n",
      "0.5\n"
     ]
    }
   ],
   "source": [
    "print(E(4.5, 7))\n",
    "print(E(4.5, 5))"
   ]
  }
 ],
 "metadata": {
  "kernelspec": {
   "display_name": "Python 3",
   "language": "python",
   "name": "python3"
  },
  "language_info": {
   "codemirror_mode": {
    "name": "ipython",
    "version": 3
   },
   "file_extension": ".py",
   "mimetype": "text/x-python",
   "name": "python",
   "nbconvert_exporter": "python",
   "pygments_lexer": "ipython3",
   "version": "3.7.6"
  }
 },
 "nbformat": 4,
 "nbformat_minor": 4
}
