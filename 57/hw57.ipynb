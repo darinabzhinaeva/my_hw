{
 "cells": [
  {
   "cell_type": "code",
   "execution_count": 38,
   "metadata": {},
   "outputs": [],
   "source": [
    "files = []\n",
    "for i in range(1, 12):\n",
    "    with open(str(i) + '.txt', 'r') as f:\n",
    "        files.append(f.readlines())"
   ]
  },
  {
   "cell_type": "code",
   "execution_count": 39,
   "metadata": {},
   "outputs": [],
   "source": [
    "res = []\n",
    "for sonnet in files:\n",
    "    st = ''\n",
    "    for line in sonnet:\n",
    "        st += line\n",
    "    res.append(st.lower())"
   ]
  },
  {
   "cell_type": "code",
   "execution_count": 40,
   "metadata": {},
   "outputs": [],
   "source": [
    "import re\n",
    "result = []\n",
    "for text in res:\n",
    "    result.append(re.sub(r'\\W+', '', text))"
   ]
  },
  {
   "cell_type": "code",
   "execution_count": 41,
   "metadata": {},
   "outputs": [
    {
     "data": {
      "text/plain": [
       "{'a': 1,\n",
       " 'b': 8,\n",
       " 'c': 2,\n",
       " 'd': 9,\n",
       " 'e': 1,\n",
       " 'f': 8,\n",
       " 'g': 7,\n",
       " 'h': 4,\n",
       " 'i': 8,\n",
       " 'j': 1,\n",
       " 'k': 4,\n",
       " 'l': 5,\n",
       " 'm': 1,\n",
       " 'n': 1,\n",
       " 'o': 10,\n",
       " 'p': 4,\n",
       " 'q': 9,\n",
       " 'r': 2,\n",
       " 's': 6,\n",
       " 't': 7,\n",
       " 'u': 2,\n",
       " 'v': 8,\n",
       " 'w': 9,\n",
       " 'x': 6,\n",
       " 'y': 2,\n",
       " 'z': 3}"
      ]
     },
     "execution_count": 41,
     "metadata": {},
     "output_type": "execute_result"
    }
   ],
   "source": [
    "from random import randint\n",
    "import string\n",
    "cost = {k: randint(1, 10) for k in string.ascii_lowercase}\n",
    "cost"
   ]
  },
  {
   "cell_type": "code",
   "execution_count": 45,
   "metadata": {},
   "outputs": [
    {
     "data": {
      "text/plain": [
       "2500"
      ]
     },
     "execution_count": 45,
     "metadata": {},
     "output_type": "execute_result"
    }
   ],
   "source": [
    "sonnet11 = result[10]\n",
    "total_cost = 11\n",
    "for letter in sonnet11:\n",
    "    total_cost += cost[letter]\n",
    "total_cost"
   ]
  }
 ],
 "metadata": {
  "kernelspec": {
   "display_name": "Python 3",
   "language": "python",
   "name": "python3"
  },
  "language_info": {
   "codemirror_mode": {
    "name": "ipython",
    "version": 3
   },
   "file_extension": ".py",
   "mimetype": "text/x-python",
   "name": "python",
   "nbconvert_exporter": "python",
   "pygments_lexer": "ipython3",
   "version": "3.8.3"
  }
 },
 "nbformat": 4,
 "nbformat_minor": 4
}
