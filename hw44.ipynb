{
 "cells": [
  {
   "cell_type": "code",
   "execution_count": 1,
   "metadata": {},
   "outputs": [],
   "source": [
    "from surprise import SVD\n",
    "from surprise import Dataset\n",
    "from surprise.model_selection import cross_validate\n",
    "import os\n",
    "data = Dataset.load_builtin('ml-100k')\n",
    "algo = SVD()"
   ]
  },
  {
   "cell_type": "code",
   "execution_count": 2,
   "metadata": {},
   "outputs": [
    {
     "name": "stdout",
     "output_type": "stream",
     "text": [
      "Evaluating RMSE of algorithm SVD on 2 split(s).\n",
      "\n",
      "                  Fold 1  Fold 2  Mean    Std     \n",
      "RMSE (testset)    0.9563  0.9568  0.9565  0.0003  \n",
      "Fit time          2.79    2.50    2.65    0.14    \n",
      "Test time         0.37    0.33    0.35    0.02    \n"
     ]
    },
    {
     "data": {
      "text/plain": [
       "{'test_rmse': array([0.95625035, 0.95681628]),\n",
       " 'fit_time': (2.7856907844543457, 2.5047972202301025),\n",
       " 'test_time': (0.36514854431152344, 0.32985997200012207)}"
      ]
     },
     "execution_count": 2,
     "metadata": {},
     "output_type": "execute_result"
    }
   ],
   "source": [
    "cross_validate(algo, data, measures=['RMSE'], cv=2, verbose=True)"
   ]
  },
  {
   "cell_type": "code",
   "execution_count": 3,
   "metadata": {},
   "outputs": [
    {
     "name": "stdout",
     "output_type": "stream",
     "text": [
      "Evaluating RMSE of algorithm SVD on 5 split(s).\n",
      "\n",
      "                  Fold 1  Fold 2  Fold 3  Fold 4  Fold 5  Mean    Std     \n",
      "RMSE (testset)    0.9363  0.9382  0.9312  0.9411  0.9323  0.9358  0.0037  \n",
      "Fit time          4.02    4.09    4.31    4.06    4.20    4.13    0.10    \n",
      "Test time         0.14    0.11    0.12    0.12    0.10    0.12    0.01    \n"
     ]
    },
    {
     "data": {
      "text/plain": [
       "{'test_rmse': array([0.93634876, 0.9381697 , 0.93119515, 0.94112755, 0.93227027]),\n",
       " 'fit_time': (4.023452281951904,\n",
       "  4.087996482849121,\n",
       "  4.3050377368927,\n",
       "  4.055406332015991,\n",
       "  4.202929496765137),\n",
       " 'test_time': (0.14168047904968262,\n",
       "  0.10782718658447266,\n",
       "  0.1172182559967041,\n",
       "  0.11870670318603516,\n",
       "  0.10416007041931152)}"
      ]
     },
     "execution_count": 3,
     "metadata": {},
     "output_type": "execute_result"
    }
   ],
   "source": [
    "cross_validate(algo, data, measures=['RMSE'], cv=5, verbose=True)"
   ]
  },
  {
   "cell_type": "code",
   "execution_count": 4,
   "metadata": {},
   "outputs": [
    {
     "name": "stdout",
     "output_type": "stream",
     "text": [
      "Evaluating RMSE of algorithm SVD on 9 split(s).\n",
      "\n",
      "                  Fold 1  Fold 2  Fold 3  Fold 4  Fold 5  Fold 6  Fold 7  Fold 8  Fold 9  Mean    Std     \n",
      "RMSE (testset)    0.9302  0.9435  0.9280  0.9274  0.9286  0.9266  0.9346  0.9234  0.9308  0.9303  0.0055  \n",
      "Fit time          4.74    4.60    4.81    4.56    4.81    4.57    4.64    5.10    5.22    4.78    0.22    \n",
      "Test time         0.06    0.09    0.07    0.10    0.06    0.10    0.08    0.09    0.07    0.08    0.02    \n"
     ]
    },
    {
     "data": {
      "text/plain": [
       "{'test_rmse': array([0.93019546, 0.94352014, 0.92799606, 0.92739707, 0.92860231,\n",
       "        0.92657086, 0.9345638 , 0.92338048, 0.93080972]),\n",
       " 'fit_time': (4.738208055496216,\n",
       "  4.598137378692627,\n",
       "  4.807644605636597,\n",
       "  4.557840824127197,\n",
       "  4.8095619678497314,\n",
       "  4.574462890625,\n",
       "  4.637901544570923,\n",
       "  5.102902412414551,\n",
       "  5.216942310333252),\n",
       " 'test_time': (0.062453269958496094,\n",
       "  0.09279274940490723,\n",
       "  0.06505990028381348,\n",
       "  0.10372114181518555,\n",
       "  0.05684781074523926,\n",
       "  0.0997018814086914,\n",
       "  0.07978606224060059,\n",
       "  0.08975982666015625,\n",
       "  0.06781935691833496)}"
      ]
     },
     "execution_count": 4,
     "metadata": {},
     "output_type": "execute_result"
    }
   ],
   "source": [
    "cross_validate(algo, data, measures=['RMSE'], cv=9, verbose=True)"
   ]
  },
  {
   "cell_type": "markdown",
   "metadata": {},
   "source": [
    " the mean fit time is more in the third model(cv=9) because our data splits to 9 parts, that is more than 2 or 5, and model needs more time to fit data"
   ]
  },
  {
   "cell_type": "markdown",
   "metadata": {},
   "source": [
    "the mean test time is more in the first model(cv=2) beause our data is splitted only to 2 parts, so the amount of test data is more than in the other models"
   ]
  },
  {
   "cell_type": "markdown",
   "metadata": {},
   "source": [
    "if we have model with cv=4 than  \n",
    "1) in train set we have ~80% of all data(we all have 4 parts, 1 part is 25 000, so we have about 75 000 records in 3 parts)   \n",
    "2) in test set we will have ~20% of all data(1 part of 4 , or 25 000 records)"
   ]
  },
  {
   "cell_type": "code",
   "execution_count": 21,
   "metadata": {},
   "outputs": [],
   "source": [
    "def stand_dev(arr):\n",
    "    mean = sum(arr)/len(arr)\n",
    "    mean = round(mean, 2)\n",
    "    return ((sum([(i - mean)**2 for i in arr]))/len(arr)) ** 0.5"
   ]
  },
  {
   "cell_type": "code",
   "execution_count": 22,
   "metadata": {},
   "outputs": [
    {
     "data": {
      "text/plain": [
       "0.22208606940153222"
      ]
     },
     "execution_count": 22,
     "metadata": {},
     "output_type": "execute_result"
    }
   ],
   "source": [
    "fit_time_9_cv = [4.74, 4.60, 4.81, 4.56, 4.81, 4.57, 4.64, 5.10, 5.22]\n",
    "stand_dev(fit_time_9_cv)"
   ]
  }
 ],
 "metadata": {
  "kernelspec": {
   "display_name": "Python 3",
   "language": "python",
   "name": "python3"
  },
  "language_info": {
   "codemirror_mode": {
    "name": "ipython",
    "version": 3
   },
   "file_extension": ".py",
   "mimetype": "text/x-python",
   "name": "python",
   "nbconvert_exporter": "python",
   "pygments_lexer": "ipython3",
   "version": "3.8.3"
  }
 },
 "nbformat": 4,
 "nbformat_minor": 4
}
