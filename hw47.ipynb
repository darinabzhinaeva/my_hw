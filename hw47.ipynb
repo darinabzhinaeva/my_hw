{
 "cells": [
  {
   "cell_type": "code",
   "execution_count": 15,
   "metadata": {},
   "outputs": [],
   "source": [
    "import numpy as np\n",
    "m = np.zeros((100, 100), dtype='int')"
   ]
  },
  {
   "cell_type": "code",
   "execution_count": 16,
   "metadata": {},
   "outputs": [],
   "source": [
    "for i in range(m.shape[0]):\n",
    "    for j in range(m.shape[1]):\n",
    "        m[i][j] = i + j"
   ]
  },
  {
   "cell_type": "code",
   "execution_count": 17,
   "metadata": {},
   "outputs": [
    {
     "data": {
      "text/plain": [
       "array([[  0,   1,   2, ...,  97,  98,  99],\n",
       "       [  1,   2,   3, ...,  98,  99, 100],\n",
       "       [  2,   3,   4, ...,  99, 100, 101],\n",
       "       ...,\n",
       "       [ 97,  98,  99, ..., 194, 195, 196],\n",
       "       [ 98,  99, 100, ..., 195, 196, 197],\n",
       "       [ 99, 100, 101, ..., 196, 197, 198]])"
      ]
     },
     "execution_count": 17,
     "metadata": {},
     "output_type": "execute_result"
    }
   ],
   "source": [
    "m"
   ]
  },
  {
   "cell_type": "code",
   "execution_count": 35,
   "metadata": {},
   "outputs": [],
   "source": [
    "def mean_abs_error(y_pred, y_true):\n",
    "    s = 0\n",
    "    for p in range(len(y_pred)):\n",
    "        s += abs(y_pred[p] - y_true[p])\n",
    "    return s/len(y_pred)"
   ]
  },
  {
   "cell_type": "code",
   "execution_count": 20,
   "metadata": {},
   "outputs": [],
   "source": [
    "def approx_matrix(matrix, n_components):\n",
    "    U, s, V = np.linalg.svd(a)\n",
    "    s = np.diag(s)\n",
    "    U = U[:,  0:n_components]\n",
    "    s = s[0:n_components, 0:n_components]\n",
    "    V = V[0:n_components, :]\n",
    "    return np.matmul(np.matmul(U, s), V)"
   ]
  },
  {
   "cell_type": "code",
   "execution_count": 26,
   "metadata": {},
   "outputs": [
    {
     "name": "stdout",
     "output_type": "stream",
     "text": [
      "[[ 2.22916951  2.46831501  2.70746051  2.94660601]\n",
      " [ 5.63832164  6.24320129  6.84808093  7.45296058]\n",
      " [ 9.04747378 10.01808757 10.98870135 11.95931514]\n",
      " [12.45662591 13.79297384 15.12932177 16.4656697 ]]\n",
      "[[ 1.  2.  3.  4.]\n",
      " [ 5.  6.  7.  8.]\n",
      " [ 9. 10. 11. 12.]\n",
      " [13. 14. 15. 16.]]\n"
     ]
    }
   ],
   "source": [
    "a = np.array(\n",
    "    [\n",
    "        [1, 2, 3, 4],\n",
    "        [5, 6, 7, 8],\n",
    "        [9, 10, 11, 12],\n",
    "        [13, 14, 15, 16],\n",
    "    ]\n",
    ")\n",
    "\n",
    "print(approx_matrix(a, n_components=1))\n",
    "print(approx_matrix(a, n_components=2))"
   ]
  },
  {
   "cell_type": "code",
   "execution_count": 40,
   "metadata": {},
   "outputs": [],
   "source": [
    "n_factors = list(range(1, 100))\n",
    "y_true_ = list(range(1, 100))\n",
    "l = [mean_abs_error(n_factors, y_true_) for i in range(99)]"
   ]
  },
  {
   "cell_type": "code",
   "execution_count": 41,
   "metadata": {},
   "outputs": [
    {
     "data": {
      "text/plain": [
       "[<matplotlib.lines.Line2D at 0x23f523861c0>]"
      ]
     },
     "execution_count": 41,
     "metadata": {},
     "output_type": "execute_result"
    },
    {
     "data": {
      "image/png": "[encoded data removed]",
      "text/plain": [
       "<Figure size 432x288 with 1 Axes>"
      ]
     },
     "metadata": {
      "needs_background": "light"
     },
     "output_type": "display_data"
    }
   ],
   "source": [
    "import matplotlib.pyplot as plt\n",
    "plt.plot(range(len(n_factors)), l, marker='o', color='red')# we have error equals to 0 always because we dont have error and our y pred and y true are equals"
   ]
  }
 ],
 "metadata": {
  "kernelspec": {
   "display_name": "Python 3",
   "language": "python",
   "name": "python3"
  },
  "language_info": {
   "codemirror_mode": {
    "name": "ipython",
    "version": 3
   },
   "file_extension": ".py",
   "mimetype": "text/x-python",
   "name": "python",
   "nbconvert_exporter": "python",
   "pygments_lexer": "ipython3",
   "version": "3.8.3"
  }
 },
 "nbformat": 4,
 "nbformat_minor": 4
}
