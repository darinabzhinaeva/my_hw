{
 "cells": [
  {
   "cell_type": "code",
   "execution_count": 14,
   "metadata": {},
   "outputs": [],
   "source": [
    "import numpy as np\n",
    "m = np.zeros((100, 100), dtype='int')"
   ]
  },
  {
   "cell_type": "code",
   "execution_count": 15,
   "metadata": {},
   "outputs": [],
   "source": [
    "for i in range(m.shape[0]):\n",
    "    for j in range(m.shape[1]):\n",
    "        m[i][j] = i + j"
   ]
  },
  {
   "cell_type": "code",
   "execution_count": 16,
   "metadata": {},
   "outputs": [
    {
     "data": {
      "text/plain": [
       "array([[  0,   1,   2, ...,  97,  98,  99],\n",
       "       [  1,   2,   3, ...,  98,  99, 100],\n",
       "       [  2,   3,   4, ...,  99, 100, 101],\n",
       "       ...,\n",
       "       [ 97,  98,  99, ..., 194, 195, 196],\n",
       "       [ 98,  99, 100, ..., 195, 196, 197],\n",
       "       [ 99, 100, 101, ..., 196, 197, 198]])"
      ]
     },
     "execution_count": 16,
     "metadata": {},
     "output_type": "execute_result"
    }
   ],
   "source": [
    "m"
   ]
  },
  {
   "cell_type": "code",
   "execution_count": 9,
   "metadata": {},
   "outputs": [],
   "source": [
    "def mean_abs_error(y_pred, y_true):\n",
    "    s = 0\n",
    "    for p in range(len(y_pred)):\n",
    "        s += abs(y_pred[p] - y_true[p])\n",
    "    return s/len(y_pred)"
   ]
  },
  {
   "cell_type": "code",
   "execution_count": 18,
   "metadata": {},
   "outputs": [],
   "source": [
    "def approx_matrix(M, n_components):\n",
    "    U, s, V = np.linalg.svd(M)\n",
    "    s = np.diag(s)\n",
    "    U = U[:,  0:n_components]\n",
    "    s = s[0:n_components, 0:n_components]\n",
    "    V = V[0:n_components, :]\n",
    "    return np.matmul(np.matmul(U, s), V)"
   ]
  },
  {
   "cell_type": "code",
   "execution_count": 11,
   "metadata": {},
   "outputs": [
    {
     "name": "stdout",
     "output_type": "stream",
     "text": [
      "[[ 2.22916951  2.46831501  2.70746051  2.94660601]\n",
      " [ 5.63832164  6.24320129  6.84808093  7.45296058]\n",
      " [ 9.04747378 10.01808757 10.98870135 11.95931514]\n",
      " [12.45662591 13.79297384 15.12932177 16.4656697 ]]\n",
      "[[ 1.  2.  3.  4.]\n",
      " [ 5.  6.  7.  8.]\n",
      " [ 9. 10. 11. 12.]\n",
      " [13. 14. 15. 16.]]\n"
     ]
    }
   ],
   "source": [
    "a = np.array(\n",
    "    [\n",
    "        [1, 2, 3, 4],\n",
    "        [5, 6, 7, 8],\n",
    "        [9, 10, 11, 12],\n",
    "        [13, 14, 15, 16],\n",
    "    ]\n",
    ")\n",
    "\n",
    "print(approx_matrix(a, n_components=1))\n",
    "print(approx_matrix(a, n_components=2))"
   ]
  },
  {
   "cell_type": "code",
   "execution_count": 19,
   "metadata": {},
   "outputs": [],
   "source": [
    "n_components = range(1, 100)\n",
    "all_errors = []\n",
    "error = 0\n",
    "for n in n_components:\n",
    "    error = 0\n",
    "    M_pred = approx_matrix(m, n)\n",
    "    error = abs(M_pred - m).mean()\n",
    "    all_errors.append(error)"
   ]
  },
  {
   "cell_type": "code",
   "execution_count": 20,
   "metadata": {},
   "outputs": [
    {
     "data": {
      "text/plain": [
       "[<matplotlib.lines.Line2D at 0x29ca3e99c40>]"
      ]
     },
     "execution_count": 20,
     "metadata": {},
     "output_type": "execute_result"
    },
    {
     "data": {
      "image/png": "[encoded data removed]",
      "text/plain": [
       "<Figure size 432x288 with 1 Axes>"
      ]
     },
     "metadata": {
      "needs_background": "light"
     },
     "output_type": "display_data"
    }
   ],
   "source": [
    "import matplotlib.pyplot as plt\n",
    "plt.plot(n_components, np.array(all_errors) / 10000, marker='o', color='blue')#we have very little error beacuse our matrix has simple regularity and approximization works correctly"
   ]
  }
 ],
 "metadata": {
  "kernelspec": {
   "display_name": "Python 3",
   "language": "python",
   "name": "python3"
  },
  "language_info": {
   "codemirror_mode": {
    "name": "ipython",
    "version": 3
   },
   "file_extension": ".py",
   "mimetype": "text/x-python",
   "name": "python",
   "nbconvert_exporter": "python",
   "pygments_lexer": "ipython3",
   "version": "3.8.3"
  }
 },
 "nbformat": 4,
 "nbformat_minor": 4
}
