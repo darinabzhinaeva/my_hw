{
 "cells": [
  {
   "cell_type": "code",
   "execution_count": 1,
   "metadata": {},
   "outputs": [
    {
     "name": "stdout",
     "output_type": "stream",
     "text": [
      "0.10519515080601743\n"
     ]
    }
   ],
   "source": [
    "rem_0 = 0\n",
    "rem_1 = 0.75\n",
    "rem_2 = 0.25\n",
    "for i in range(3, 151):\n",
    "    p_head = 1 / i ** 2\n",
    "    p_tail = 1 - p_head\n",
    "    new_rem_0 = rem_2 * p_head + rem_0 * p_tail\n",
    "    new_rem_1 = rem_0 * p_head + rem_1 * p_tail\n",
    "    new_rem_2 = rem_1 * p_head + rem_2 * p_tail\n",
    "    rem_0, rem_1, rem_2 = new_rem_0, new_rem_1, new_rem_2\n",
    "print(rem_0)"
   ]
  },
  {
   "cell_type": "code",
   "execution_count": 6,
   "metadata": {},
   "outputs": [
    {
     "name": "stdout",
     "output_type": "stream",
     "text": [
      "0.0 0.9999099180255859\n"
     ]
    }
   ],
   "source": [
    "for i in range(1, 150):\n",
    "    p_head = 1 / i ** 2\n",
    "    p_tail = 1 - p_head\n",
    "    p_not_dividible = (p_head * (1-p_head)) + (p_tail * (1-p_tail) * (1-p_tail)) + (p_tail * p_tail * (1-p_tail))\n",
    "    p_dividible = 1 - p_not_dividible\n",
    "    \n",
    "print(p_not_dividble, p_dividible)"
   ]
  },
  {
   "cell_type": "code",
   "execution_count": 7,
   "metadata": {},
   "outputs": [
    {
     "name": "stdout",
     "output_type": "stream",
     "text": [
      "28 0.9090909090909091\n"
     ]
    },
    {
     "data": {
      "text/plain": [
       "<matplotlib.collections.PathCollection at 0x20501b11400>"
      ]
     },
     "execution_count": 7,
     "metadata": {},
     "output_type": "execute_result"
    },
    {
     "data": {
      "image/png": "[encoded data removed]",
      "text/plain": [
       "<Figure size 432x288 with 1 Axes>"
      ]
     },
     "metadata": {
      "needs_background": "light"
     },
     "output_type": "display_data"
    },
    {
     "data": {
      "image/png": "[encoded data removed]",
      "text/plain": [
       "<Figure size 1440x72 with 1 Axes>"
      ]
     },
     "metadata": {
      "needs_background": "light"
     },
     "output_type": "display_data"
    }
   ],
   "source": [
    "import pandas as pd\n",
    "import numpy as np\n",
    "import matplotlib.pyplot as plt\n",
    "yandex_data =  [0] * 28 + [1] * 12 + [1] * 12 + [0] * 4 + [0] * 8 + [1] * 36 \n",
    "\n",
    "# args: binary list (0-1 values) and threshold\n",
    "def precision(data, threshold):\n",
    "    # positive: data[threshold:] \n",
    "    # negative: data[:threshold]\n",
    "    TP = sum(data[threshold:]) \n",
    "    FP = len(data[threshold:]) - TP\n",
    "    if TP == 0 and FP == 0:\n",
    "        return 0\n",
    "    return TP / (TP + FP)\n",
    "\n",
    "def recall(data, threshold):\n",
    "    TP = sum(data[threshold:])\n",
    "    FN = sum(data[:threshold])\n",
    "    if TP == 0 and FN == 0:\n",
    "        return 0\n",
    "    return TP / (TP + FN)\n",
    "\n",
    "def f_score(data, threshold):\n",
    "    # print(threshold)\n",
    "    _precision = precision(data, threshold)\n",
    "    _recall = recall(data, threshold)\n",
    "    if _precision == 0 and _recall == 0:\n",
    "        return 0\n",
    "    return 2 * _precision * _recall / (_precision + _recall)\n",
    "\n",
    "\n",
    "\n",
    "X = []\n",
    "y = []\n",
    "for t in range(100):\n",
    "    X.append(t)\n",
    "    y.append(f_score(yandex_data, t))\n",
    "    #print(t, f_score(yandex_data, t))\n",
    "print(y.index(max(y)), max(y))\n",
    "threshold = y.index(max(y))\n",
    "\n",
    "plt.scatter(X, y)\n",
    "\n",
    "fig = plt.figure(figsize=(20, 1))\n",
    "plt.scatter(range(100), [0] * 100, marker='s',\n",
    "           c=['tab:green' if res == 1 else 'tab:red' for res in yandex_data], s=10)\n",
    "plt.scatter([threshold - 0.5], [0], marker='|', s=3000)"
   ]
  },
  {
   "cell_type": "code",
   "execution_count": 10,
   "metadata": {},
   "outputs": [
    {
     "data": {
      "text/html": [
       "<div>\n",
       "<style scoped>\n",
       "    .dataframe tbody tr th:only-of-type {\n",
       "        vertical-align: middle;\n",
       "    }\n",
       "\n",
       "    .dataframe tbody tr th {\n",
       "        vertical-align: top;\n",
       "    }\n",
       "\n",
       "    .dataframe thead th {\n",
       "        text-align: right;\n",
       "    }\n",
       "</style>\n",
       "<table border=\"1\" class=\"dataframe\">\n",
       "  <thead>\n",
       "    <tr style=\"text-align: right;\">\n",
       "      <th></th>\n",
       "      <th>x</th>\n",
       "      <th>F</th>\n",
       "    </tr>\n",
       "    <tr>\n",
       "      <th>Unnamed: 0</th>\n",
       "      <th></th>\n",
       "      <th></th>\n",
       "    </tr>\n",
       "  </thead>\n",
       "  <tbody>\n",
       "    <tr>\n",
       "      <th>0</th>\n",
       "      <td>-6.650469</td>\n",
       "      <td>-17.091729</td>\n",
       "    </tr>\n",
       "    <tr>\n",
       "      <th>1</th>\n",
       "      <td>-3.057585</td>\n",
       "      <td>-17.150239</td>\n",
       "    </tr>\n",
       "    <tr>\n",
       "      <th>2</th>\n",
       "      <td>4.324625</td>\n",
       "      <td>-17.322252</td>\n",
       "    </tr>\n",
       "    <tr>\n",
       "      <th>3</th>\n",
       "      <td>2.513900</td>\n",
       "      <td>-17.034975</td>\n",
       "    </tr>\n",
       "    <tr>\n",
       "      <th>4</th>\n",
       "      <td>9.215339</td>\n",
       "      <td>-16.669917</td>\n",
       "    </tr>\n",
       "  </tbody>\n",
       "</table>\n",
       "</div>"
      ],
      "text/plain": [
       "                   x          F\n",
       "Unnamed: 0                     \n",
       "0          -6.650469 -17.091729\n",
       "1          -3.057585 -17.150239\n",
       "2           4.324625 -17.322252\n",
       "3           2.513900 -17.034975\n",
       "4           9.215339 -16.669917"
      ]
     },
     "execution_count": 10,
     "metadata": {},
     "output_type": "execute_result"
    }
   ],
   "source": [
    "df = pd.read_csv('hw31.csv').set_index('Unnamed: 0')\n",
    "df.head()"
   ]
  },
  {
   "cell_type": "code",
   "execution_count": 11,
   "metadata": {},
   "outputs": [],
   "source": [
    "import math\n",
    "def f(a, b, c, x): \n",
    "    return a * math.cos(b * x) +c\n",
    "\n",
    "def error(f, a, b, c, x, y_true):\n",
    "    y_pred = f(a, b, c, x)\n",
    "    return (y_true - y_pred) ** 2\n",
    "\n",
    "def der_a(f, a, b, c, x, y_true):\n",
    "    e1 = error(f, a, b, c, x, y_true)\n",
    "    e2 = error(f, a + 0.0001, b, c, x, y_true)\n",
    "    return (e2 - e1) / 0.0001\n",
    "    \n",
    "def der_b(f, a, b, c, x, y_true):\n",
    "    e1 = error(f, a, b, c, x, y_true)\n",
    "    e2 = error(f, a, b + 0.0001, c, x,  y_true)\n",
    "    return (e2 - e1) / 0.0001\n",
    "    \n",
    "def der_c(f, a, b, c, x, y_true):\n",
    "    e1 = error(f, a, b, c, x, y_true)\n",
    "    e2 = error(f, a , b, c + 0.0001, x,  y_true)\n",
    "    return (e2 - e1) / 0.0001"
   ]
  },
  {
   "cell_type": "code",
   "execution_count": 17,
   "metadata": {},
   "outputs": [
    {
     "name": "stdout",
     "output_type": "stream",
     "text": [
      "-0.0885621995853785 1.1085700570702806 -16.99040248465327\n"
     ]
    }
   ],
   "source": [
    "a, b, c = 1, 1, 1\n",
    "learning_rate = 0.0001\n",
    "for j in range(50):\n",
    "    for _, row in df.iterrows():\n",
    "        x, y_true = row[0], row[1]\n",
    "        a -= learning_rate * der_a(f, a, b, c, x, y_true)\n",
    "        b -= learning_rate * der_b(f, a, b, c, x, y_true)\n",
    "        c -= learning_rate * der_c(f, a, b, c, x, y_true)\n",
    "print(a, b, c)"
   ]
  }
 ],
 "metadata": {
  "kernelspec": {
   "display_name": "Python 3",
   "language": "python",
   "name": "python3"
  },
  "language_info": {
   "codemirror_mode": {
    "name": "ipython",
    "version": 3
   },
   "file_extension": ".py",
   "mimetype": "text/x-python",
   "name": "python",
   "nbconvert_exporter": "python",
   "pygments_lexer": "ipython3",
   "version": "3.8.3"
  }
 },
 "nbformat": 4,
 "nbformat_minor": 4
}
