{
 "cells": [
  {
   "cell_type": "code",
   "execution_count": 4,
   "metadata": {},
   "outputs": [
    {
     "name": "stdout",
     "output_type": "stream",
     "text": [
      "0.0001\n",
      "0.0001\n",
      "0.001\n",
      "0.001\n",
      "0.01\n",
      "0.01\n",
      "0.02\n",
      "0.02\n",
      "0.05\n",
      "0.05\n",
      "0.1\n",
      "0.1\n",
      "0.2\n",
      "0.2\n",
      "1\n",
      "1\n"
     ]
    }
   ],
   "source": [
    "import pandas as pd\n",
    "from surprise import SVD\n",
    "from surprise import BaselineOnly\n",
    "from surprise import Dataset\n",
    "from surprise import Reader\n",
    "from surprise.model_selection import cross_validate\n",
    "from surprise import accuracy\n",
    "from surprise.model_selection import PredefinedKFold\n",
    "\n",
    "folds_files = [\n",
    "    ('ua.base', 'ua.base'),\n",
    "    ('ua.base', 'ua.test')\n",
    "]\n",
    "reader = Reader(line_format='user item rating timestamp', sep='\\t')\n",
    "data = Dataset.load_from_folds(folds_files, reader=reader)\n",
    "train_res = []\n",
    "test_res = []\n",
    "pkf = PredefinedKFold()\n",
    "lr = [0.0001, 0.001, 0.01, 0.02, 0.05, 0.1, 0.2, 1]\n",
    "for l in lr:\n",
    "    algo = SVD(lr_all=l)\n",
    "    for trainset, testset in pkf.split(data):\n",
    "        algo.fit(trainset)\n",
    "        predictions = algo.test(testset)\n",
    "        ret = accuracy.rmse(predictions, verbose=False)\n",
    "        if len(train_res) == len(test_res):\n",
    "            train_res.append(ret)\n",
    "        else:\n",
    "            test_res.append(ret)\n",
    "        print(l)"
   ]
  },
  {
   "cell_type": "code",
   "execution_count": 5,
   "metadata": {},
   "outputs": [
    {
     "data": {
      "text/plain": [
       "[<matplotlib.lines.Line2D at 0x2b3b8af9c70>]"
      ]
     },
     "execution_count": 5,
     "metadata": {},
     "output_type": "execute_result"
    },
    {
     "data": {
      "image/png": "[encoded data removed]",
      "text/plain": [
       "<Figure size 432x288 with 1 Axes>"
      ]
     },
     "metadata": {
      "needs_background": "light"
     },
     "output_type": "display_data"
    }
   ],
   "source": [
    "import matplotlib.pyplot as plt\n",
    "plt.plot(range(len(lr)), train_res, marker='o', color='red') #optimal lerning rate for train is 0.05\n",
    "plt.plot(range(len(lr)), test_res, marker='o', color='blue') #optimal lerning rate for test is 0.01"
   ]
  },
  {
   "cell_type": "code",
   "execution_count": 6,
   "metadata": {},
   "outputs": [
    {
     "name": "stdout",
     "output_type": "stream",
     "text": [
      "0.005\n",
      "0.005\n",
      "0.01\n",
      "0.01\n",
      "0.02\n",
      "0.02\n",
      "0.05\n",
      "0.05\n",
      "0.1\n",
      "0.1\n",
      "0.2\n",
      "0.2\n",
      "0.5\n",
      "0.5\n",
      "1\n",
      "1\n"
     ]
    }
   ],
   "source": [
    "folds_files = [\n",
    "    ('ua.base', 'ua.base'),\n",
    "    ('ua.base', 'ua.test')\n",
    "]\n",
    "reader = Reader(line_format='user item rating timestamp', sep='\\t')\n",
    "data = Dataset.load_from_folds(folds_files, reader=reader)\n",
    "train_res = []\n",
    "test_res = []\n",
    "pkf = PredefinedKFold()\n",
    "reg = [0.005, 0.01, 0.02, 0.05, 0.1, 0.2, 0.5, 1]\n",
    "for r in reg:\n",
    "    algo = SVD(reg_all=r)\n",
    "    for trainset, testset in pkf.split(data):\n",
    "        algo.fit(trainset)\n",
    "        predictions = algo.test(testset)\n",
    "        ret = accuracy.rmse(predictions, verbose=False)\n",
    "        if len(train_res) == len(test_res):\n",
    "            train_res.append(ret)\n",
    "        else:\n",
    "            test_res.append(ret)\n",
    "        print(r)"
   ]
  },
  {
   "cell_type": "code",
   "execution_count": 7,
   "metadata": {},
   "outputs": [
    {
     "data": {
      "text/plain": [
       "[<matplotlib.lines.Line2D at 0x2b3baf09070>]"
      ]
     },
     "execution_count": 7,
     "metadata": {},
     "output_type": "execute_result"
    },
    {
     "data": {
      "image/png": "[encoded data removed]",
      "text/plain": [
       "<Figure size 432x288 with 1 Axes>"
      ]
     },
     "metadata": {
      "needs_background": "light"
     },
     "output_type": "display_data"
    }
   ],
   "source": [
    "plt.plot(range(len(reg)), train_res, marker='o', color='red') #optimal reg_all for train is 0.005\n",
    "plt.plot(range(len(reg)), test_res, marker='o', color='blue') #optimal reg_all for test is 0.05"
   ]
  },
  {
   "cell_type": "code",
   "execution_count": 5,
   "metadata": {},
   "outputs": [
    {
     "name": "stdout",
     "output_type": "stream",
     "text": [
      "0.9390405412104069\n",
      "{'n_epochs': 30, 'n_factors': 100, 'lr_all': 0.02, 'reg_all': 0.2}\n"
     ]
    }
   ],
   "source": [
    "from surprise.model_selection import GridSearchCV\n",
    "data = Dataset.load_builtin('ml-100k')\n",
    "param_grid = {'n_epochs': [5, 10, 15, 30], \n",
    "              'n_factors': [10, 30, 50, 100],\n",
    "              'lr_all': [0.002, 0.005, 0.01, 0.02],\n",
    "              'reg_all': [0.4, 0.6, 0.2, 0.5]}\n",
    "\n",
    "gs = GridSearchCV(SVD, param_grid, measures=['rmse'], cv=3, n_jobs=4)\n",
    "gs.fit(data)\n",
    "print(gs.best_score['rmse'])\n",
    "print(gs.best_params['rmse'])#best set {'n_epochs': 30, 'n_factors': 100, 'lr_all': 0.02, 'reg_all': 0.2}"
   ]
  },
  {
   "cell_type": "code",
   "execution_count": null,
   "metadata": {},
   "outputs": [],
   "source": []
  }
 ],
 "metadata": {
  "kernelspec": {
   "display_name": "Python 3",
   "language": "python",
   "name": "python3"
  },
  "language_info": {
   "codemirror_mode": {
    "name": "ipython",
    "version": 3
   },
   "file_extension": ".py",
   "mimetype": "text/x-python",
   "name": "python",
   "nbconvert_exporter": "python",
   "pygments_lexer": "ipython3",
   "version": "3.8.3"
  }
 },
 "nbformat": 4,
 "nbformat_minor": 4
}
