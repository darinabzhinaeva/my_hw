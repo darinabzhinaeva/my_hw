{
 "cells": [
  {
   "cell_type": "code",
   "execution_count": 5,
   "metadata": {},
   "outputs": [],
   "source": [
    "import math\n",
    "import pandas as pd"
   ]
  },
  {
   "cell_type": "code",
   "execution_count": 9,
   "metadata": {},
   "outputs": [
    {
     "data": {
      "text/html": [
       "<div>\n",
       "<style scoped>\n",
       "    .dataframe tbody tr th:only-of-type {\n",
       "        vertical-align: middle;\n",
       "    }\n",
       "\n",
       "    .dataframe tbody tr th {\n",
       "        vertical-align: top;\n",
       "    }\n",
       "\n",
       "    .dataframe thead th {\n",
       "        text-align: right;\n",
       "    }\n",
       "</style>\n",
       "<table border=\"1\" class=\"dataframe\">\n",
       "  <thead>\n",
       "    <tr style=\"text-align: right;\">\n",
       "      <th></th>\n",
       "      <th>x</th>\n",
       "      <th>F</th>\n",
       "    </tr>\n",
       "  </thead>\n",
       "  <tbody>\n",
       "    <tr>\n",
       "      <th>0</th>\n",
       "      <td>9.481538</td>\n",
       "      <td>394.853787</td>\n",
       "    </tr>\n",
       "    <tr>\n",
       "      <th>1</th>\n",
       "      <td>6.878546</td>\n",
       "      <td>238.295702</td>\n",
       "    </tr>\n",
       "    <tr>\n",
       "      <th>2</th>\n",
       "      <td>9.436524</td>\n",
       "      <td>393.053669</td>\n",
       "    </tr>\n",
       "    <tr>\n",
       "      <th>3</th>\n",
       "      <td>3.572694</td>\n",
       "      <td>55.666155</td>\n",
       "    </tr>\n",
       "    <tr>\n",
       "      <th>4</th>\n",
       "      <td>1.079596</td>\n",
       "      <td>13.537515</td>\n",
       "    </tr>\n",
       "  </tbody>\n",
       "</table>\n",
       "</div>"
      ],
      "text/plain": [
       "          x   F                   \n",
       "0  9.481538             394.853787\n",
       "1  6.878546             238.295702\n",
       "2  9.436524             393.053669\n",
       "3  3.572694              55.666155\n",
       "4  1.079596              13.537515"
      ]
     },
     "execution_count": 9,
     "metadata": {},
     "output_type": "execute_result"
    }
   ],
   "source": [
    "df = pd.read_csv('yandex_data.csv')\n",
    "df.head()"
   ]
  },
  {
   "cell_type": "code",
   "execution_count": 27,
   "metadata": {},
   "outputs": [],
   "source": [
    "def f(a, b, c, x):\n",
    "    return (a * math.sin(x) + b * math.log(x)) ** 2 + c * (x **2)"
   ]
  },
  {
   "cell_type": "code",
   "execution_count": 28,
   "metadata": {},
   "outputs": [],
   "source": [
    "def error_da(f, a, b, c, x, F):\n",
    "    da = 0.0001\n",
    "    f1 = f(a, b, c, x)\n",
    "    f2 = f(a + da, b, c, x)\n",
    "    e1 = (F - f1) ** 2\n",
    "    e2 = (F - f2) ** 2\n",
    "    return (e2 - e1) / da\n",
    "\n",
    "def error_db(f, a, b, c, x, F):\n",
    "    db = 0.0001\n",
    "    f1 = f(a, b, c, x)\n",
    "    f2 = f(a, b + db, c, x)\n",
    "    e1 = (F - f1) ** 2\n",
    "    e2 = (F - f2) ** 2\n",
    "    return (e2 - e1) / db\n",
    "\n",
    "def error_dc(f, a, b, c, x, F):\n",
    "    dc = 0.0001\n",
    "    f1 = f(a, b, c, x)\n",
    "    f2 = f(a, b, c + dc, x)\n",
    "    e1 = (F - f1) ** 2\n",
    "    e2 = (F - f2) ** 2\n",
    "    return (e2 - e1) / dc"
   ]
  },
  {
   "cell_type": "code",
   "execution_count": 36,
   "metadata": {},
   "outputs": [
    {
     "name": "stdout",
     "output_type": "stream",
     "text": [
      "3.140978897774492 2.719421180940797 4.000377257048\n"
     ]
    }
   ],
   "source": [
    "a, b, c = 1, 1, 1\n",
    "learning_rate = 0.0001\n",
    "for j in range(100):\n",
    "    for i, row in df.iterrows():\n",
    "        x, F = row[0], row[1]\n",
    "        a -= learning_rate * error_da(f, a, b, c, x, F)\n",
    "        b -= learning_rate * error_db(f, a, b, c, x, F)\n",
    "        c -= learning_rate * error_dc(f, a, b, c, x, F)\n",
    "    \n",
    "print(a, b, c)"
   ]
  },
  {
   "cell_type": "code",
   "execution_count": 31,
   "metadata": {},
   "outputs": [],
   "source": [
    "def error_da2(f, a, b, c, x, F):\n",
    "    da = 0.0001\n",
    "    f1 = f(a, b, c, x)\n",
    "    f2 = f(a + da, b, c, x)\n",
    "    e1 = abs(F - f1)\n",
    "    e2 = abs(F - f2)\n",
    "    return (e2 - e1) / da\n",
    "\n",
    "def error_db2(f, a, b, c, x, F):\n",
    "    db = 0.0001\n",
    "    f1 = f(a, b, c, x)\n",
    "    f2 = f(a, b + db, c, x)\n",
    "    e1 = abs(F - f1)\n",
    "    e2 = abs(F - f2)\n",
    "    return (e2 - e1) / db\n",
    "\n",
    "def error_dc2(f, a, b, c, x, F):\n",
    "    dc = 0.0001\n",
    "    f1 = f(a, b, c, x)\n",
    "    f2 = f(a, b, c + dc, x)\n",
    "    e1 = abs(F - f1)\n",
    "    e2 = abs(F - f2)\n",
    "    return (e2 - e1) / dc"
   ]
  },
  {
   "cell_type": "code",
   "execution_count": 40,
   "metadata": {},
   "outputs": [
    {
     "name": "stdout",
     "output_type": "stream",
     "text": [
      "3.1690300157412934 2.731369060315344 4.019544481479311\n"
     ]
    }
   ],
   "source": [
    "a, b, c = 1, 1, 1\n",
    "learning_rate = 0.001\n",
    "for j in range(1):\n",
    "    for i, row in df.iterrows():\n",
    "        x, F = row[0], row[1]\n",
    "        a -= learning_rate * error_da2(f, a, b, c, x, F)\n",
    "        b -= learning_rate * error_db2(f, a, b, c, x, F)\n",
    "        c -= learning_rate * error_dc2(f, a, b, c, x, F)\n",
    "    \n",
    "print(a, b, c)"
   ]
  },
  {
   "cell_type": "markdown",
   "metadata": {},
   "source": [
    "a is a PI number 3.14\n",
    "\n",
    "b is an Eiler number 2.71\n",
    "\n",
    "and c is ~ 4"
   ]
  }
 ],
 "metadata": {
  "kernelspec": {
   "display_name": "Python 3",
   "language": "python",
   "name": "python3"
  },
  "language_info": {
   "codemirror_mode": {
    "name": "ipython",
    "version": 3
   },
   "file_extension": ".py",
   "mimetype": "text/x-python",
   "name": "python",
   "nbconvert_exporter": "python",
   "pygments_lexer": "ipython3",
   "version": "3.8.3"
  }
 },
 "nbformat": 4,
 "nbformat_minor": 4
}
