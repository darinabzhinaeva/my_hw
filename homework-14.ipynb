{
 "cells": [
  {
   "cell_type": "code",
   "execution_count": 2,
   "metadata": {},
   "outputs": [],
   "source": [
    "import pandas as pd"
   ]
  },
  {
   "cell_type": "code",
   "execution_count": 18,
   "metadata": {},
   "outputs": [],
   "source": [
    "df1 = pd.read_csv('hw14_data1.csv')\n",
    "df2 = pd.read_csv('hw14_data2.csv')\n",
    "df3 = pd.read_csv('hw14_data3.csv')"
   ]
  },
  {
   "cell_type": "code",
   "execution_count": 15,
   "metadata": {},
   "outputs": [],
   "source": [
    "def our_prediction(a, x, b, y, c, z):\n",
    "    return a * x + b * y + c * z\n",
    "\n",
    "def error_da(f, a, x, b, y, c, z, F):\n",
    "    da = 0.0001\n",
    "    f1 = f(a, x, b, y, c, z)\n",
    "    f2 = f(a + da, x, b, y, c, z)\n",
    "    e1 = (F - f1) ** 2\n",
    "    e2 = (F - f2) ** 2\n",
    "    return (e2 - e1) / da\n",
    "\n",
    "def error_db(f, a, x, b, y, c, z, F):\n",
    "    db = 0.0001\n",
    "    f1 = f(a, x, b, y, c, z)\n",
    "    f2 = f(a, x, b + db, y, c, z)\n",
    "    e1 = (F - f1) ** 2\n",
    "    e2 = (F - f2) ** 2\n",
    "    return (e2 - e1) / db\n",
    "\n",
    "def error_dc(f, a, x, b, y, c, z, F):\n",
    "    dc = 0.0001\n",
    "    f1 = f(a, x, b, y, c, z)\n",
    "    f2 = f(a, x, b, y, c + dc, z)\n",
    "    e1 = (F - f1) ** 2\n",
    "    e2 = (F - f2) ** 2\n",
    "    return (e2 - e1) / dc"
   ]
  },
  {
   "cell_type": "code",
   "execution_count": 42,
   "metadata": {},
   "outputs": [
    {
     "name": "stdout",
     "output_type": "stream",
     "text": [
      "2.7183863327699593 100.4998567878613 3.1410865557739927\n"
     ]
    }
   ],
   "source": [
    "a, b, c = 1, 1, 1\n",
    "a_l1, b_l1, c_l1 = [], [], []\n",
    "learning_rate = 0.0001\n",
    "for i, row in df1.iterrows():\n",
    "    x, y, z, F = row['x'], row['y'], row['z'], row['F']\n",
    "    a -= learning_rate * error_da(our_prediction, a, x, b, y, c, z, F)\n",
    "    b -= learning_rate * error_db(our_prediction, a, x, b, y, c, z, F)\n",
    "    c -= learning_rate * error_dc(our_prediction, a, x, b, y, c, z, F)\n",
    "    a_l1.append(a)\n",
    "    b_l1.append(b)\n",
    "    c_l1.append(c)\n",
    "    \n",
    "print(a, b, c)"
   ]
  },
  {
   "cell_type": "code",
   "execution_count": 43,
   "metadata": {},
   "outputs": [
    {
     "name": "stdout",
     "output_type": "stream",
     "text": [
      "2.718797841508482 100.49878566066553 3.1398867251455815\n"
     ]
    }
   ],
   "source": [
    "a, b, c = 1, 1, 1\n",
    "a_l2, b_l2, c_l2 = [], [], []\n",
    "learning_rate = 0.0001\n",
    "for i, row in df2.iterrows():\n",
    "    x, y, z, F = row['x'], row['y'], row['z'], row['F']\n",
    "    a -= learning_rate * error_da(our_prediction, a, x, b, y, c, z, F)\n",
    "    b -= learning_rate * error_db(our_prediction, a, x, b, y, c, z, F)\n",
    "    c -= learning_rate * error_dc(our_prediction, a, x, b, y, c, z, F)\n",
    "    a_l2.append(a)\n",
    "    b_l2.append(b)\n",
    "    c_l2.append(c)\n",
    "    \n",
    "print(a, b, c)"
   ]
  },
  {
   "cell_type": "code",
   "execution_count": 44,
   "metadata": {},
   "outputs": [
    {
     "name": "stdout",
     "output_type": "stream",
     "text": [
      "2.715956619474663 100.49689929030006 3.138619690504873\n"
     ]
    }
   ],
   "source": [
    "a, b, c = 1, 1, 1\n",
    "a_l3, b_l3, c_l3 = [], [], []\n",
    "learning_rate = 0.00001\n",
    "for i, row in df3.iterrows():\n",
    "    x, y, z, F = row['x'], row['y'], row['z'], row['F']\n",
    "    a -= learning_rate * error_da(our_prediction, a, x, b, y, c, z, F)\n",
    "    b -= learning_rate * error_db(our_prediction, a, x, b, y, c, z, F)\n",
    "    c -= learning_rate * error_dc(our_prediction, a, x, b, y, c, z, F)\n",
    "    a_l3.append(a)\n",
    "    b_l3.append(b)\n",
    "    c_l3.append(c)\n",
    "    \n",
    "print(a, b, c)"
   ]
  },
  {
   "cell_type": "code",
   "execution_count": 46,
   "metadata": {},
   "outputs": [
    {
     "data": {
      "text/plain": [
       "[<matplotlib.lines.Line2D at 0x2453c6ad188>]"
      ]
     },
     "execution_count": 46,
     "metadata": {},
     "output_type": "execute_result"
    },
    {
     "data": {
      "image/png": "[encoded data removed]",
      "text/plain": [
       "<Figure size 432x288 with 1 Axes>"
      ]
     },
     "metadata": {
      "needs_background": "light"
     },
     "output_type": "display_data"
    }
   ],
   "source": [
    "from matplotlib.pyplot import plot\n",
    "plot(range(len(c_l1)), c_l1)"
   ]
  },
  {
   "cell_type": "code",
   "execution_count": 47,
   "metadata": {},
   "outputs": [
    {
     "data": {
      "text/plain": [
       "[<matplotlib.lines.Line2D at 0x2453c7109c8>]"
      ]
     },
     "execution_count": 47,
     "metadata": {},
     "output_type": "execute_result"
    },
    {
     "data": {
      "image/png": "[encoded data removed]",
      "text/plain": [
       "<Figure size 432x288 with 1 Axes>"
      ]
     },
     "metadata": {
      "needs_background": "light"
     },
     "output_type": "display_data"
    }
   ],
   "source": [
    "from matplotlib.pyplot import plot\n",
    "plot(range(len(c_l2)), c_l2)"
   ]
  },
  {
   "cell_type": "code",
   "execution_count": 48,
   "metadata": {},
   "outputs": [
    {
     "data": {
      "text/plain": [
       "[<matplotlib.lines.Line2D at 0x2453c77f308>]"
      ]
     },
     "execution_count": 48,
     "metadata": {},
     "output_type": "execute_result"
    },
    {
     "data": {
      "image/png": "[encoded data removed]",
      "text/plain": [
       "<Figure size 432x288 with 1 Axes>"
      ]
     },
     "metadata": {
      "needs_background": "light"
     },
     "output_type": "display_data"
    }
   ],
   "source": [
    "from matplotlib.pyplot import plot\n",
    "plot(range(len(c_l3)), c_l3)"
   ]
  },
  {
   "cell_type": "markdown",
   "metadata": {},
   "source": [
    "in the first dataset we get our c parameter after about ~180 iteration\n",
    "\n",
    "in the second dataset we get our c parameter after about ~100 iteration\n",
    "\n",
    "in the third dataset we get our c parameter after about ~60 iteration\n",
    "\n",
    "so i suggest that the best dataset is the third, beacuse in it we find c parameter faster"
   ]
  }
 ],
 "metadata": {
  "kernelspec": {
   "display_name": "Python 3",
   "language": "python",
   "name": "python3"
  },
  "language_info": {
   "codemirror_mode": {
    "name": "ipython",
    "version": 3
   },
   "file_extension": ".py",
   "mimetype": "text/x-python",
   "name": "python",
   "nbconvert_exporter": "python",
   "pygments_lexer": "ipython3",
   "version": "3.7.6"
  }
 },
 "nbformat": 4,
 "nbformat_minor": 4
}
