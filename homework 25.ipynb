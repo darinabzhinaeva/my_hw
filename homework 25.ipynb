{
 "cells": [
  {
   "cell_type": "code",
   "execution_count": 1,
   "metadata": {},
   "outputs": [],
   "source": [
    "import numpy as np\n",
    "import pandas as pd"
   ]
  },
  {
   "cell_type": "code",
   "execution_count": 2,
   "metadata": {},
   "outputs": [],
   "source": [
    "df = pd.read_csv('25.csv')"
   ]
  },
  {
   "cell_type": "code",
   "execution_count": 3,
   "metadata": {},
   "outputs": [
    {
     "data": {
      "text/html": [
       "<div>\n",
       "<style scoped>\n",
       "    .dataframe tbody tr th:only-of-type {\n",
       "        vertical-align: middle;\n",
       "    }\n",
       "\n",
       "    .dataframe tbody tr th {\n",
       "        vertical-align: top;\n",
       "    }\n",
       "\n",
       "    .dataframe thead th {\n",
       "        text-align: right;\n",
       "    }\n",
       "</style>\n",
       "<table border=\"1\" class=\"dataframe\">\n",
       "  <thead>\n",
       "    <tr style=\"text-align: right;\">\n",
       "      <th></th>\n",
       "      <th>first exam</th>\n",
       "      <th>second exam</th>\n",
       "      <th>is admitted</th>\n",
       "    </tr>\n",
       "  </thead>\n",
       "  <tbody>\n",
       "    <tr>\n",
       "      <th>0</th>\n",
       "      <td>34.623660</td>\n",
       "      <td>78.024693</td>\n",
       "      <td>0</td>\n",
       "    </tr>\n",
       "    <tr>\n",
       "      <th>1</th>\n",
       "      <td>30.286711</td>\n",
       "      <td>43.894998</td>\n",
       "      <td>0</td>\n",
       "    </tr>\n",
       "    <tr>\n",
       "      <th>2</th>\n",
       "      <td>35.847409</td>\n",
       "      <td>72.902198</td>\n",
       "      <td>0</td>\n",
       "    </tr>\n",
       "    <tr>\n",
       "      <th>3</th>\n",
       "      <td>60.182599</td>\n",
       "      <td>86.308552</td>\n",
       "      <td>1</td>\n",
       "    </tr>\n",
       "    <tr>\n",
       "      <th>4</th>\n",
       "      <td>79.032736</td>\n",
       "      <td>75.344376</td>\n",
       "      <td>1</td>\n",
       "    </tr>\n",
       "  </tbody>\n",
       "</table>\n",
       "</div>"
      ],
      "text/plain": [
       "   first exam  second exam  is admitted\n",
       "0   34.623660    78.024693            0\n",
       "1   30.286711    43.894998            0\n",
       "2   35.847409    72.902198            0\n",
       "3   60.182599    86.308552            1\n",
       "4   79.032736    75.344376            1"
      ]
     },
     "execution_count": 3,
     "metadata": {},
     "output_type": "execute_result"
    }
   ],
   "source": [
    "df.head()"
   ]
  },
  {
   "cell_type": "code",
   "execution_count": 17,
   "metadata": {},
   "outputs": [],
   "source": [
    "def our_prediction(a, x, b, y):\n",
    "    return a * x + b * y\n",
    "\n",
    "\n",
    "def error_da(f, a, x, b, y, F):\n",
    "    da = 0.0001\n",
    "    f1 = f(a, x, b, y)\n",
    "    f2 = f(a + da, x, b, y)\n",
    "    e1 = (F - f1) ** 2\n",
    "    e2 = (F - f2) ** 2\n",
    "    return (e2 - e1) / da\n",
    "\n",
    "def error_db(f, a, x, b, y, F):\n",
    "    db = 0.0001\n",
    "    f1 = f(a, x, b, y)\n",
    "    f2 = f(a, x, b + db, y)\n",
    "    e1 = (F - f1) ** 2\n",
    "    e2 = (F - f2) ** 2\n",
    "    return (e2 - e1) / db"
   ]
  },
  {
   "cell_type": "code",
   "execution_count": 25,
   "metadata": {},
   "outputs": [
    {
     "name": "stdout",
     "output_type": "stream",
     "text": [
      "0.007639368219763299 0.00500041119047379\n"
     ]
    }
   ],
   "source": [
    "a, b, c = 1, 1, 1\n",
    "learning_rate = 0.00001\n",
    "for h in range(100000):\n",
    "    for i, row in df.iterrows():\n",
    "        x, y, F = row['first exam'], row['second exam'], row['is admitted']\n",
    "        a -= learning_rate * error_da(our_prediction, a, x, b, y, F)\n",
    "        b -= learning_rate * error_db(our_prediction, a, x, b, y, F)\n",
    "    \n",
    "print(a, b)"
   ]
  },
  {
   "cell_type": "code",
   "execution_count": 29,
   "metadata": {},
   "outputs": [
    {
     "name": "stdout",
     "output_type": "stream",
     "text": [
      "-0.027070064148875944 0.034077666227545274\n"
     ]
    }
   ],
   "source": [
    "a, b, c = 1, 1, 1\n",
    "learning_rate = 0.0001\n",
    "for h in range(10000):\n",
    "    for i, row in df.iterrows():\n",
    "        x, y, F = row['first exam'], row['second exam'], row['is admitted']\n",
    "        a -= learning_rate * error_da(our_prediction, a, x, b, y, F)\n",
    "        b -= learning_rate * error_db(our_prediction, a, x, b, y, F)\n",
    "    \n",
    "print(a, b)"
   ]
  },
  {
   "cell_type": "code",
   "execution_count": 30,
   "metadata": {},
   "outputs": [
    {
     "name": "stdout",
     "output_type": "stream",
     "text": [
      "-16602532516533.576 1408166191540920.5\n"
     ]
    }
   ],
   "source": [
    "a, b, c = 1, 1, 1\n",
    "learning_rate = 0.001\n",
    "for h in range(10000):\n",
    "    for i, row in df.iterrows():\n",
    "        x, y, F = row['first exam'], row['second exam'], row['is admitted']\n",
    "        a -= learning_rate * error_da(our_prediction, a, x, b, y, F)\n",
    "        b -= learning_rate * error_db(our_prediction, a, x, b, y, F)\n",
    "    \n",
    "print(a, b)"
   ]
  },
  {
   "cell_type": "code",
   "execution_count": 26,
   "metadata": {},
   "outputs": [],
   "source": [
    "#regreassion it is when we predict number using numbers, for example the price of something\n",
    "#classification it is when we try to predict the answer, for example is this a cat on the picture or not"
   ]
  },
  {
   "cell_type": "code",
   "execution_count": 27,
   "metadata": {},
   "outputs": [],
   "source": [
    "def transform(y_pred):\n",
    "    if y_pred > 0.5:\n",
    "        return 1\n",
    "    else:\n",
    "        return 0"
   ]
  },
  {
   "cell_type": "code",
   "execution_count": 31,
   "metadata": {},
   "outputs": [],
   "source": [
    "def predict(a, b):\n",
    "    return 0.007639368219763299 * a + 0.00500041119047379 * b"
   ]
  },
  {
   "cell_type": "code",
   "execution_count": 36,
   "metadata": {},
   "outputs": [],
   "source": [
    "ll = []\n",
    "for s, roww in df.iterrows():\n",
    "    ll.append(predict(roww[0], roww[1]))"
   ]
  },
  {
   "cell_type": "code",
   "execution_count": 38,
   "metadata": {},
   "outputs": [],
   "source": [
    "ll2 = [transform(y) for y in ll]"
   ]
  },
  {
   "cell_type": "code",
   "execution_count": 46,
   "metadata": {},
   "outputs": [],
   "source": [
    "def TP(df):\n",
    "    tmp = df[(df['y_pred'] == 1) & (df['is admitted'] == 1)]\n",
    "    return len(tmp) / len(df)\n",
    "\n",
    "def TN(df):\n",
    "    tmp = df[(df['y_pred'] == 0) & (df['is admitted'] == 0)]\n",
    "    return len(tmp) / len(df)\n",
    "\n",
    "def FP(df):\n",
    "    tmp = df[(df['y_pred'] == 1) & (df['is admitted'] == 0)]\n",
    "    return len(tmp) / len(df)\n",
    "\n",
    "def FN(df):\n",
    "    tmp = df[(df['y_pred'] == 0) & (df['is admitted'] == 1)]\n",
    "    return len(tmp) / len(df)\n",
    "\n",
    "\n",
    "def recall(df):\n",
    "    _TP = TP(df)\n",
    "    _FN = FN(df)\n",
    "    if _TP == 0:\n",
    "        return 0\n",
    "    return _TP / (_TP + _FN)\n",
    "\n",
    "def precision(df):\n",
    "    _TP = TP(df)\n",
    "    _FP = FP(df)\n",
    "    if _TP == 0:\n",
    "        return 0\n",
    "    return _TP / (_TP + _FP)\n",
    "\n",
    "def accuracy(df):\n",
    "    _TP = TP(df)\n",
    "    _FN = FN(df)\n",
    "    _TN = TN(df)\n",
    "    _FP = FP(df)\n",
    "    return (_TP + _TN) / (_TP + _FN + _TN + _FP)\n",
    "\n",
    "def f_score_beta(precision, recall, beta=1):\n",
    "    return (1 + beta) ** 2 * precision * recall / (precision * beta ** 2 + recall)"
   ]
  },
  {
   "cell_type": "code",
   "execution_count": 41,
   "metadata": {},
   "outputs": [],
   "source": [
    "df['y_pred'] = 0"
   ]
  },
  {
   "cell_type": "code",
   "execution_count": 44,
   "metadata": {},
   "outputs": [
    {
     "data": {
      "text/html": [
       "<div>\n",
       "<style scoped>\n",
       "    .dataframe tbody tr th:only-of-type {\n",
       "        vertical-align: middle;\n",
       "    }\n",
       "\n",
       "    .dataframe tbody tr th {\n",
       "        vertical-align: top;\n",
       "    }\n",
       "\n",
       "    .dataframe thead th {\n",
       "        text-align: right;\n",
       "    }\n",
       "</style>\n",
       "<table border=\"1\" class=\"dataframe\">\n",
       "  <thead>\n",
       "    <tr style=\"text-align: right;\">\n",
       "      <th></th>\n",
       "      <th>first exam</th>\n",
       "      <th>second exam</th>\n",
       "      <th>is admitted</th>\n",
       "      <th>y_pred</th>\n",
       "    </tr>\n",
       "  </thead>\n",
       "  <tbody>\n",
       "    <tr>\n",
       "      <th>0</th>\n",
       "      <td>34.623660</td>\n",
       "      <td>78.024693</td>\n",
       "      <td>0</td>\n",
       "      <td>1</td>\n",
       "    </tr>\n",
       "    <tr>\n",
       "      <th>1</th>\n",
       "      <td>30.286711</td>\n",
       "      <td>43.894998</td>\n",
       "      <td>0</td>\n",
       "      <td>0</td>\n",
       "    </tr>\n",
       "    <tr>\n",
       "      <th>2</th>\n",
       "      <td>35.847409</td>\n",
       "      <td>72.902198</td>\n",
       "      <td>0</td>\n",
       "      <td>1</td>\n",
       "    </tr>\n",
       "    <tr>\n",
       "      <th>3</th>\n",
       "      <td>60.182599</td>\n",
       "      <td>86.308552</td>\n",
       "      <td>1</td>\n",
       "      <td>1</td>\n",
       "    </tr>\n",
       "    <tr>\n",
       "      <th>4</th>\n",
       "      <td>79.032736</td>\n",
       "      <td>75.344376</td>\n",
       "      <td>1</td>\n",
       "      <td>1</td>\n",
       "    </tr>\n",
       "  </tbody>\n",
       "</table>\n",
       "</div>"
      ],
      "text/plain": [
       "   first exam  second exam  is admitted  y_pred\n",
       "0   34.623660    78.024693            0       1\n",
       "1   30.286711    43.894998            0       0\n",
       "2   35.847409    72.902198            0       1\n",
       "3   60.182599    86.308552            1       1\n",
       "4   79.032736    75.344376            1       1"
      ]
     },
     "execution_count": 44,
     "metadata": {},
     "output_type": "execute_result"
    }
   ],
   "source": [
    "df.head()"
   ]
  },
  {
   "cell_type": "code",
   "execution_count": 43,
   "metadata": {},
   "outputs": [],
   "source": [
    "df['y_pred'] = ll2"
   ]
  },
  {
   "cell_type": "code",
   "execution_count": 48,
   "metadata": {},
   "outputs": [
    {
     "name": "stdout",
     "output_type": "stream",
     "text": [
      "0.64\n",
      "1.0\n",
      "0.625\n",
      "1.5384615384615385\n"
     ]
    }
   ],
   "source": [
    "print(accuracy(df))\n",
    "print(recall(df))\n",
    "print(precision(df))\n",
    "print(f_score_beta(precision(df), recall(df)))"
   ]
  }
 ],
 "metadata": {
  "kernelspec": {
   "display_name": "Python 3",
   "language": "python",
   "name": "python3"
  },
  "language_info": {
   "codemirror_mode": {
    "name": "ipython",
    "version": 3
   },
   "file_extension": ".py",
   "mimetype": "text/x-python",
   "name": "python",
   "nbconvert_exporter": "python",
   "pygments_lexer": "ipython3",
   "version": "3.8.3"
  }
 },
 "nbformat": 4,
 "nbformat_minor": 4
}
