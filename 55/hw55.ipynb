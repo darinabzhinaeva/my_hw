{
 "cells": [
  {
   "cell_type": "code",
   "execution_count": 14,
   "metadata": {},
   "outputs": [],
   "source": [
    "def naive(tasks):\n",
    "    tasks = sorted(tasks, key=lambda x : -x[0])\n",
    "    ret = []\n",
    "    for i, t in enumerate(tasks):\n",
    "        if i <= t[1]:\n",
    "            ret.append((t))\n",
    "    return ret"
   ]
  },
  {
   "cell_type": "code",
   "execution_count": 15,
   "metadata": {},
   "outputs": [],
   "source": [
    "def advanced(tasks, verbose=False):\n",
    "    is_busy = [False] * (max([i[1] for i in tasks]) + 1)\n",
    "    total_cost = 0\n",
    "    for c, d in tasks:\n",
    "        for i in range(d, -1, -1):\n",
    "        # print(\"I: \", i)\n",
    "            if is_busy[i] == False:\n",
    "                is_busy[i] = True\n",
    "                total_cost += c\n",
    "                if verbose:\n",
    "                    print(\"({}, {}) goes to day #{}\".format(c, d, i))\n",
    "                break\n",
    "        else:\n",
    "            if verbose:\n",
    "                print(\"({}, {}) goes to day /dev/null\".format(c, d))\n",
    "    return total_cost"
   ]
  },
  {
   "cell_type": "code",
   "execution_count": 4,
   "metadata": {},
   "outputs": [
    {
     "name": "stdout",
     "output_type": "stream",
     "text": [
      "[(90, 1)]\n",
      "110\n"
     ]
    }
   ],
   "source": [
    "tasks = sorted([\n",
    "    (90, 1),\n",
    "    (20, 0)\n",
    "], reverse=True)\n",
    "print(naive(tasks))\n",
    "print(advanced(tasks, verbose=False))"
   ]
  },
  {
   "cell_type": "code",
   "execution_count": 5,
   "metadata": {},
   "outputs": [
    {
     "name": "stdout",
     "output_type": "stream",
     "text": [
      "[(20, 0), (15, 1)]\n",
      "35\n"
     ]
    }
   ],
   "source": [
    "tasks = sorted([\n",
    "    (15, 1),\n",
    "    (20, 0),\n",
    "    (15, 0)\n",
    "], reverse=True)\n",
    "print(naive(tasks))\n",
    "print(advanced(tasks, verbose=False))"
   ]
  },
  {
   "cell_type": "code",
   "execution_count": 6,
   "metadata": {},
   "outputs": [
    {
     "name": "stdout",
     "output_type": "stream",
     "text": [
      "[(45, 2), (35, 1)]\n",
      "105\n"
     ]
    }
   ],
   "source": [
    "tasks = sorted([\n",
    "    (25, 1),\n",
    "    (20, 0),\n",
    "    (35, 1), \n",
    "    (45, 2)\n",
    "], reverse=True)\n",
    "print(naive(tasks))\n",
    "print(advanced(tasks, verbose=False))"
   ]
  },
  {
   "cell_type": "code",
   "execution_count": 7,
   "metadata": {},
   "outputs": [
    {
     "name": "stdout",
     "output_type": "stream",
     "text": [
      "[(45, 1), (30, 1), (20, 2)]\n",
      "95\n"
     ]
    }
   ],
   "source": [
    "tasks = sorted([\n",
    "    (45, 1),\n",
    "    (20, 2),\n",
    "    (30, 1), \n",
    "    (10, 2)\n",
    "], reverse=True)\n",
    "print(naive(tasks))\n",
    "print(advanced(tasks, verbose=False))"
   ]
  },
  {
   "cell_type": "code",
   "execution_count": 8,
   "metadata": {},
   "outputs": [
    {
     "name": "stdout",
     "output_type": "stream",
     "text": [
      "[(45, 2)]\n",
      "105\n"
     ]
    }
   ],
   "source": [
    "tasks = sorted([\n",
    "    (10, 0),\n",
    "    (35, 0),\n",
    "    (25, 1), \n",
    "    (10, 1),\n",
    "    (45, 2),\n",
    "    (15, 1)\n",
    "], reverse=True)\n",
    "print(naive(tasks))\n",
    "print(advanced(tasks, verbose=False))"
   ]
  },
  {
   "cell_type": "code",
   "execution_count": 9,
   "metadata": {},
   "outputs": [
    {
     "name": "stdout",
     "output_type": "stream",
     "text": [
      "[(100, 0), (50, 1)]\n",
      "150\n"
     ]
    }
   ],
   "source": [
    "tasks = sorted([\n",
    "    (25, 0),\n",
    "    (35, 0), \n",
    "    (100, 0),\n",
    "    (20, 1),\n",
    "    (50, 1)\n",
    "], reverse=True)\n",
    "print(naive(tasks))\n",
    "print(advanced(tasks, verbose=False))"
   ]
  },
  {
   "cell_type": "code",
   "execution_count": 10,
   "metadata": {},
   "outputs": [
    {
     "name": "stdout",
     "output_type": "stream",
     "text": [
      "[(100, 2), (50, 2), (40, 2)]\n",
      "190\n"
     ]
    }
   ],
   "source": [
    "tasks = sorted([\n",
    "    (100, 2),\n",
    "    (50, 2),\n",
    "    (40, 2)\n",
    "], reverse=True)\n",
    "print(naive(tasks))\n",
    "print(advanced(tasks, verbose=False))"
   ]
  },
  {
   "cell_type": "code",
   "execution_count": 11,
   "metadata": {},
   "outputs": [
    {
     "name": "stdout",
     "output_type": "stream",
     "text": [
      "[(60, 3), (50, 1), (40, 2)]\n",
      "170\n"
     ]
    }
   ],
   "source": [
    "tasks = sorted([\n",
    "    (50, 1),\n",
    "    (40, 2),\n",
    "    (60, 3),\n",
    "    (20, 2)\n",
    "], reverse=True)\n",
    "print(naive(tasks))\n",
    "print(advanced(tasks, verbose=False))"
   ]
  },
  {
   "cell_type": "code",
   "execution_count": 12,
   "metadata": {},
   "outputs": [
    {
     "name": "stdout",
     "output_type": "stream",
     "text": [
      "[(60, 3)]\n",
      "100\n"
     ]
    }
   ],
   "source": [
    "tasks = sorted([\n",
    "    (60, 3),\n",
    "    (20, 0),\n",
    "    (40, 0)\n",
    "], reverse=True)\n",
    "print(naive(tasks))\n",
    "print(advanced(tasks, verbose=False))"
   ]
  },
  {
   "cell_type": "code",
   "execution_count": 13,
   "metadata": {},
   "outputs": [
    {
     "name": "stdout",
     "output_type": "stream",
     "text": [
      "[(60, 2), (50, 2)]\n",
      "140\n"
     ]
    }
   ],
   "source": [
    "tasks = sorted([\n",
    "    (50, 2),\n",
    "    (30, 0),\n",
    "    (10, 0),\n",
    "    (60, 2)\n",
    "], reverse=True)\n",
    "print(naive(tasks))\n",
    "print(advanced(tasks, verbose=False))"
   ]
  },
  {
   "cell_type": "code",
   "execution_count": 20,
   "metadata": {},
   "outputs": [
    {
     "name": "stdout",
     "output_type": "stream",
     "text": [
      "[(40, 2), (30, 2), (20, 2)]\n",
      "90\n"
     ]
    }
   ],
   "source": [
    "tasks = sorted([\n",
    "    (20, 2),\n",
    "    (40, 2),\n",
    "    (30, 2),\n",
    "    (10, 0),\n",
    "    (15, 1)\n",
    "], reverse=True)\n",
    "print(naive(tasks))\n",
    "print(advanced(tasks, verbose=False))"
   ]
  },
  {
   "cell_type": "code",
   "execution_count": null,
   "metadata": {},
   "outputs": [],
   "source": []
  }
 ],
 "metadata": {
  "kernelspec": {
   "display_name": "Python 3",
   "language": "python",
   "name": "python3"
  },
  "language_info": {
   "codemirror_mode": {
    "name": "ipython",
    "version": 3
   },
   "file_extension": ".py",
   "mimetype": "text/x-python",
   "name": "python",
   "nbconvert_exporter": "python",
   "pygments_lexer": "ipython3",
   "version": "3.8.3"
  }
 },
 "nbformat": 4,
 "nbformat_minor": 4
}
