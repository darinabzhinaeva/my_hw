{
 "cells": [
  {
   "cell_type": "code",
   "execution_count": 1,
   "metadata": {},
   "outputs": [
    {
     "data": {
      "text/html": [
       "<div>\n",
       "<style scoped>\n",
       "    .dataframe tbody tr th:only-of-type {\n",
       "        vertical-align: middle;\n",
       "    }\n",
       "\n",
       "    .dataframe tbody tr th {\n",
       "        vertical-align: top;\n",
       "    }\n",
       "\n",
       "    .dataframe thead th {\n",
       "        text-align: right;\n",
       "    }\n",
       "</style>\n",
       "<table border=\"1\" class=\"dataframe\">\n",
       "  <thead>\n",
       "    <tr style=\"text-align: right;\">\n",
       "      <th></th>\n",
       "      <th>x1</th>\n",
       "      <th>x2</th>\n",
       "      <th>x3</th>\n",
       "      <th>x4</th>\n",
       "      <th>x5</th>\n",
       "      <th>x6</th>\n",
       "      <th>F</th>\n",
       "    </tr>\n",
       "    <tr>\n",
       "      <th>Unnamed: 0</th>\n",
       "      <th></th>\n",
       "      <th></th>\n",
       "      <th></th>\n",
       "      <th></th>\n",
       "      <th></th>\n",
       "      <th></th>\n",
       "      <th></th>\n",
       "    </tr>\n",
       "  </thead>\n",
       "  <tbody>\n",
       "    <tr>\n",
       "      <th>0</th>\n",
       "      <td>-4.407233</td>\n",
       "      <td>-1.004943</td>\n",
       "      <td>3.369738</td>\n",
       "      <td>-6.827384</td>\n",
       "      <td>-7.607400</td>\n",
       "      <td>-6.125045</td>\n",
       "      <td>-102.401939</td>\n",
       "    </tr>\n",
       "    <tr>\n",
       "      <th>1</th>\n",
       "      <td>8.949592</td>\n",
       "      <td>-7.201886</td>\n",
       "      <td>-1.811135</td>\n",
       "      <td>-9.057689</td>\n",
       "      <td>-4.472579</td>\n",
       "      <td>-3.382036</td>\n",
       "      <td>-25.237851</td>\n",
       "    </tr>\n",
       "    <tr>\n",
       "      <th>2</th>\n",
       "      <td>7.900306</td>\n",
       "      <td>2.491849</td>\n",
       "      <td>1.203908</td>\n",
       "      <td>-7.841058</td>\n",
       "      <td>9.237987</td>\n",
       "      <td>-9.623759</td>\n",
       "      <td>94.002931</td>\n",
       "    </tr>\n",
       "    <tr>\n",
       "      <th>3</th>\n",
       "      <td>9.048100</td>\n",
       "      <td>-0.539456</td>\n",
       "      <td>-2.939854</td>\n",
       "      <td>-5.394851</td>\n",
       "      <td>6.264888</td>\n",
       "      <td>-6.808388</td>\n",
       "      <td>96.001432</td>\n",
       "    </tr>\n",
       "    <tr>\n",
       "      <th>4</th>\n",
       "      <td>8.092848</td>\n",
       "      <td>-9.487035</td>\n",
       "      <td>-9.409026</td>\n",
       "      <td>7.772432</td>\n",
       "      <td>1.318238</td>\n",
       "      <td>9.242734</td>\n",
       "      <td>52.372801</td>\n",
       "    </tr>\n",
       "  </tbody>\n",
       "</table>\n",
       "</div>"
      ],
      "text/plain": [
       "                  x1        x2        x3        x4        x5        x6  \\\n",
       "Unnamed: 0                                                               \n",
       "0          -4.407233 -1.004943  3.369738 -6.827384 -7.607400 -6.125045   \n",
       "1           8.949592 -7.201886 -1.811135 -9.057689 -4.472579 -3.382036   \n",
       "2           7.900306  2.491849  1.203908 -7.841058  9.237987 -9.623759   \n",
       "3           9.048100 -0.539456 -2.939854 -5.394851  6.264888 -6.808388   \n",
       "4           8.092848 -9.487035 -9.409026  7.772432  1.318238  9.242734   \n",
       "\n",
       "                     F  \n",
       "Unnamed: 0              \n",
       "0          -102.401939  \n",
       "1           -25.237851  \n",
       "2            94.002931  \n",
       "3            96.001432  \n",
       "4            52.372801  "
      ]
     },
     "execution_count": 1,
     "metadata": {},
     "output_type": "execute_result"
    }
   ],
   "source": [
    "import pandas as pd\n",
    "from matplotlib.pyplot import plot\n",
    "import numpy as np\n",
    "df = pd.read_csv('hw15.csv').set_index('Unnamed: 0')\n",
    "df.head()"
   ]
  },
  {
   "cell_type": "code",
   "execution_count": 2,
   "metadata": {},
   "outputs": [],
   "source": [
    "def f(koefs, variables):\n",
    "    s = 0\n",
    "    for i in range(len(koefs)):\n",
    "        s += koefs[i] * variables[i]\n",
    "    return s\n",
    "\n",
    "def error(f, koefs, variables, F_true):\n",
    "    F_pred = f(koefs, variables)\n",
    "    return (F_pred - F_true) ** 2"
   ]
  },
  {
   "cell_type": "code",
   "execution_count": 3,
   "metadata": {},
   "outputs": [],
   "source": [
    "def d_error(f, koefs, variables, F_true):\n",
    "    derivatives = []\n",
    "    delta = 0.001\n",
    "    f1 = error(f, koefs, variables, F_true)\n",
    "    for i in range(len(koefs)):\n",
    "        new_koefs = list(koefs)\n",
    "        new_koefs[i] += delta\n",
    "        f2 = error(f, new_koefs, variables, F_true)\n",
    "        derivatives.append((f2 - f1) / delta)\n",
    "    return derivatives"
   ]
  },
  {
   "cell_type": "code",
   "execution_count": 4,
   "metadata": {},
   "outputs": [],
   "source": [
    "def gradient_descent(f, X, y, iter_count, lr=0.001):    \n",
    "    a4_list = []\n",
    "    koefs = [1] * X.shape[1]                     \n",
    "    for i in range(iter_count):\n",
    "        derivatives = d_error(f, koefs, X[i, :], y[i])\n",
    "        for j in range(len(koefs)):\n",
    "            koefs[j] -= lr * derivatives[j]\n",
    "        a4_list.append(koefs[3])\n",
    "        #print(koefs)\n",
    "    return koefs, a4_list"
   ]
  },
  {
   "cell_type": "code",
   "execution_count": 6,
   "metadata": {},
   "outputs": [
    {
     "name": "stdout",
     "output_type": "stream",
     "text": [
      "[7.999792713016456, 8.999373658492603, -6.000535312689109, 3.9991109073117395, 2.999870780962289, -2.0005519034908668]\n"
     ]
    },
    {
     "data": {
      "text/plain": [
       "[<matplotlib.lines.Line2D at 0x13e4ab1acc8>]"
      ]
     },
     "execution_count": 6,
     "metadata": {},
     "output_type": "execute_result"
    },
    {
     "data": {
      "image/png": "[encoded data removed]",
      "text/plain": [
       "<Figure size 432x288 with 1 Axes>"
      ]
     },
     "metadata": {
      "needs_background": "light"
     },
     "output_type": "display_data"
    }
   ],
   "source": [
    "X = np.array(df.drop('F', axis=1))    \n",
    "y = np.array(df['F'])\n",
    "gd = gradient_descent(f, X[:], y[:], iter_count=300)#learning rate=0.001\n",
    "#we need only about 300 iteration count to find our parameters with lr = 0.001\n",
    "print(gd[0])\n",
    "plot(range(len(gd[1])), gd[1])"
   ]
  },
  {
   "cell_type": "code",
   "execution_count": 7,
   "metadata": {},
   "outputs": [
    {
     "name": "stdout",
     "output_type": "stream",
     "text": [
      "[7.999582193250562, 8.99959141063639, -6.000567636229383, 3.999575983822473, 2.9995828362293557, -2.0004118144076855]\n"
     ]
    },
    {
     "data": {
      "text/plain": [
       "[<matplotlib.lines.Line2D at 0x13e4a402a08>]"
      ]
     },
     "execution_count": 7,
     "metadata": {},
     "output_type": "execute_result"
    },
    {
     "data": {
      "image/png": "[encoded data removed]",
      "text/plain": [
       "<Figure size 432x288 with 1 Axes>"
      ]
     },
     "metadata": {
      "needs_background": "light"
     },
     "output_type": "display_data"
    }
   ],
   "source": [
    "gd = gradient_descent(f, X[:], y[:], iter_count=3000,lr=0.0001)#learning rate=0.0001\n",
    "#we need only about 3000 iteration count to find our parameters with lr = 0.0001\n",
    "print(gd[0])\n",
    "plot(range(len(gd[1])), gd[1])"
   ]
  },
  {
   "cell_type": "code",
   "execution_count": 8,
   "metadata": {},
   "outputs": [
    {
     "name": "stdout",
     "output_type": "stream",
     "text": [
      "[7.9992300073754805, 8.99920937934412, -6.00017278870475, 3.999422538713115, 2.999481017038491, -2.000336203306418]\n"
     ]
    },
    {
     "data": {
      "image/png": "[encoded data removed]",
      "text/plain": [
       "<Figure size 432x288 with 1 Axes>"
      ]
     },
     "metadata": {
      "needs_background": "light"
     },
     "output_type": "display_data"
    }
   ],
   "source": [
    "gd = gradient_descent(f, X[:], y[:], iter_count=15000,lr=0.00001)#learning rate=0.00001\n",
    "#we need only about 15000 iteration count to find our parameters with lr = 0.00001\n",
    "plot(range(len(gd[1])), gd[1])\n",
    "print(gd[0])"
   ]
  },
  {
   "cell_type": "code",
   "execution_count": null,
   "metadata": {},
   "outputs": [],
   "source": [
    "a1=8, b1=9, c1=-6, a2=4, b2=3, c2=-2"
   ]
  }
 ],
 "metadata": {
  "kernelspec": {
   "display_name": "Python 3",
   "language": "python",
   "name": "python3"
  },
  "language_info": {
   "codemirror_mode": {
    "name": "ipython",
    "version": 3
   },
   "file_extension": ".py",
   "mimetype": "text/x-python",
   "name": "python",
   "nbconvert_exporter": "python",
   "pygments_lexer": "ipython3",
   "version": "3.7.6"
  }
 },
 "nbformat": 4,
 "nbformat_minor": 4
}
