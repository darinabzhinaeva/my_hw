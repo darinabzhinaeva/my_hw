{
 "cells": [
  {
   "cell_type": "markdown",
   "metadata": {},
   "source": [
    "2) interaction matrix contains 879 * 78905 = 69357495 elements"
   ]
  },
  {
   "cell_type": "markdown",
   "metadata": {},
   "source": [
    "3) interaction matrix contains 154871 non-zero elements, and 69357495 - 154871 = 69202624 zero elements"
   ]
  },
  {
   "cell_type": "markdown",
   "metadata": {},
   "source": [
    "4) you will store 154871 * 3 = 464613 numbers"
   ]
  },
  {
   "cell_type": "markdown",
   "metadata": {},
   "source": [
    "5) you will store zero + non-zero     \n",
    "154871 + 69202624 = 69357495"
   ]
  },
  {
   "cell_type": "code",
   "execution_count": 29,
   "metadata": {},
   "outputs": [],
   "source": [
    "def coo_to_arr(list_of_tuple):\n",
    "    res = [[], [], []]\n",
    "    for i in list_of_tuple:\n",
    "        for j in i:\n",
    "            if j != 0:\n",
    "                res[0].append(list_of_tuple.index(i))\n",
    "                res[1].append(i.index(j))\n",
    "                res[2].append(j)\n",
    "    return res"
   ]
  },
  {
   "cell_type": "code",
   "execution_count": 31,
   "metadata": {},
   "outputs": [
    {
     "data": {
      "text/plain": [
       "[[0, 0, 1, 2, 2, 3], [0, 2, 1, 1, 2, 3], [3, 1, 2, 6, 2, 1]]"
      ]
     },
     "execution_count": 31,
     "metadata": {},
     "output_type": "execute_result"
    }
   ],
   "source": [
    "a = [[3, 0, 1, 0], \n",
    "     [0, 2, 0, 0], \n",
    "     [0, 6, 2, 0], \n",
    "     [0, 0, 0, 1]]\n",
    "coo_to_arr(a)"
   ]
  }
 ],
 "metadata": {
  "kernelspec": {
   "display_name": "Python 3",
   "language": "python",
   "name": "python3"
  },
  "language_info": {
   "codemirror_mode": {
    "name": "ipython",
    "version": 3
   },
   "file_extension": ".py",
   "mimetype": "text/x-python",
   "name": "python",
   "nbconvert_exporter": "python",
   "pygments_lexer": "ipython3",
   "version": "3.8.3"
  }
 },
 "nbformat": 4,
 "nbformat_minor": 4
}
