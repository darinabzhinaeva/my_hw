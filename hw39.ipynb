{
 "cells": [
  {
   "cell_type": "markdown",
   "metadata": {},
   "source": [
    "2) interaction matrix contains 879 * 78905 = 69357495 elements"
   ]
  },
  {
   "cell_type": "markdown",
   "metadata": {},
   "source": [
    "3) interaction matrix contains 154871 non-zero elements, and 69357495 - 154871 = 69202624 zero elements"
   ]
  },
  {
   "cell_type": "markdown",
   "metadata": {},
   "source": [
    "4) you will store zero + non-zero     \n",
    "154871 + 69202624 = 69357495"
   ]
  },
  {
   "cell_type": "markdown",
   "metadata": {},
   "source": [
    "5) you will store 154871 * 3 = 464613 numbers"
   ]
  },
  {
   "cell_type": "code",
   "execution_count": 6,
   "metadata": {},
   "outputs": [],
   "source": [
    "import numpy as np\n",
    "def coo_to_2d(arr):\n",
    "    height = [x[0] for x in arr]\n",
    "    width = [x[1] for x in arr]\n",
    "    res = np.zeros(shape=(max(height) + 1, max(width) + 1), dtype='int')\n",
    "    data = [x[2] for x in arr]\n",
    "    for i in range(len(data)):\n",
    "        res[height[i], width[i]] = data[i]\n",
    "    return res"
   ]
  },
  {
   "cell_type": "code",
   "execution_count": 7,
   "metadata": {},
   "outputs": [
    {
     "data": {
      "text/plain": [
       "array([[ 1,  0,  0,  0],\n",
       "       [ 0,  1,  0,  0],\n",
       "       [ 0,  0,  3,  0],\n",
       "       [ 0,  0,  0,  0],\n",
       "       [ 0,  0,  0, -4]])"
      ]
     },
     "execution_count": 7,
     "metadata": {},
     "output_type": "execute_result"
    }
   ],
   "source": [
    "a = [(0, 0, 1), \n",
    "     (1, 1, 1), \n",
    "     (2, 2, 3), \n",
    "     (4, 3, -4)]\n",
    "coo_to_2d(a)"
   ]
  }
 ],
 "metadata": {
  "kernelspec": {
   "display_name": "Python 3",
   "language": "python",
   "name": "python3"
  },
  "language_info": {
   "codemirror_mode": {
    "name": "ipython",
    "version": 3
   },
   "file_extension": ".py",
   "mimetype": "text/x-python",
   "name": "python",
   "nbconvert_exporter": "python",
   "pygments_lexer": "ipython3",
   "version": "3.8.3"
  }
 },
 "nbformat": 4,
 "nbformat_minor": 4
}
