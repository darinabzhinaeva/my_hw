{
 "cells": [
  {
   "cell_type": "code",
   "execution_count": 1,
   "metadata": {},
   "outputs": [],
   "source": [
    "prob = [1/((2*i)+1) for i in range(1,101)]"
   ]
  },
  {
   "cell_type": "code",
   "execution_count": 2,
   "metadata": {},
   "outputs": [
    {
     "name": "stdout",
     "output_type": "stream",
     "text": [
      "0.49748743718592964\n"
     ]
    }
   ],
   "source": [
    "p_one_head = (prob[0]*(1-prob[1]))+(prob[1]*(1-prob[0]))\n",
    "odd = p_one_head\n",
    "no_odd = 1 - p_one_head\n",
    "for k in range(3, len(prob)):\n",
    "    no_odd_plus_head = no_odd * prob[k-1]\n",
    "    odd_plus_no_head = odd * (1 - prob[k-1])\n",
    "    total = no_odd_plus_head + odd_plus_no_head\n",
    "    odd = total\n",
    "    no_odd = 1 - total\n",
    "print(odd)"
   ]
  }
 ],
 "metadata": {
  "kernelspec": {
   "display_name": "Python 3",
   "language": "python",
   "name": "python3"
  },
  "language_info": {
   "codemirror_mode": {
    "name": "ipython",
    "version": 3
   },
   "file_extension": ".py",
   "mimetype": "text/x-python",
   "name": "python",
   "nbconvert_exporter": "python",
   "pygments_lexer": "ipython3",
   "version": "3.7.6"
  }
 },
 "nbformat": 4,
 "nbformat_minor": 4
}
