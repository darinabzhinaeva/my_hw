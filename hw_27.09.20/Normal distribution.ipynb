{
 "cells": [
  {
   "cell_type": "code",
   "execution_count": 52,
   "metadata": {},
   "outputs": [],
   "source": [
    "from scipy.stats import norm\n",
    "import random"
   ]
  },
  {
   "cell_type": "code",
   "execution_count": 55,
   "metadata": {},
   "outputs": [
    {
     "name": "stdout",
     "output_type": "stream",
     "text": [
      "0.15865525393145707 1\n",
      "0.18165107044344897 1.1\n",
      "0.20232838096364308 1.2000000000000002\n",
      "0.22087816371245977 1.3000000000000003\n",
      "0.23752526202697655 1.4000000000000004\n",
      "0.25249253754692297 1.5000000000000004\n",
      "0.2659855290487006 1.6000000000000005\n",
      "0.2781871852134535 1.7000000000000006\n",
      "0.28925736075397207 1.8000000000000007\n",
      "0.2993344071288827 1.9000000000000008\n"
     ]
    }
   ],
   "source": [
    "k = 1\n",
    "for i in range(10):\n",
    "    print(norm.sf(1, loc=0, scale=k), k)\n",
    "        \n",
    "    k += 0.1"
   ]
  },
  {
   "cell_type": "code",
   "execution_count": 60,
   "metadata": {},
   "outputs": [
    {
     "data": {
      "text/plain": [
       "0.5"
      ]
     },
     "execution_count": 60,
     "metadata": {},
     "output_type": "execute_result"
    }
   ],
   "source": [
    "norm.sf(0, loc=0, scale=5)"
   ]
  },
  {
   "cell_type": "code",
   "execution_count": 61,
   "metadata": {},
   "outputs": [
    {
     "data": {
      "text/plain": [
       "0.5"
      ]
     },
     "execution_count": 61,
     "metadata": {},
     "output_type": "execute_result"
    }
   ],
   "source": [
    "norm.sf(1, loc=1, scale=5)"
   ]
  },
  {
   "cell_type": "code",
   "execution_count": null,
   "metadata": {},
   "outputs": [],
   "source": [
    "#you can get sf(1) == 0.5 only if you have mean==1\n",
    "#but if you have mean==0 only sf(0) will be == 0.5"
   ]
  }
 ],
 "metadata": {
  "kernelspec": {
   "display_name": "Python 3",
   "language": "python",
   "name": "python3"
  },
  "language_info": {
   "codemirror_mode": {
    "name": "ipython",
    "version": 3
   },
   "file_extension": ".py",
   "mimetype": "text/x-python",
   "name": "python",
   "nbconvert_exporter": "python",
   "pygments_lexer": "ipython3",
   "version": "3.7.6"
  }
 },
 "nbformat": 4,
 "nbformat_minor": 4
}
