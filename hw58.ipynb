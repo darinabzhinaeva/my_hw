{
 "cells": [
  {
   "cell_type": "markdown",
   "metadata": {},
   "source": [
    "1) if i increase number of user in 4 times, time will increase in 4 ** 2 = 16 times.   \n",
    "so time will be 5 * 16 = 80 minutes"
   ]
  },
  {
   "cell_type": "code",
   "execution_count": 59,
   "metadata": {},
   "outputs": [],
   "source": [
    "def one_iteration1(l):\n",
    "    for i in range(1, len(l)):\n",
    "        if l[i - 1] > l[i]:\n",
    "            l[i - 1], l[i] = l[i], l[i - 1]\n",
    "    return l\n",
    "\n",
    "def sort_version1(l):\n",
    "    for i in range(len(l)):\n",
    "        l = one_iteration1(l)\n",
    "    return l\n",
    "\n",
    "def one_iteration2(l, j):\n",
    "    for i in range(1, j):\n",
    "        if l[i - 1] > l[i]:\n",
    "            l[i - 1], l[i] = l[i], l[i - 1]\n",
    "    return l\n",
    "\n",
    "def sort_version2(l):\n",
    "    j = len(l)\n",
    "    for i in range(len(l)):\n",
    "        l = one_iteration2(l, j)\n",
    "        j -= 1\n",
    "    return l\n",
    "\n",
    "def one_iteration3(l, j):\n",
    "    is_changed = False\n",
    "    for i in range(1, j):\n",
    "        if l[i - 1] > l[i]:\n",
    "            l[i - 1], l[i] = l[i], l[i - 1]\n",
    "            is_changed = True\n",
    "    return is_changed\n",
    "\n",
    "def sort_version3(l):\n",
    "    j = len(l)\n",
    "    for i in range(len(l)):\n",
    "        is_changed = one_iteration3(l, j)\n",
    "        j -=1\n",
    "    return l\n",
    "\n",
    "def sort_version4(l):\n",
    "    j = len(l)\n",
    "    for i in range(len(l)):\n",
    "        is_changed = one_iteration3(l, j)\n",
    "        j -=1\n",
    "        if not is_changed:\n",
    "            return l\n",
    "    return l"
   ]
  },
  {
   "cell_type": "code",
   "execution_count": 52,
   "metadata": {},
   "outputs": [
    {
     "name": "stdout",
     "output_type": "stream",
     "text": [
      "Wall time: 15.2 s\n"
     ]
    }
   ],
   "source": [
    "from random import randint\n",
    "import random\n",
    "time1 = [0.229, 0.918, 3.8, 15.2]\n",
    "random.seed(42)\n",
    "l = [randint(-10000, 10000) for i in range(8000)]\n",
    "%time l = sort_version1(l)"
   ]
  },
  {
   "cell_type": "code",
   "execution_count": 57,
   "metadata": {},
   "outputs": [
    {
     "name": "stdout",
     "output_type": "stream",
     "text": [
      "Wall time: 11.6 s\n"
     ]
    }
   ],
   "source": [
    "time2 = [0.142, 0.601, 2.4, 11.6]\n",
    "random.seed(42)\n",
    "l = [randint(-10000, 10000) for i in range(8000)]\n",
    "%time l = sort_version2(l)"
   ]
  },
  {
   "cell_type": "code",
   "execution_count": 63,
   "metadata": {},
   "outputs": [
    {
     "name": "stdout",
     "output_type": "stream",
     "text": [
      "Wall time: 10.2 s\n"
     ]
    }
   ],
   "source": [
    "time3 = [0.205, 0.661, 2.47, 10.2]\n",
    "random.seed(42)\n",
    "l = [randint(-10000, 10000) for i in range(8000)]\n",
    "%time l = sort_version3(l)"
   ]
  },
  {
   "cell_type": "code",
   "execution_count": 67,
   "metadata": {},
   "outputs": [
    {
     "name": "stdout",
     "output_type": "stream",
     "text": [
      "Wall time: 11 s\n"
     ]
    }
   ],
   "source": [
    "time4 = [0.149, 0.656, 2.46, 11]\n",
    "random.seed(42)\n",
    "l = [randint(-10000, 10000) for i in range(8000)]\n",
    "%time l = sort_version4(l)"
   ]
  },
  {
   "cell_type": "code",
   "execution_count": 33,
   "metadata": {},
   "outputs": [],
   "source": [
    "import pandas as pd\n",
    "df = pd.DataFrame(columns=['first version', 'second version', 'third version', 'fourth version'], index=['1000', '2000', '4000', '8000'],)"
   ]
  },
  {
   "cell_type": "code",
   "execution_count": 69,
   "metadata": {},
   "outputs": [],
   "source": [
    "df['first version'] = time1\n",
    "df['second version'] = time2\n",
    "df['third version'] = time3\n",
    "df['fourth version'] = time4"
   ]
  },
  {
   "cell_type": "code",
   "execution_count": 70,
   "metadata": {},
   "outputs": [
    {
     "data": {
      "text/html": [
       "<div>\n",
       "<style scoped>\n",
       "    .dataframe tbody tr th:only-of-type {\n",
       "        vertical-align: middle;\n",
       "    }\n",
       "\n",
       "    .dataframe tbody tr th {\n",
       "        vertical-align: top;\n",
       "    }\n",
       "\n",
       "    .dataframe thead th {\n",
       "        text-align: right;\n",
       "    }\n",
       "</style>\n",
       "<table border=\"1\" class=\"dataframe\">\n",
       "  <thead>\n",
       "    <tr style=\"text-align: right;\">\n",
       "      <th></th>\n",
       "      <th>first version</th>\n",
       "      <th>second version</th>\n",
       "      <th>third version</th>\n",
       "      <th>fourth version</th>\n",
       "    </tr>\n",
       "  </thead>\n",
       "  <tbody>\n",
       "    <tr>\n",
       "      <th>1000</th>\n",
       "      <td>0.229</td>\n",
       "      <td>0.142</td>\n",
       "      <td>0.205</td>\n",
       "      <td>0.149</td>\n",
       "    </tr>\n",
       "    <tr>\n",
       "      <th>2000</th>\n",
       "      <td>0.918</td>\n",
       "      <td>0.601</td>\n",
       "      <td>0.661</td>\n",
       "      <td>0.656</td>\n",
       "    </tr>\n",
       "    <tr>\n",
       "      <th>4000</th>\n",
       "      <td>3.800</td>\n",
       "      <td>2.400</td>\n",
       "      <td>2.470</td>\n",
       "      <td>2.460</td>\n",
       "    </tr>\n",
       "    <tr>\n",
       "      <th>8000</th>\n",
       "      <td>15.200</td>\n",
       "      <td>11.600</td>\n",
       "      <td>10.200</td>\n",
       "      <td>11.000</td>\n",
       "    </tr>\n",
       "  </tbody>\n",
       "</table>\n",
       "</div>"
      ],
      "text/plain": [
       "      first version  second version  third version  fourth version\n",
       "1000          0.229           0.142          0.205           0.149\n",
       "2000          0.918           0.601          0.661           0.656\n",
       "4000          3.800           2.400          2.470           2.460\n",
       "8000         15.200          11.600         10.200          11.000"
      ]
     },
     "execution_count": 70,
     "metadata": {},
     "output_type": "execute_result"
    }
   ],
   "source": [
    "df"
   ]
  }
 ],
 "metadata": {
  "kernelspec": {
   "display_name": "Python 3",
   "language": "python",
   "name": "python3"
  },
  "language_info": {
   "codemirror_mode": {
    "name": "ipython",
    "version": 3
   },
   "file_extension": ".py",
   "mimetype": "text/x-python",
   "name": "python",
   "nbconvert_exporter": "python",
   "pygments_lexer": "ipython3",
   "version": "3.8.3"
  }
 },
 "nbformat": 4,
 "nbformat_minor": 4
}
