{
 "cells": [
  {
   "cell_type": "markdown",
   "metadata": {},
   "source": [
    "Task 1"
   ]
  },
  {
   "cell_type": "markdown",
   "metadata": {},
   "source": [
    " examples of classification\n",
    " \n",
    " 1) define is the letter sended on you e-mail SPAM or not\n",
    " \n",
    " 2) by the amount of net revenue for the last month, define whether the store will be able to recoup the cost of products\n",
    " \n",
    " 3) based on the results of personal achievements in the computer science Olympiad of the student, determine whether the student will win this year"
   ]
  },
  {
   "cell_type": "markdown",
   "metadata": {},
   "source": [
    "examples of regression\n",
    "\n",
    "1) by the number of students who wrote the exam in the past years for 90+ points determine the approximate number of high-score students this year\n",
    "\n",
    "2) by the number of participants in the machine learning hackathon in past years, determine the approximate number of participants this year\n",
    "\n",
    "3) having the number of excellent students(отличников) in the class for the last term, determine the approximate number of excellent students in this term"
   ]
  },
  {
   "cell_type": "code",
   "execution_count": 2,
   "metadata": {},
   "outputs": [],
   "source": [
    "def derivative(f, x):\n",
    "    dx = 0.0001\n",
    "    f1 = f(x)\n",
    "    f2 = f(x + dx)\n",
    "    df = f2 - f1\n",
    "    return df / dx"
   ]
  },
  {
   "cell_type": "code",
   "execution_count": 6,
   "metadata": {},
   "outputs": [
    {
     "data": {
      "text/plain": [
       "[<matplotlib.lines.Line2D at 0x1fb0b665e20>]"
      ]
     },
     "execution_count": 6,
     "metadata": {},
     "output_type": "execute_result"
    },
    {
     "data": {
      "image/png": "[encoded data removed]",
      "text/plain": [
       "<Figure size 432x288 with 1 Axes>"
      ]
     },
     "metadata": {
      "needs_background": "light"
     },
     "output_type": "display_data"
    }
   ],
   "source": [
    "import numpy as np\n",
    "import math\n",
    "from matplotlib.pyplot import plot\n",
    "\n",
    "f1 = lambda x: 1 / (1 + math.e ** -x)\n",
    "l1 = []\n",
    "for i in np.arange(0.001, 10, 0.01):\n",
    "    l1.append(derivative(f1, i))\n",
    "    \n",
    "plot(range(len(l1)), l1)"
   ]
  },
  {
   "cell_type": "code",
   "execution_count": 8,
   "metadata": {},
   "outputs": [
    {
     "data": {
      "text/plain": [
       "[<matplotlib.lines.Line2D at 0x1fb0b703ca0>]"
      ]
     },
     "execution_count": 8,
     "metadata": {},
     "output_type": "execute_result"
    },
    {
     "data": {
      "image/png": "[encoded data removed]",
      "text/plain": [
       "<Figure size 432x288 with 1 Axes>"
      ]
     },
     "metadata": {
      "needs_background": "light"
     },
     "output_type": "display_data"
    }
   ],
   "source": [
    "Xs = np.arange(-10, 10, 0.01)\n",
    "plot(Xs, Ys)"
   ]
  },
  {
   "cell_type": "markdown",
   "metadata": {},
   "source": [
    "Answer the questions\n",
    "\n",
    "\n",
    "1) if our level of confidence is high then it is not easy to change it, beacuse in this segments(~ from 3 to 3 by X axes) we have almost horizontal function( paralleled for x axes) and it increases very slow so it will be veeeery long to change it\n",
    "\n",
    "\n",
    "2) if our level of confidence is medium then it is easy to change it, beacuse in this segment(~ from -1 to 1) our function increases very fast and we can easily change our value\n",
    "\n",
    "3) if our level of confidence is low then we have almost similar situation like with high level, in this segment( ~ from - 10 to -5) our function increases vveeery slow and it is hard to change the value"
   ]
  },
  {
   "cell_type": "code",
   "execution_count": 175,
   "metadata": {},
   "outputs": [],
   "source": [
    "def my_transfor(x):\n",
    "    if x == 0:\n",
    "        return 0.5\n",
    "    if x > 0:\n",
    "        return 1 - (x * 0.003)\n",
    "    else:\n",
    "        if -8 <= x <= -5:\n",
    "            return x * -0.00231231\n",
    "        elif -5 <= x <= 0:\n",
    "            return x * -0.03553\n",
    "        else:\n",
    "            return x * -0.0000321"
   ]
  },
  {
   "cell_type": "code",
   "execution_count": 176,
   "metadata": {},
   "outputs": [
    {
     "name": "stdout",
     "output_type": "stream",
     "text": [
      "0.991\n",
      "0.985\n",
      "0.97\n"
     ]
    }
   ],
   "source": [
    "print(my_transfor(3))\n",
    "print(my_transfor(5))\n",
    "print(my_transfor(10))"
   ]
  },
  {
   "cell_type": "code",
   "execution_count": 177,
   "metadata": {},
   "outputs": [
    {
     "name": "stdout",
     "output_type": "stream",
     "text": [
      "0.5\n",
      "0.10658999999999999\n",
      "0.01156155\n",
      "0.000321\n"
     ]
    }
   ],
   "source": [
    "print(my_transfor(0))\n",
    "print(my_transfor(-3))\n",
    "print(my_transfor(-5))\n",
    "print(my_transfor(-10))"
   ]
  },
  {
   "cell_type": "code",
   "execution_count": 141,
   "metadata": {},
   "outputs": [
    {
     "data": {
      "text/plain": [
       "0.7502601055951177"
      ]
     },
     "execution_count": 141,
     "metadata": {},
     "output_type": "execute_result"
    }
   ],
   "source": [
    "f1(1.1)"
   ]
  }
 ],
 "metadata": {
  "kernelspec": {
   "display_name": "Python 3",
   "language": "python",
   "name": "python3"
  },
  "language_info": {
   "codemirror_mode": {
    "name": "ipython",
    "version": 3
   },
   "file_extension": ".py",
   "mimetype": "text/x-python",
   "name": "python",
   "nbconvert_exporter": "python",
   "pygments_lexer": "ipython3",
   "version": "3.8.3"
  }
 },
 "nbformat": 4,
 "nbformat_minor": 4
}
