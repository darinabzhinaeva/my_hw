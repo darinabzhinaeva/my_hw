{
 "cells": [
  {
   "cell_type": "markdown",
   "metadata": {},
   "source": [
    "task 1"
   ]
  },
  {
   "cell_type": "code",
   "execution_count": 2,
   "metadata": {},
   "outputs": [
    {
     "name": "stdout",
     "output_type": "stream",
     "text": [
      "3.5900000000000003\n"
     ]
    }
   ],
   "source": [
    "#User 1, item 2\n",
    "0.1 * 0.5 + 0.2 * 0.9 + 0.4 * 0.4\n",
    "print(3 + 0.5 - 0.3 + 0.39)"
   ]
  },
  {
   "cell_type": "code",
   "execution_count": 4,
   "metadata": {},
   "outputs": [
    {
     "name": "stdout",
     "output_type": "stream",
     "text": [
      "3.05\n"
     ]
    }
   ],
   "source": [
    "#User 3, item 3\n",
    "0.8 * 0.9 + 0.7 * (-0.4) + (-0.9) * (-0.9)\n",
    "print(3 -0.5 - 0.7 + 1.25)"
   ]
  },
  {
   "cell_type": "code",
   "execution_count": 6,
   "metadata": {},
   "outputs": [
    {
     "name": "stdout",
     "output_type": "stream",
     "text": [
      "2.89\n"
     ]
    }
   ],
   "source": [
    "#User 2, item 2\n",
    "0.4 * 0.5 + 0.3 * 0.9 + (-0.2) * 0.4\n",
    "print(3 - 0.2 - 0.3 + 0.39)"
   ]
  },
  {
   "cell_type": "code",
   "execution_count": 8,
   "metadata": {},
   "outputs": [
    {
     "name": "stdout",
     "output_type": "stream",
     "text": [
      "3.28\n"
     ]
    }
   ],
   "source": [
    "#User 2, item 1\n",
    "0.4 * 0.3 + 0.3 * 0.4 + (-0.2) * (-0.7)\n",
    "print(3 - 0.2 + 0.1 + 0.38)"
   ]
  },
  {
   "cell_type": "markdown",
   "metadata": {},
   "source": [
    "task 2"
   ]
  },
  {
   "cell_type": "code",
   "execution_count": 1,
   "metadata": {},
   "outputs": [
    {
     "data": {
      "text/plain": [
       "0.017700000000000004"
      ]
     },
     "execution_count": 1,
     "metadata": {},
     "output_type": "execute_result"
    }
   ],
   "source": [
    "#User 1, item 2\n",
    "q = sum([0.1 ** 2, 0.2 ** 2, 0.4 ** 2])\n",
    "p = sum([0.5 ** 2, 0.9 ** 2, 0.4 ** 2])\n",
    "0.01 * ((0.5 ** 2) + ((-0.3) ** 2) + q + p)"
   ]
  },
  {
   "cell_type": "code",
   "execution_count": 5,
   "metadata": {},
   "outputs": [
    {
     "data": {
      "text/plain": [
       "0.04460000000000001"
      ]
     },
     "execution_count": 5,
     "metadata": {},
     "output_type": "execute_result"
    }
   ],
   "source": [
    "#User 3, item 3\n",
    "q = sum([0.8 ** 2, 0.7 ** 2, (-0.9) ** 2])\n",
    "p = sum([0.9 ** 2, (-0.4) ** 2, (-0.9) ** 2])\n",
    "0.01 * (((-0.5) ** 2) + ((-0.7) ** 2) + q + p)"
   ]
  },
  {
   "cell_type": "code",
   "execution_count": 6,
   "metadata": {},
   "outputs": [
    {
     "data": {
      "text/plain": [
       "0.0164"
      ]
     },
     "execution_count": 6,
     "metadata": {},
     "output_type": "execute_result"
    }
   ],
   "source": [
    "#User 2, item 2\n",
    "q = sum([0.4 ** 2, 0.3 ** 2, (-0.2) ** 2])\n",
    "p = sum([0.5 ** 2 , 0.9 ** 2, 0.4 ** 2])\n",
    "0.01 * (((-0.2) ** 2) + ((-0.3) ** 2) + q + p)"
   ]
  },
  {
   "cell_type": "code",
   "execution_count": 7,
   "metadata": {},
   "outputs": [
    {
     "data": {
      "text/plain": [
       "0.0108"
      ]
     },
     "execution_count": 7,
     "metadata": {},
     "output_type": "execute_result"
    }
   ],
   "source": [
    "#User 2, item 1\n",
    "q = sum([0.4 ** 2, 0.3 ** 2, (-0.2) ** 2])\n",
    "p = sum([0.3 ** 2, 0.4 ** 2, (-0.7) ** 2])\n",
    "0.01 * (((-0.2) ** 2) + (0.1 ** 2) + q + p)"
   ]
  }
 ],
 "metadata": {
  "kernelspec": {
   "display_name": "Python 3",
   "language": "python",
   "name": "python3"
  },
  "language_info": {
   "codemirror_mode": {
    "name": "ipython",
    "version": 3
   },
   "file_extension": ".py",
   "mimetype": "text/x-python",
   "name": "python",
   "nbconvert_exporter": "python",
   "pygments_lexer": "ipython3",
   "version": "3.8.3"
  }
 },
 "nbformat": 4,
 "nbformat_minor": 4
}
