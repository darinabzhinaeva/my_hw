{
 "cells": [
  {
   "cell_type": "markdown",
   "metadata": {},
   "source": [
    "learning rate is a step with which we change our parameters. if we decrease learning step, our parameters will change a little and very slow. if we increase learning rate than our parameters will change faster, but big learning rate is bad"
   ]
  },
  {
   "cell_type": "markdown",
   "metadata": {},
   "source": [
    "we use regularization to avoid overfitting or underfitting of our model. if we increase regularization parameter too much we have a risk to underfit our data, if we decrease our regularization too much we have a risk to overfit data"
   ]
  },
  {
   "cell_type": "markdown",
   "metadata": {},
   "source": [
    "error is how much our predictions differs from real rating. big error means that our model is very bad, little error means our model is good"
   ]
  },
  {
   "cell_type": "code",
   "execution_count": 4,
   "metadata": {},
   "outputs": [],
   "source": [
    "lr = [0.1, 0.001, 0.0001, 0.5, 0.05, 0.0005, 0.007, 0.002, 0.0003, 0.003]\n",
    "reg = [0.1, 0.2, 0.3, 0.4, 0.02, 0.05, 0.07, 0.01, 0.06, 0.08]"
   ]
  },
  {
   "cell_type": "code",
   "execution_count": 1,
   "metadata": {},
   "outputs": [],
   "source": [
    "import pandas as pd\n",
    "from tqdm import tqdm\n",
    "import numpy as np\n",
    "train = pd.read_csv('ua.base', sep=\"\\t\", header=None)\n",
    "train.columns = ['user_id', 'item_id', 'rating', 'timestamp']\n",
    "train = train.drop(['timestamp'], axis=1)\n",
    "train.user_id = train.user_id - 1\n",
    "train.item_id = train.item_id - 1\n",
    "\n",
    "\n",
    "test = pd.read_csv('ua.test', sep=\"\\t\", header=None)\n",
    "test.columns = ['user_id', 'item_id', 'rating', 'timestamp']\n",
    "test = test.drop(['timestamp'], axis=1)\n",
    "test.user_id = test.user_id - 1\n",
    "test.item_id = test.item_id - 1"
   ]
  },
  {
   "cell_type": "code",
   "execution_count": 2,
   "metadata": {},
   "outputs": [],
   "source": [
    "rng = np.random.RandomState(42)\n",
    "global_mean = train.rating.mean()\n",
    "u_count = train.user_id.max() + 1\n",
    "i_count = train.item_id.max() + 1\n",
    "n_factors = 10\n",
    "u_factors = rng.normal(0, 0.1, (u_count, n_factors))\n",
    "i_factors = rng.normal(0, 0.1, (i_count, n_factors))\n",
    "u_bias = np.zeros(shape=(u_count,))\n",
    "i_bias = np.zeros(shape=(i_count,))\n",
    "trainset = train.to_numpy()\n",
    "testset = test.to_numpy()"
   ]
  },
  {
   "cell_type": "code",
   "execution_count": 5,
   "metadata": {},
   "outputs": [],
   "source": [
    "def estimate(user_id, item_id):\n",
    "    est = global_mean + u_bias[user_id] + i_bias[item_id]\n",
    "    est += sum(u_factors[user_id] * i_factors[item_id])\n",
    "    return est\n",
    "\n",
    "def rmse(y_true, y_pred):\n",
    "    return np.sqrt(((y_pred - y_true) **2).mean())"
   ]
  },
  {
   "cell_type": "code",
   "execution_count": 6,
   "metadata": {},
   "outputs": [],
   "source": [
    "def predict(user_ids, item_ids):\n",
    "    pred = []\n",
    "    for u, i in zip(user_ids, item_ids):\n",
    "        pred.append(estimate(u, i))\n",
    "    return pred"
   ]
  },
  {
   "cell_type": "code",
   "execution_count": 7,
   "metadata": {},
   "outputs": [],
   "source": [
    "params = []\n",
    "for l in lr:\n",
    "    for r in reg:\n",
    "        params.append((l, r))"
   ]
  },
  {
   "cell_type": "code",
   "execution_count": 21,
   "metadata": {},
   "outputs": [],
   "source": [
    "results = pd.DataFrame(columns=['lerning_rate', 'regularization', 'result'])\n",
    "for u, i, r in testset[:10]:\n",
    "    for parameter in params:\n",
    "        lr = parameter[0]\n",
    "        reg = parameter[1]\n",
    "        pred = estimate(u, i)\n",
    "        e = r - pred\n",
    "        u_bias[u] = u_bias[u] + lr * (e - reg * u_bias[u])\n",
    "        i_bias[i] = i_bias[i] + lr * (e - reg * i_bias[i])\n",
    "        u_factors[u] = u_factors[u] + lr * (e * i_factors[i] - reg * u_factors[u])\n",
    "        i_factors[i] = i_factors[i] + lr * (e * u_factors[u] - reg * i_factors[i])\n",
    "        results = results.append(\n",
    "            {\n",
    "                'learning_rate' : lr,\n",
    "                'regularization' : reg,\n",
    "                'result' : rmse(test['rating'], predict(test['user_id'], test['item_id']))\n",
    "        \n",
    "            }, ignore_index=True        \n",
    "        )"
   ]
  }
 ],
 "metadata": {
  "kernelspec": {
   "display_name": "Python 3",
   "language": "python",
   "name": "python3"
  },
  "language_info": {
   "codemirror_mode": {
    "name": "ipython",
    "version": 3
   },
   "file_extension": ".py",
   "mimetype": "text/x-python",
   "name": "python",
   "nbconvert_exporter": "python",
   "pygments_lexer": "ipython3",
   "version": "3.8.3"
  }
 },
 "nbformat": 4,
 "nbformat_minor": 4
}
