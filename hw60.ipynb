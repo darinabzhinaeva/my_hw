{
 "cells": [
  {
   "cell_type": "code",
   "execution_count": 63,
   "metadata": {},
   "outputs": [],
   "source": [
    "import codecs\n",
    "fileObj = codecs.open( \"untitled.txt\", \"r\", \"utf_8_sig\" )\n",
    "text = fileObj.read()\n",
    "fileObj.close()"
   ]
  },
  {
   "cell_type": "code",
   "execution_count": 64,
   "metadata": {},
   "outputs": [],
   "source": [
    "text = text.split('.')"
   ]
  },
  {
   "cell_type": "code",
   "execution_count": 65,
   "metadata": {},
   "outputs": [],
   "source": [
    "import re\n",
    "result = []\n",
    "for t in text:\n",
    "    result.append(re.sub(r'\\W+', '', t))"
   ]
  },
  {
   "cell_type": "code",
   "execution_count": 67,
   "metadata": {},
   "outputs": [],
   "source": [
    "import string\n",
    "all_costs = []\n",
    "for line in result:\n",
    "    for k in string.ascii_lowercase:\n",
    "        all_costs.append((str(k), result.index(line)))"
   ]
  },
  {
   "cell_type": "code",
   "execution_count": 54,
   "metadata": {},
   "outputs": [],
   "source": [
    "temp = 'Lorem ipsum dolor sit amet, consectetur adipiscing elit, sed do eiusmod tempor incididunt ut labore et dolore magna aliqua'\n",
    "temp = temp.lower()\n",
    "temp2 = ''\n",
    "for t in temp:\n",
    "    if t.isalpha():\n",
    "        temp2 += t"
   ]
  },
  {
   "cell_type": "code",
   "execution_count": null,
   "metadata": {},
   "outputs": [],
   "source": [
    "for letter, c in all_costs:\n",
    "    if letter_cost[letter] > cost:\n",
    "        letter_cost[letter] = cost\n",
    "\n",
    "print(letter_cost)\n",
    "            \n",
    "s = 0\n",
    "for letter in pattern:\n",
    "    s += letter_cost[letter]"
   ]
  },
  {
   "cell_type": "code",
   "execution_count": 69,
   "metadata": {},
   "outputs": [],
   "source": [
    "def cost_finder(essays, pattern):\n",
    "    total_cost = 0\n",
    "    letter_cost = {k: float('-inf') for k in string.ascii_lowercase}\n",
    "    for essay, cost in essays:\n",
    "        for letter in essay:\n",
    "            if letter_cost[letter] < cost:\n",
    "                letter_cost[letter] = cost\n",
    "                \n",
    "                \n",
    "    for letter in pattern:\n",
    "        total_cost += letter_cost[letter]\n",
    "    return total_cost if total_cost != float('inf') else -1"
   ]
  },
  {
   "cell_type": "code",
   "execution_count": 70,
   "metadata": {},
   "outputs": [
    {
     "data": {
      "text/plain": [
       "31926"
      ]
     },
     "execution_count": 70,
     "metadata": {},
     "output_type": "execute_result"
    }
   ],
   "source": [
    "cost_finder(all_costs, temp2)"
   ]
  },
  {
   "cell_type": "code",
   "execution_count": null,
   "metadata": {},
   "outputs": [],
   "source": []
  },
  {
   "cell_type": "code",
   "execution_count": null,
   "metadata": {},
   "outputs": [],
   "source": []
  },
  {
   "cell_type": "code",
   "execution_count": 74,
   "metadata": {},
   "outputs": [],
   "source": [
    "import numpy as np\n",
    "import math\n",
    "import pandas as pd"
   ]
  },
  {
   "cell_type": "code",
   "execution_count": 77,
   "metadata": {},
   "outputs": [
    {
     "data": {
      "text/html": [
       "<div>\n",
       "<style scoped>\n",
       "    .dataframe tbody tr th:only-of-type {\n",
       "        vertical-align: middle;\n",
       "    }\n",
       "\n",
       "    .dataframe tbody tr th {\n",
       "        vertical-align: top;\n",
       "    }\n",
       "\n",
       "    .dataframe thead th {\n",
       "        text-align: right;\n",
       "    }\n",
       "</style>\n",
       "<table border=\"1\" class=\"dataframe\">\n",
       "  <thead>\n",
       "    <tr style=\"text-align: right;\">\n",
       "      <th></th>\n",
       "      <th>x</th>\n",
       "      <th>F</th>\n",
       "    </tr>\n",
       "  </thead>\n",
       "  <tbody>\n",
       "    <tr>\n",
       "      <th>0</th>\n",
       "      <td>8.575477</td>\n",
       "      <td>149.594442</td>\n",
       "    </tr>\n",
       "    <tr>\n",
       "      <th>1</th>\n",
       "      <td>3.527397</td>\n",
       "      <td>28.858185</td>\n",
       "    </tr>\n",
       "    <tr>\n",
       "      <th>2</th>\n",
       "      <td>9.083400</td>\n",
       "      <td>167.519864</td>\n",
       "    </tr>\n",
       "    <tr>\n",
       "      <th>3</th>\n",
       "      <td>5.172327</td>\n",
       "      <td>62.629772</td>\n",
       "    </tr>\n",
       "    <tr>\n",
       "      <th>4</th>\n",
       "      <td>7.194611</td>\n",
       "      <td>109.781949</td>\n",
       "    </tr>\n",
       "  </tbody>\n",
       "</table>\n",
       "</div>"
      ],
      "text/plain": [
       "          x           F\n",
       "0  8.575477  149.594442\n",
       "1  3.527397   28.858185\n",
       "2  9.083400  167.519864\n",
       "3  5.172327   62.629772\n",
       "4  7.194611  109.781949"
      ]
     },
     "execution_count": 77,
     "metadata": {},
     "output_type": "execute_result"
    }
   ],
   "source": [
    "data = pd.read_csv('hw60.csv', header=None)\n",
    "data = data.rename(columns={0:'x', 1:'F'})\n",
    "data.head()"
   ]
  },
  {
   "cell_type": "code",
   "execution_count": 83,
   "metadata": {},
   "outputs": [
    {
     "name": "stdout",
     "output_type": "stream",
     "text": [
      "3.0094195905141827 2.0762435392114145 5.847551404316132 6.052187778582045\n"
     ]
    }
   ],
   "source": [
    "class YandexSolver:\n",
    "    a, b, c, d = 1, 1, 1, 1\n",
    "    lr = 0.0001\n",
    "    def f(self, x, *args):\n",
    "        # print(args)\n",
    "        if len(args) > 0:\n",
    "            a, b, c, d = args\n",
    "        else:\n",
    "            a, b, c, d = self.a, self.b, self.c, self.d\n",
    "        return a * math.cos(x) + b * x ** 2 + c * math.sin(x) + d\n",
    "\n",
    "    def der(self, x, F, param='a'):\n",
    "        delta = 0.0001    \n",
    "        f1 = self.f(x)\n",
    "        if param == 'a':\n",
    "            f2 = self.f(x, self.a + delta, self.b, self.c, self.d)\n",
    "        elif param == 'b':\n",
    "            f2 = self.f(x, self.a, self.b + delta, self.c, self.d)\n",
    "        elif param == 'с':\n",
    "            f2 = self.f(x, self.a, self.b, self.c + delta, self.d)\n",
    "        else:\n",
    "            f2 = self.f(x, self.a, self.b, self.c, self.d + delta)\n",
    "            \n",
    "        e1 = (F - f1) ** 2\n",
    "        e2 = (F - f2) ** 2\n",
    "        return (e2 - e1) / delta\n",
    "    \n",
    "    def fit(self, X, F, epochs=1):\n",
    "        for _ in range(epochs):\n",
    "            for x, f in zip(X, F):\n",
    "                self.a -= self.lr * self.der(x, f, param='a')\n",
    "                self.b -= self.lr * self.der(x, f, param='b')\n",
    "                self.c -= self.lr * self.der(x, f, param='c')\n",
    "                self.d -= self.lr * self.der(x, f, param='d')\n",
    "        print(self.a, self.b, self.c, self.d)\n",
    "\n",
    "solver = YandexSolver()\n",
    "solver.fit(data.x, data.F, epochs=200)"
   ]
  }
 ],
 "metadata": {
  "kernelspec": {
   "display_name": "Python 3",
   "language": "python",
   "name": "python3"
  },
  "language_info": {
   "codemirror_mode": {
    "name": "ipython",
    "version": 3
   },
   "file_extension": ".py",
   "mimetype": "text/x-python",
   "name": "python",
   "nbconvert_exporter": "python",
   "pygments_lexer": "ipython3",
   "version": "3.8.3"
  }
 },
 "nbformat": 4,
 "nbformat_minor": 4
}
