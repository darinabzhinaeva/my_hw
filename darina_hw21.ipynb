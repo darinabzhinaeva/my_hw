{
 "cells": [
  {
   "cell_type": "code",
   "execution_count": 1,
   "metadata": {},
   "outputs": [],
   "source": [
    "import pandas as pd"
   ]
  },
  {
   "cell_type": "code",
   "execution_count": 17,
   "metadata": {},
   "outputs": [],
   "source": [
    "df = pd.read_csv('tp_data.csv')"
   ]
  },
  {
   "cell_type": "code",
   "execution_count": 5,
   "metadata": {},
   "outputs": [],
   "source": [
    "y_pred = df['y_pred']"
   ]
  },
  {
   "cell_type": "code",
   "execution_count": 6,
   "metadata": {},
   "outputs": [],
   "source": [
    "def my_mean(x):\n",
    "    return sum(x)/len(x)\n",
    "\n",
    "def my_stdv(x):\n",
    "    return (sum([(xi - my_mean(x))**2 for xi in x]) / (len(x) - 1))**0.5"
   ]
  },
  {
   "cell_type": "code",
   "execution_count": 7,
   "metadata": {},
   "outputs": [
    {
     "name": "stdout",
     "output_type": "stream",
     "text": [
      "0.502\n",
      "0.5000210016591433\n"
     ]
    }
   ],
   "source": [
    "print(my_mean(y_pred))\n",
    "print(my_stdv(y_pred))"
   ]
  },
  {
   "cell_type": "code",
   "execution_count": 19,
   "metadata": {},
   "outputs": [],
   "source": [
    "TP = 0\n",
    "FP = 0\n",
    "TN = 0\n",
    "FN = 0\n",
    "\n",
    "for _, i in df.iterrows():\n",
    "    y_pred = i[0]\n",
    "    y_true = i[1]\n",
    "    if y_pred == y_true and y_pred > 0:\n",
    "        TP += 1\n",
    "    elif y_pred != y_true and y_pred > 0:\n",
    "        FP += 1\n",
    "    elif y_pred == y_true and y_pred < 0:\n",
    "        TN += 1\n",
    "    else:\n",
    "        FN += 1"
   ]
  },
  {
   "cell_type": "code",
   "execution_count": 21,
   "metadata": {},
   "outputs": [
    {
     "name": "stdout",
     "output_type": "stream",
     "text": [
      "0.499601593625498 0.3349358974358974\n"
     ]
    }
   ],
   "source": [
    "recall = TP / (TP + FN)\n",
    "prec = TP / (TP + FP)\n",
    "print(prec, recall)"
   ]
  }
 ],
 "metadata": {
  "kernelspec": {
   "display_name": "Python 3",
   "language": "python",
   "name": "python3"
  },
  "language_info": {
   "codemirror_mode": {
    "name": "ipython",
    "version": 3
   },
   "file_extension": ".py",
   "mimetype": "text/x-python",
   "name": "python",
   "nbconvert_exporter": "python",
   "pygments_lexer": "ipython3",
   "version": "3.8.3"
  }
 },
 "nbformat": 4,
 "nbformat_minor": 4
}
