{
 "cells": [
  {
   "cell_type": "code",
   "execution_count": 2,
   "metadata": {},
   "outputs": [
    {
     "data": {
      "text/plain": [
       "{'a': inf,\n",
       " 'b': inf,\n",
       " 'c': inf,\n",
       " 'd': inf,\n",
       " 'e': inf,\n",
       " 'f': inf,\n",
       " 'g': inf,\n",
       " 'h': inf,\n",
       " 'i': inf,\n",
       " 'j': inf,\n",
       " 'k': inf,\n",
       " 'l': inf,\n",
       " 'm': inf,\n",
       " 'n': inf,\n",
       " 'o': inf,\n",
       " 'p': inf,\n",
       " 'q': inf,\n",
       " 'r': inf,\n",
       " 's': inf,\n",
       " 't': inf,\n",
       " 'u': inf,\n",
       " 'v': inf,\n",
       " 'w': inf,\n",
       " 'x': inf,\n",
       " 'y': inf,\n",
       " 'z': inf}"
      ]
     },
     "execution_count": 2,
     "metadata": {},
     "output_type": "execute_result"
    }
   ],
   "source": [
    "import string\n",
    "a = {k: float('inf') for k in string.ascii_lowercase}\n",
    "a"
   ]
  },
  {
   "cell_type": "code",
   "execution_count": 4,
   "metadata": {},
   "outputs": [
    {
     "data": {
      "text/plain": [
       "{-10: 0.0009765625,\n",
       " -9: 0.001953125,\n",
       " -8: 0.00390625,\n",
       " -7: 0.0078125,\n",
       " -6: 0.015625,\n",
       " -5: 0.03125,\n",
       " -4: 0.0625,\n",
       " -3: 0.125,\n",
       " -2: 0.25,\n",
       " -1: 0.5,\n",
       " 0: 1,\n",
       " 1: 2,\n",
       " 2: 4,\n",
       " 3: 8,\n",
       " 4: 16,\n",
       " 5: 32,\n",
       " 6: 64,\n",
       " 7: 128,\n",
       " 8: 256,\n",
       " 9: 512}"
      ]
     },
     "execution_count": 4,
     "metadata": {},
     "output_type": "execute_result"
    }
   ],
   "source": [
    "b = {l: 2 ** l for l in range(-10, 10)}\n",
    "b"
   ]
  },
  {
   "cell_type": "markdown",
   "metadata": {},
   "source": [
    "the essays to difine cost of every letter:  \n",
    "    [the, quick, brown, fox, jumps, over, the, lazy, dog]\n",
    "    \n",
    "or\n",
    "    [q, w, e, r, t, y, u, i, o, p, a, s, d, f, g, h, j, k, l, z, x, c, v, b, n, m]"
   ]
  }
 ],
 "metadata": {
  "kernelspec": {
   "display_name": "Python 3",
   "language": "python",
   "name": "python3"
  },
  "language_info": {
   "codemirror_mode": {
    "name": "ipython",
    "version": 3
   },
   "file_extension": ".py",
   "mimetype": "text/x-python",
   "name": "python",
   "nbconvert_exporter": "python",
   "pygments_lexer": "ipython3",
   "version": "3.8.3"
  }
 },
 "nbformat": 4,
 "nbformat_minor": 4
}
