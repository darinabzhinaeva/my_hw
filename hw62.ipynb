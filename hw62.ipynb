{
 "cells": [
  {
   "cell_type": "code",
   "execution_count": 6,
   "metadata": {},
   "outputs": [],
   "source": [
    "#mean rating\n",
    "m = (3 + 4 + 5 + 4)/4"
   ]
  },
  {
   "cell_type": "code",
   "execution_count": 12,
   "metadata": {},
   "outputs": [
    {
     "data": {
      "text/plain": [
       "4.24"
      ]
     },
     "execution_count": 12,
     "metadata": {},
     "output_type": "execute_result"
    }
   ],
   "source": [
    "#user 0, item 0\n",
    "\n",
    "r1 = m + 0 + 0.3 + (0.1 * -0.1 + 0.2 * 0.2 + 0.3 * -0.3)\n",
    "r1"
   ]
  },
  {
   "cell_type": "code",
   "execution_count": 17,
   "metadata": {},
   "outputs": [
    {
     "data": {
      "text/plain": [
       "4.470000000000001"
      ]
     },
     "execution_count": 17,
     "metadata": {},
     "output_type": "execute_result"
    }
   ],
   "source": [
    "#user 1, item 1\n",
    "\n",
    "r2 = m + 0.5 + (-0.3) + (0.4 * 0.4 + 0.5 * -0.5 + 0.6 * 0.6)\n",
    "r2"
   ]
  },
  {
   "cell_type": "code",
   "execution_count": 19,
   "metadata": {},
   "outputs": [
    {
     "data": {
      "text/plain": [
       "3.8200000000000003"
      ]
     },
     "execution_count": 19,
     "metadata": {},
     "output_type": "execute_result"
    }
   ],
   "source": [
    "# user 0, item 1\n",
    "\n",
    "r3 = m + 0 + (-0.3) + (0.1 * 0.4 + 0.2 * -0.5 + 0.3 * 0.6)\n",
    "r3"
   ]
  },
  {
   "cell_type": "code",
   "execution_count": 20,
   "metadata": {},
   "outputs": [
    {
     "data": {
      "text/plain": [
       "4.68"
      ]
     },
     "execution_count": 20,
     "metadata": {},
     "output_type": "execute_result"
    }
   ],
   "source": [
    "# user 1, item 0\n",
    "\n",
    "r4 = m + 0.5 + 0.3 + (0.4 * -0.1 + 0.5 * 0.2 + 0.6 * -0.3)\n",
    "r4"
   ]
  },
  {
   "cell_type": "code",
   "execution_count": 21,
   "metadata": {},
   "outputs": [
    {
     "data": {
      "text/plain": [
       "3.6199999999999997"
      ]
     },
     "execution_count": 21,
     "metadata": {},
     "output_type": "execute_result"
    }
   ],
   "source": [
    "# user 2, item 0\n",
    "\n",
    "r5 = m + (-0.5) + 0.3 + (0.7 * -0.1 + 0.8 * 0.2 + 0.9 * -0.3)\n",
    "r5"
   ]
  },
  {
   "cell_type": "code",
   "execution_count": 22,
   "metadata": {},
   "outputs": [
    {
     "data": {
      "text/plain": [
       "3.62"
      ]
     },
     "execution_count": 22,
     "metadata": {},
     "output_type": "execute_result"
    }
   ],
   "source": [
    "# user 2, item 1\n",
    "\n",
    "r6 = m + (-0.5) + (-0.3) + (0.7 * 0.4 + 0.8 * -0.5 + 0.9 * 0.6)\n",
    "r6"
   ]
  },
  {
   "cell_type": "markdown",
   "metadata": {},
   "source": [
    "shape of user matrix is (124, 13)   \n",
    "124 rows and 13 columns; rows are number of users , columns are number of components"
   ]
  },
  {
   "cell_type": "markdown",
   "metadata": {},
   "source": [
    "shape of item matrix is (13, 31)    \n",
    "13 rows and 31 columns; rows are number of components , columns are number of items"
   ]
  }
 ],
 "metadata": {
  "kernelspec": {
   "display_name": "Python 3",
   "language": "python",
   "name": "python3"
  },
  "language_info": {
   "codemirror_mode": {
    "name": "ipython",
    "version": 3
   },
   "file_extension": ".py",
   "mimetype": "text/x-python",
   "name": "python",
   "nbconvert_exporter": "python",
   "pygments_lexer": "ipython3",
   "version": "3.8.3"
  }
 },
 "nbformat": 4,
 "nbformat_minor": 4
}
