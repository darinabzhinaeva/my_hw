{
 "cells": [
  {
   "cell_type": "code",
   "execution_count": 2,
   "metadata": {},
   "outputs": [],
   "source": [
    "import lightfm\n",
    "import pandas as pd"
   ]
  },
  {
   "cell_type": "code",
   "execution_count": 12,
   "metadata": {},
   "outputs": [],
   "source": [
    "items = pd.read_csv('./u.item', sep=\"|\", header=None)\n",
    "items.columns = [\"movie_id\", \"movie_title\", \"release_date\", \"video_release_date\",\n",
    "              \"IMDb_URL\", \"unknown\", \"Action\", \"Adventure\",\"Animation\",\n",
    "              \"Children's\", \"Comedy\", \"Crime\", \"Documentary\", \"Drama\", \"Fantasy\",\n",
    "              \"Film-Noir\", \"Horror\", \"Musical\", \"Mystery\", \"Romance\", \"Sci-Fi\",\n",
    "              \"Thriller\", \"War\", \"Western\"]\n",
    "items.movie_id -= 1\n",
    "items = items.set_index('movie_id')\n",
    "all_ratings = pd.read_csv('./u.data', sep=\"\\t\", header=None)\n",
    "all_ratings.columns = ['user_id', 'item_id', 'rating', 'timestamp']\n",
    "all_ratings.user_id = all_ratings.user_id - 1\n",
    "all_ratings.item_id = all_ratings.item_id - 1\n",
    "all_ratings = all_ratings.drop(['timestamp'], axis=1)"
   ]
  },
  {
   "cell_type": "code",
   "execution_count": 5,
   "metadata": {},
   "outputs": [
    {
     "data": {
      "text/html": [
       "<div>\n",
       "<style scoped>\n",
       "    .dataframe tbody tr th:only-of-type {\n",
       "        vertical-align: middle;\n",
       "    }\n",
       "\n",
       "    .dataframe tbody tr th {\n",
       "        vertical-align: top;\n",
       "    }\n",
       "\n",
       "    .dataframe thead th {\n",
       "        text-align: right;\n",
       "    }\n",
       "</style>\n",
       "<table border=\"1\" class=\"dataframe\">\n",
       "  <thead>\n",
       "    <tr style=\"text-align: right;\">\n",
       "      <th></th>\n",
       "      <th>user_id</th>\n",
       "      <th>item_id</th>\n",
       "      <th>rating</th>\n",
       "      <th>timestamp</th>\n",
       "    </tr>\n",
       "  </thead>\n",
       "  <tbody>\n",
       "    <tr>\n",
       "      <th>0</th>\n",
       "      <td>0</td>\n",
       "      <td>0</td>\n",
       "      <td>5</td>\n",
       "      <td>874965758</td>\n",
       "    </tr>\n",
       "    <tr>\n",
       "      <th>1</th>\n",
       "      <td>0</td>\n",
       "      <td>1</td>\n",
       "      <td>3</td>\n",
       "      <td>876893171</td>\n",
       "    </tr>\n",
       "    <tr>\n",
       "      <th>2</th>\n",
       "      <td>0</td>\n",
       "      <td>2</td>\n",
       "      <td>4</td>\n",
       "      <td>878542960</td>\n",
       "    </tr>\n",
       "    <tr>\n",
       "      <th>3</th>\n",
       "      <td>0</td>\n",
       "      <td>3</td>\n",
       "      <td>3</td>\n",
       "      <td>876893119</td>\n",
       "    </tr>\n",
       "    <tr>\n",
       "      <th>4</th>\n",
       "      <td>0</td>\n",
       "      <td>4</td>\n",
       "      <td>3</td>\n",
       "      <td>889751712</td>\n",
       "    </tr>\n",
       "    <tr>\n",
       "      <th>...</th>\n",
       "      <td>...</td>\n",
       "      <td>...</td>\n",
       "      <td>...</td>\n",
       "      <td>...</td>\n",
       "    </tr>\n",
       "    <tr>\n",
       "      <th>90565</th>\n",
       "      <td>942</td>\n",
       "      <td>1046</td>\n",
       "      <td>2</td>\n",
       "      <td>875502146</td>\n",
       "    </tr>\n",
       "    <tr>\n",
       "      <th>90566</th>\n",
       "      <td>942</td>\n",
       "      <td>1073</td>\n",
       "      <td>4</td>\n",
       "      <td>888640250</td>\n",
       "    </tr>\n",
       "    <tr>\n",
       "      <th>90567</th>\n",
       "      <td>942</td>\n",
       "      <td>1187</td>\n",
       "      <td>3</td>\n",
       "      <td>888640250</td>\n",
       "    </tr>\n",
       "    <tr>\n",
       "      <th>90568</th>\n",
       "      <td>942</td>\n",
       "      <td>1227</td>\n",
       "      <td>3</td>\n",
       "      <td>888640275</td>\n",
       "    </tr>\n",
       "    <tr>\n",
       "      <th>90569</th>\n",
       "      <td>942</td>\n",
       "      <td>1329</td>\n",
       "      <td>3</td>\n",
       "      <td>888692465</td>\n",
       "    </tr>\n",
       "  </tbody>\n",
       "</table>\n",
       "<p>90570 rows × 4 columns</p>\n",
       "</div>"
      ],
      "text/plain": [
       "       user_id  item_id  rating  timestamp\n",
       "0            0        0       5  874965758\n",
       "1            0        1       3  876893171\n",
       "2            0        2       4  878542960\n",
       "3            0        3       3  876893119\n",
       "4            0        4       3  889751712\n",
       "...        ...      ...     ...        ...\n",
       "90565      942     1046       2  875502146\n",
       "90566      942     1073       4  888640250\n",
       "90567      942     1187       3  888640250\n",
       "90568      942     1227       3  888640275\n",
       "90569      942     1329       3  888692465\n",
       "\n",
       "[90570 rows x 4 columns]"
      ]
     },
     "execution_count": 5,
     "metadata": {},
     "output_type": "execute_result"
    }
   ],
   "source": [
    "train = pd.read_csv('./ua.base', sep=\"\\t\", header=None)\n",
    "train.columns = ['user_id', 'item_id', 'rating', 'timestamp']\n",
    "train.user_id = train.user_id - 1\n",
    "train.item_id = train.item_id - 1\n",
    "train"
   ]
  },
  {
   "cell_type": "code",
   "execution_count": 6,
   "metadata": {},
   "outputs": [
    {
     "data": {
      "text/html": [
       "<div>\n",
       "<style scoped>\n",
       "    .dataframe tbody tr th:only-of-type {\n",
       "        vertical-align: middle;\n",
       "    }\n",
       "\n",
       "    .dataframe tbody tr th {\n",
       "        vertical-align: top;\n",
       "    }\n",
       "\n",
       "    .dataframe thead th {\n",
       "        text-align: right;\n",
       "    }\n",
       "</style>\n",
       "<table border=\"1\" class=\"dataframe\">\n",
       "  <thead>\n",
       "    <tr style=\"text-align: right;\">\n",
       "      <th></th>\n",
       "      <th>user_id</th>\n",
       "      <th>item_id</th>\n",
       "      <th>rating</th>\n",
       "      <th>timestamp</th>\n",
       "    </tr>\n",
       "  </thead>\n",
       "  <tbody>\n",
       "    <tr>\n",
       "      <th>0</th>\n",
       "      <td>0</td>\n",
       "      <td>19</td>\n",
       "      <td>4</td>\n",
       "      <td>887431883</td>\n",
       "    </tr>\n",
       "    <tr>\n",
       "      <th>1</th>\n",
       "      <td>0</td>\n",
       "      <td>32</td>\n",
       "      <td>4</td>\n",
       "      <td>878542699</td>\n",
       "    </tr>\n",
       "    <tr>\n",
       "      <th>2</th>\n",
       "      <td>0</td>\n",
       "      <td>60</td>\n",
       "      <td>4</td>\n",
       "      <td>878542420</td>\n",
       "    </tr>\n",
       "    <tr>\n",
       "      <th>3</th>\n",
       "      <td>0</td>\n",
       "      <td>116</td>\n",
       "      <td>3</td>\n",
       "      <td>874965739</td>\n",
       "    </tr>\n",
       "    <tr>\n",
       "      <th>4</th>\n",
       "      <td>0</td>\n",
       "      <td>154</td>\n",
       "      <td>2</td>\n",
       "      <td>878542201</td>\n",
       "    </tr>\n",
       "    <tr>\n",
       "      <th>...</th>\n",
       "      <td>...</td>\n",
       "      <td>...</td>\n",
       "      <td>...</td>\n",
       "      <td>...</td>\n",
       "    </tr>\n",
       "    <tr>\n",
       "      <th>9425</th>\n",
       "      <td>942</td>\n",
       "      <td>231</td>\n",
       "      <td>4</td>\n",
       "      <td>888639867</td>\n",
       "    </tr>\n",
       "    <tr>\n",
       "      <th>9426</th>\n",
       "      <td>942</td>\n",
       "      <td>355</td>\n",
       "      <td>4</td>\n",
       "      <td>888639598</td>\n",
       "    </tr>\n",
       "    <tr>\n",
       "      <th>9427</th>\n",
       "      <td>942</td>\n",
       "      <td>569</td>\n",
       "      <td>1</td>\n",
       "      <td>888640125</td>\n",
       "    </tr>\n",
       "    <tr>\n",
       "      <th>9428</th>\n",
       "      <td>942</td>\n",
       "      <td>807</td>\n",
       "      <td>4</td>\n",
       "      <td>888639868</td>\n",
       "    </tr>\n",
       "    <tr>\n",
       "      <th>9429</th>\n",
       "      <td>942</td>\n",
       "      <td>1066</td>\n",
       "      <td>2</td>\n",
       "      <td>875501756</td>\n",
       "    </tr>\n",
       "  </tbody>\n",
       "</table>\n",
       "<p>9430 rows × 4 columns</p>\n",
       "</div>"
      ],
      "text/plain": [
       "      user_id  item_id  rating  timestamp\n",
       "0           0       19       4  887431883\n",
       "1           0       32       4  878542699\n",
       "2           0       60       4  878542420\n",
       "3           0      116       3  874965739\n",
       "4           0      154       2  878542201\n",
       "...       ...      ...     ...        ...\n",
       "9425      942      231       4  888639867\n",
       "9426      942      355       4  888639598\n",
       "9427      942      569       1  888640125\n",
       "9428      942      807       4  888639868\n",
       "9429      942     1066       2  875501756\n",
       "\n",
       "[9430 rows x 4 columns]"
      ]
     },
     "execution_count": 6,
     "metadata": {},
     "output_type": "execute_result"
    }
   ],
   "source": [
    "test = pd.read_csv('./ua.test', sep=\"\\t\", header=None)\n",
    "test.columns = ['user_id', 'item_id', 'rating', 'timestamp']\n",
    "test.user_id = test.user_id - 1\n",
    "test.item_id = test.item_id - 1\n",
    "test"
   ]
  },
  {
   "cell_type": "code",
   "execution_count": 7,
   "metadata": {},
   "outputs": [],
   "source": [
    "train = train.drop(['timestamp'], axis=1)\n",
    "test = test.drop(['timestamp'], axis=1)"
   ]
  },
  {
   "cell_type": "code",
   "execution_count": 13,
   "metadata": {},
   "outputs": [],
   "source": [
    "from lightfm.data import Dataset\n",
    "import numpy as np\n",
    "dataset = Dataset()\n",
    "dataset.fit(users=np.unique(all_ratings['user_id']), items=np.unique(all_ratings['item_id']))"
   ]
  },
  {
   "cell_type": "code",
   "execution_count": 14,
   "metadata": {},
   "outputs": [],
   "source": [
    "_, interactions_train = dataset.build_interactions([tuple(i) for i in train.to_numpy()])\n",
    "_, interactions_test = dataset.build_interactions([tuple(i) for i in test.to_numpy()])"
   ]
  },
  {
   "cell_type": "code",
   "execution_count": 18,
   "metadata": {},
   "outputs": [],
   "source": [
    "from lightfm import LightFM\n",
    "from lightfm.evaluation import auc_score\n",
    "from lightfm.evaluation import reciprocal_rank"
   ]
  },
  {
   "cell_type": "code",
   "execution_count": 22,
   "metadata": {},
   "outputs": [
    {
     "name": "stdout",
     "output_type": "stream",
     "text": [
      "[0.9015784, 0.92241573, 0.94026756, 0.9844653, 0.9925409, 0.99656963, 0.99928147]\n",
      "[0.8767, 0.89527726, 0.90667474, 0.88874775, 0.878335, 0.86915135, 0.8596983]\n"
     ]
    }
   ],
   "source": [
    "components = [1, 2, 5, 50, 75, 100, 150]\n",
    "train_result,test_result  = [], []\n",
    "for i in components:\n",
    "    model = LightFM(loss='warp', no_components=i, random_state=42)\n",
    "    model.fit(interactions_train, epochs=50, num_threads=2)\n",
    "    train_result.append(auc_score(model, interactions_train).mean())\n",
    "    test_result.append(auc_score(model, interactions_test).mean())\n",
    "print(train_result)\n",
    "print(test_result)"
   ]
  },
  {
   "cell_type": "code",
   "execution_count": 26,
   "metadata": {},
   "outputs": [
    {
     "data": {
      "text/plain": [
       "[<matplotlib.lines.Line2D at 0x2153763cf40>]"
      ]
     },
     "execution_count": 26,
     "metadata": {},
     "output_type": "execute_result"
    },
    {
     "data": {
      "image/png": "[encoded data removed]",
      "text/plain": [
       "<Figure size 432x288 with 1 Axes>"
      ]
     },
     "metadata": {
      "needs_background": "light"
     },
     "output_type": "display_data"
    }
   ],
   "source": [
    "import matplotlib.pyplot as plt\n",
    "plt.plot([1, 2, 3, 4, 5, 6, 7], train_result, marker='o')"
   ]
  },
  {
   "cell_type": "code",
   "execution_count": 29,
   "metadata": {},
   "outputs": [
    {
     "data": {
      "text/plain": [
       "[<matplotlib.lines.Line2D at 0x215376b0520>]"
      ]
     },
     "execution_count": 29,
     "metadata": {},
     "output_type": "execute_result"
    },
    {
     "data": {
      "image/png": "[encoded data removed]",
      "text/plain": [
       "<Figure size 432x288 with 1 Axes>"
      ]
     },
     "metadata": {
      "needs_background": "light"
     },
     "output_type": "display_data"
    }
   ],
   "source": [
    "plt.plot([1, 2, 3, 4, 5, 6, 7], test_result, marker='o')"
   ]
  },
  {
   "cell_type": "code",
   "execution_count": 31,
   "metadata": {},
   "outputs": [],
   "source": [
    "def my_prediction(mod, us_ids, it_ids):\n",
    "    res = []\n",
    "    for i in range(len(us_ids)):\n",
    "        user_baseline = model.get_user_representations()[0][i]\n",
    "        user_factors = model.get_user_representations()[1][i]\n",
    "        item_baseline = model.get_item_representations()[0][i]\n",
    "        item_factors = model.get_item_representations()[1][i]\n",
    "        res.append((user_factors + user_baseline) * (item_baseline + item_factors)) \n",
    "    return res"
   ]
  },
  {
   "cell_type": "code",
   "execution_count": 32,
   "metadata": {},
   "outputs": [
    {
     "data": {
      "text/plain": [
       "[array([-27.873934, -25.469942, -17.688992, -16.37778 , -20.466913],\n",
       "       dtype=float32),\n",
       " array([-4.111303  ,  1.5319715 , -0.38307774, -2.8991787 , -0.73404837],\n",
       "       dtype=float32),\n",
       " array([-5.0035577 , -2.7078686 , -0.79530203, -2.3834884 , -3.2761798 ],\n",
       "       dtype=float32),\n",
       " array([-4.8357797 ,  0.05437054, -1.44456   , -0.74709773, -0.88413876],\n",
       "       dtype=float32),\n",
       " array([-5.893878 ,  1.9485235, -3.2191722, -6.937865 , -7.007372 ],\n",
       "       dtype=float32),\n",
       " array([ 7.201951  , -1.5066508 , -1.5990702 ,  8.160998  ,  0.03233226],\n",
       "       dtype=float32),\n",
       " array([-32.423733, -20.57108 , -19.171684, -15.343105, -32.666653],\n",
       "       dtype=float32),\n",
       " array([-6.4603324, -6.584987 , -4.8702826, -2.3532405, -1.826469 ],\n",
       "       dtype=float32),\n",
       " array([-4.940209 , -5.594642 , -4.4940367, -3.3971498, -3.7740119],\n",
       "       dtype=float32),\n",
       " array([-2.248712 , -7.503539 , -3.6313546,  4.429342 , -5.234668 ],\n",
       "       dtype=float32)]"
      ]
     },
     "execution_count": 32,
     "metadata": {},
     "output_type": "execute_result"
    }
   ],
   "source": [
    "model = LightFM(loss='warp', no_components=5, random_state=42)\n",
    "model.fit(interactions_train, epochs=50, num_threads=2)\n",
    "u_ids = np.array([1, 2, 3, 4, 5, 6, 7, 8, 9, 10])\n",
    "i_ids = np.array([1, 2, 3, 4, 5, 6, 7, 8, 9, 10])\n",
    "my_prediction(model, u_ids, i_ids)"
   ]
  }
 ],
 "metadata": {
  "kernelspec": {
   "display_name": "Python 3",
   "language": "python",
   "name": "python3"
  },
  "language_info": {
   "codemirror_mode": {
    "name": "ipython",
    "version": 3
   },
   "file_extension": ".py",
   "mimetype": "text/x-python",
   "name": "python",
   "nbconvert_exporter": "python",
   "pygments_lexer": "ipython3",
   "version": "3.8.3"
  }
 },
 "nbformat": 4,
 "nbformat_minor": 4
}
