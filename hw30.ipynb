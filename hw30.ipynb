{
 "cells": [
  {
   "cell_type": "markdown",
   "metadata": {},
   "source": [
    "for example, we have something like this chart of our classifier:\n",
    "\n",
    "\n",
    "              classified as human                                             classified as robot\n",
    "                                                      |                                                                     \n",
    "                20 robots                             |                          30 robots                                \n",
    "                40 persons                            |                          10 persons                                    \n",
    "                                                      |                                             \n",
    "                                                      \n",
    "                                                      \n",
    "TP :\n",
    "'Positive' means that the classified items are on the right side of my line(our threshhold)\n",
    "'True' means that we recognized the class correctly. Our class on right side is ROBOTS, so our TP is 30 robots\n",
    "\n",
    "FP :\n",
    "'Positive' means that the classified items are on the right side of my line(our threshhold)\n",
    "'False' means that we recognized the class incorrectly. Our class on right side is ROBOTS, but we recognized 10 persons as robots, so our FP is 10 persons\n",
    "\n",
    "TN :\n",
    "'Negative' means that the classified items are on the left side of my line(pur threshhold)\n",
    "'True' means that we recognized the class correctly. Our class on left side is PERSONS, so our TN is 40 persons\n",
    "\n",
    "FN :\n",
    "'Negative' means that the classified items are on the left side of my line(pur threshhold)\n",
    "'False' means that we recognized the class incorrectly. Our class on left side is PERSONS, but we recognized 20 robots as persons, so our FN is 20 robots\n",
    "\n",
    "    \n",
    "in our function PRECISION we have:\n",
    "1) TP = sum(data[threshold:]) \n",
    "it means that, we take our positive-classified items, wich are located on the right side of threshold('data[threshold:]' means that we take all numbers from threshold to the end). After that wecalculate the sum of this numbers, because our positice items are 1, so to calculate all true positive numbers we need to calculate the sum of 1 on the right side of data\n",
    "\n",
    "2) FP = len(data[threshold:]) - TP\n",
    "it means that, we take our positive-classified items, wich are located on the right side of threshold('data[threshold:]' means that we take all numbers from threshold to the end). After that we calculate the length of this list, to get the number of all positive numbers, and we substract TP, because our positive numbers consist of TP and FP, and to get FP we need substract TP\n",
    "\n",
    "\n",
    "\n",
    "    \n",
    "in our function RECALL we have:\n",
    "1) TP is calculated like i explained before, they are similar\n",
    "2) FN = sum(data[:threshold])\n",
    "it means that, we take all negative-classified numbers, wich are located on the left side of threshold('data[:threshold]' means that we take all numbers from the beginning to the threshold). After that we calculate the sum of this list, because FN means, that we classified robots as humans, and they are on the left side, and the class of robots is 1, so FN are all 1s on the left side of the threshold, so to calculate the number we need just to calculate sum of 1s"
   ]
  },
  {
   "cell_type": "code",
   "execution_count": 16,
   "metadata": {},
   "outputs": [
    {
     "name": "stdout",
     "output_type": "stream",
     "text": [
      "30 0.8333333333333333\n"
     ]
    },
    {
     "data": {
      "text/plain": [
       "<matplotlib.collections.PathCollection at 0x18108badfa0>"
      ]
     },
     "execution_count": 16,
     "metadata": {},
     "output_type": "execute_result"
    },
    {
     "data": {
      "image/png": "[encoded data removed]",
      "text/plain": [
       "<Figure size 432x288 with 1 Axes>"
      ]
     },
     "metadata": {
      "needs_background": "light"
     },
     "output_type": "display_data"
    },
    {
     "data": {
      "image/png": "[encoded data removed]",
      "text/plain": [
       "<Figure size 1440x72 with 1 Axes>"
      ]
     },
     "metadata": {
      "needs_background": "light"
     },
     "output_type": "display_data"
    }
   ],
   "source": [
    "import pandas as pd\n",
    "import numpy as np\n",
    "import matplotlib.pyplot as plt\n",
    "yandex_data =   [0] * 30 + [1] * 10 + [1] * 10 + [0] * 10 + [1] * 30  + [0] * 10\n",
    "\n",
    "# args: binary list (0-1 values) and threshold\n",
    "def precision(data, threshold):\n",
    "    # positive: data[threshold:] \n",
    "    # negative: data[:threshold]\n",
    "    TP = sum(data[threshold:]) \n",
    "    FP = len(data[threshold:]) - TP\n",
    "    if TP == 0 and FP == 0:\n",
    "        return 0\n",
    "    return TP / (TP + FP)\n",
    "\n",
    "def recall(data, threshold):\n",
    "    TP = sum(data[threshold:])\n",
    "    FN = sum(data[:threshold])\n",
    "    if TP == 0 and FN == 0:\n",
    "        return 0\n",
    "    return TP / (TP + FN)\n",
    "\n",
    "def f_score(data, threshold):\n",
    "    # print(threshold)\n",
    "    _precision = precision(data, threshold)\n",
    "    _recall = recall(data, threshold)\n",
    "    if _precision == 0 and _recall == 0:\n",
    "        return 0\n",
    "    return 2 * _precision * _recall / (_precision + _recall)\n",
    "\n",
    "\n",
    "\n",
    "X = []\n",
    "y = []\n",
    "for t in range(100):\n",
    "    X.append(t)\n",
    "    y.append(f_score(yandex_data, t))\n",
    "    #print(t, f_score(yandex_data, t))\n",
    "print(y.index(max(y)), max(y))\n",
    "threshold = y.index(max(y))\n",
    "\n",
    "plt.scatter(X, y)\n",
    "\n",
    "fig = plt.figure(figsize=(20, 1))\n",
    "plt.scatter(range(100), [0] * 100, marker='s',\n",
    "           c=['tab:green' if res == 1 else 'tab:red' for res in yandex_data], s=10)\n",
    "plt.scatter([threshold - 0.5], [0], marker='|', s=3000)"
   ]
  },
  {
   "cell_type": "code",
   "execution_count": 3,
   "metadata": {},
   "outputs": [],
   "source": [
    "# [0:40) - 30 persons, 10 robots\n",
    "# [40:60) - 10 persons, 10 robots\n",
    "# [60: 100) - 10 persons, 30 robots"
   ]
  },
  {
   "cell_type": "code",
   "execution_count": null,
   "metadata": {},
   "outputs": [],
   "source": [
    "# list, f_score, threshold\n",
    "# [0] * 30 + [1] * 10  + [0] * 10 + [1] * 10 + [1] * 30 + [0] * 10     0.83     30\n",
    "# [1] * 10 + [0] * 30  + [0] * 10 + [1] * 10 + [1] * 30 + [0] * 10     0.8      50\n",
    "# [1] * 10 + [0] * 30  + [1] * 10 + [0] * 10 + [1] * 30 + [0] * 10     0.72     40\n",
    "# [1] * 10 + [0] * 30  + [1] * 10 + [0] * 10 + [0] * 10 + [1] * 30     0.75     70\n",
    "# [0] * 30 + [1] * 10 + [0] * 10 + [1] * 10 + [0] * 10 + [1] * 30      0.83     30\n",
    "# [0] * 30 + [1] * 10 + [1] * 10 + [0] * 10 + [1] * 30 + [0] * 10      0.83     30\n",
    "# [1] * 10 + [0] * 30 + [0] * 10 + [1] * 10 + [0] * 10  + [1] * 30     0.8      50"
   ]
  }
 ],
 "metadata": {
  "kernelspec": {
   "display_name": "Python 3",
   "language": "python",
   "name": "python3"
  },
  "language_info": {
   "codemirror_mode": {
    "name": "ipython",
    "version": 3
   },
   "file_extension": ".py",
   "mimetype": "text/x-python",
   "name": "python",
   "nbconvert_exporter": "python",
   "pygments_lexer": "ipython3",
   "version": "3.8.3"
  }
 },
 "nbformat": 4,
 "nbformat_minor": 4
}
